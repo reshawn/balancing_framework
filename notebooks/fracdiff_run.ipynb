{
 "cells": [
  {
   "cell_type": "code",
   "execution_count": 1,
   "metadata": {},
   "outputs": [
    {
     "name": "stdout",
     "output_type": "stream",
     "text": [
      "/mnt/c/Users/resha/Documents/Github/balancing_framework\n"
     ]
    }
   ],
   "source": [
    "# to reload local packages when debugging\n",
    "%load_ext autoreload\n",
    "%autoreload 2\n",
    "\n",
    "%cd /mnt/c/Users/resha/Documents/Github/balancing_framework/\n",
    "\n",
    "import pickle\n",
    "import pandas as pd\n",
    "import numpy as np\n",
    "\n",
    "with open('/mnt/c/Users/resha/Documents/Github/balancing_framework/spy5m_bintp_labelled.pkl', 'rb') as f:\n",
    "    df = pickle.load(f)\n",
    "with open('/mnt/c/Users/resha/Documents/Github/balancing_framework/spy5m_labelled_episodes_ta.pkl', 'rb') as f:\n",
    "    df_ta = pickle.load(f)\n",
    "df_ta['label'] = df['tp_0.004'][df_ta.index] # ~8% rows dropped with ta"
   ]
  },
  {
   "cell_type": "code",
   "execution_count": 4,
   "metadata": {},
   "outputs": [],
   "source": [
    "from fracdiff import frac_diff_bestd, frac_diff_ffd\n",
    "\n",
    "X = df_ta.drop(columns=['label']) \n",
    "y = df['label']"
   ]
  },
  {
   "cell_type": "code",
   "execution_count": null,
   "metadata": {},
   "outputs": [
    {
     "name": "stdout",
     "output_type": "stream",
     "text": [
      "volume\n"
     ]
    },
    {
     "name": "stderr",
     "output_type": "stream",
     "text": [
      "/mnt/c/Users/resha/Documents/Github/balancing_framework/fracdiff.py:187: FutureWarning: DataFrame.fillna with 'method' is deprecated and will raise in a future version. Use obj.ffill() or obj.bfill() instead.\n",
      "  series_f = series[[name]].fillna(method='ffill').dropna()\n"
     ]
    },
    {
     "name": "stdout",
     "output_type": "stream",
     "text": [
      "volume stationary with d=0.0 stat windows =9 out of 9 p-values = [0.0, 0.0, 0.0, 0.0, 0.0, 0.0, 0.0, 0.0, 0.0]\n",
      "vwap\n"
     ]
    },
    {
     "name": "stderr",
     "output_type": "stream",
     "text": [
      "/mnt/c/Users/resha/Documents/Github/balancing_framework/fracdiff.py:187: FutureWarning: DataFrame.fillna with 'method' is deprecated and will raise in a future version. Use obj.ffill() or obj.bfill() instead.\n",
      "  series_f = series[[name]].fillna(method='ffill').dropna()\n",
      "/mnt/c/Users/resha/Documents/Github/balancing_framework/fracdiff.py:187: FutureWarning: DataFrame.fillna with 'method' is deprecated and will raise in a future version. Use obj.ffill() or obj.bfill() instead.\n",
      "  series_f = series[[name]].fillna(method='ffill').dropna()\n",
      "/mnt/c/Users/resha/Documents/Github/balancing_framework/fracdiff.py:187: FutureWarning: DataFrame.fillna with 'method' is deprecated and will raise in a future version. Use obj.ffill() or obj.bfill() instead.\n",
      "  series_f = series[[name]].fillna(method='ffill').dropna()\n",
      "/mnt/c/Users/resha/Documents/Github/balancing_framework/fracdiff.py:187: FutureWarning: DataFrame.fillna with 'method' is deprecated and will raise in a future version. Use obj.ffill() or obj.bfill() instead.\n",
      "  series_f = series[[name]].fillna(method='ffill').dropna()\n",
      "/mnt/c/Users/resha/Documents/Github/balancing_framework/fracdiff.py:187: FutureWarning: DataFrame.fillna with 'method' is deprecated and will raise in a future version. Use obj.ffill() or obj.bfill() instead.\n",
      "  series_f = series[[name]].fillna(method='ffill').dropna()\n"
     ]
    },
    {
     "name": "stdout",
     "output_type": "stream",
     "text": [
      "vwap stationary with d=0.2 stat windows =5 out of 9 p-values = [0.16963958245560473, 0.02911919676128521, 0.004348736033191869, 0.3365344157618049, 0.02263545040972876, 0.0012191752190139698, 0.3769497650363229, 0.013976652275539552, 0.07186462277628701]\n",
      "open\n"
     ]
    },
    {
     "name": "stderr",
     "output_type": "stream",
     "text": [
      "/mnt/c/Users/resha/Documents/Github/balancing_framework/fracdiff.py:187: FutureWarning: DataFrame.fillna with 'method' is deprecated and will raise in a future version. Use obj.ffill() or obj.bfill() instead.\n",
      "  series_f = series[[name]].fillna(method='ffill').dropna()\n",
      "/mnt/c/Users/resha/Documents/Github/balancing_framework/fracdiff.py:187: FutureWarning: DataFrame.fillna with 'method' is deprecated and will raise in a future version. Use obj.ffill() or obj.bfill() instead.\n",
      "  series_f = series[[name]].fillna(method='ffill').dropna()\n",
      "/mnt/c/Users/resha/Documents/Github/balancing_framework/fracdiff.py:187: FutureWarning: DataFrame.fillna with 'method' is deprecated and will raise in a future version. Use obj.ffill() or obj.bfill() instead.\n",
      "  series_f = series[[name]].fillna(method='ffill').dropna()\n",
      "/mnt/c/Users/resha/Documents/Github/balancing_framework/fracdiff.py:187: FutureWarning: DataFrame.fillna with 'method' is deprecated and will raise in a future version. Use obj.ffill() or obj.bfill() instead.\n",
      "  series_f = series[[name]].fillna(method='ffill').dropna()\n",
      "/mnt/c/Users/resha/Documents/Github/balancing_framework/fracdiff.py:187: FutureWarning: DataFrame.fillna with 'method' is deprecated and will raise in a future version. Use obj.ffill() or obj.bfill() instead.\n",
      "  series_f = series[[name]].fillna(method='ffill').dropna()\n"
     ]
    },
    {
     "name": "stdout",
     "output_type": "stream",
     "text": [
      "open stationary with d=0.2 stat windows =5 out of 9 p-values = [0.1732831173971094, 0.05724207397954958, 0.0022475011791876025, 0.3214058479666092, 0.014969526463478409, 0.0008371796779423435, 0.35161602822115523, 0.008684953584111366, 0.03275540845068536]\n",
      "close\n"
     ]
    },
    {
     "name": "stderr",
     "output_type": "stream",
     "text": [
      "/mnt/c/Users/resha/Documents/Github/balancing_framework/fracdiff.py:187: FutureWarning: DataFrame.fillna with 'method' is deprecated and will raise in a future version. Use obj.ffill() or obj.bfill() instead.\n",
      "  series_f = series[[name]].fillna(method='ffill').dropna()\n",
      "/mnt/c/Users/resha/Documents/Github/balancing_framework/fracdiff.py:187: FutureWarning: DataFrame.fillna with 'method' is deprecated and will raise in a future version. Use obj.ffill() or obj.bfill() instead.\n",
      "  series_f = series[[name]].fillna(method='ffill').dropna()\n",
      "/mnt/c/Users/resha/Documents/Github/balancing_framework/fracdiff.py:187: FutureWarning: DataFrame.fillna with 'method' is deprecated and will raise in a future version. Use obj.ffill() or obj.bfill() instead.\n",
      "  series_f = series[[name]].fillna(method='ffill').dropna()\n",
      "/mnt/c/Users/resha/Documents/Github/balancing_framework/fracdiff.py:187: FutureWarning: DataFrame.fillna with 'method' is deprecated and will raise in a future version. Use obj.ffill() or obj.bfill() instead.\n",
      "  series_f = series[[name]].fillna(method='ffill').dropna()\n",
      "/mnt/c/Users/resha/Documents/Github/balancing_framework/fracdiff.py:187: FutureWarning: DataFrame.fillna with 'method' is deprecated and will raise in a future version. Use obj.ffill() or obj.bfill() instead.\n",
      "  series_f = series[[name]].fillna(method='ffill').dropna()\n"
     ]
    },
    {
     "name": "stdout",
     "output_type": "stream",
     "text": [
      "close stationary with d=0.2 stat windows =5 out of 9 p-values = [0.1681768364519136, 0.0652002136822013, 0.002008510236051451, 0.32093425448679425, 0.018617193883613395, 0.0007709741066850313, 0.35628372510617884, 0.00874904178475256, 0.033559166401977675]\n",
      "high\n"
     ]
    },
    {
     "name": "stderr",
     "output_type": "stream",
     "text": [
      "/mnt/c/Users/resha/Documents/Github/balancing_framework/fracdiff.py:187: FutureWarning: DataFrame.fillna with 'method' is deprecated and will raise in a future version. Use obj.ffill() or obj.bfill() instead.\n",
      "  series_f = series[[name]].fillna(method='ffill').dropna()\n",
      "/mnt/c/Users/resha/Documents/Github/balancing_framework/fracdiff.py:187: FutureWarning: DataFrame.fillna with 'method' is deprecated and will raise in a future version. Use obj.ffill() or obj.bfill() instead.\n",
      "  series_f = series[[name]].fillna(method='ffill').dropna()\n",
      "/mnt/c/Users/resha/Documents/Github/balancing_framework/fracdiff.py:187: FutureWarning: DataFrame.fillna with 'method' is deprecated and will raise in a future version. Use obj.ffill() or obj.bfill() instead.\n",
      "  series_f = series[[name]].fillna(method='ffill').dropna()\n",
      "/mnt/c/Users/resha/Documents/Github/balancing_framework/fracdiff.py:187: FutureWarning: DataFrame.fillna with 'method' is deprecated and will raise in a future version. Use obj.ffill() or obj.bfill() instead.\n",
      "  series_f = series[[name]].fillna(method='ffill').dropna()\n",
      "/mnt/c/Users/resha/Documents/Github/balancing_framework/fracdiff.py:187: FutureWarning: DataFrame.fillna with 'method' is deprecated and will raise in a future version. Use obj.ffill() or obj.bfill() instead.\n",
      "  series_f = series[[name]].fillna(method='ffill').dropna()\n"
     ]
    },
    {
     "ename": "KeyboardInterrupt",
     "evalue": "",
     "output_type": "error",
     "traceback": [
      "\u001b[0;31m---------------------------------------------------------------------------\u001b[0m",
      "\u001b[0;31mKeyboardInterrupt\u001b[0m                         Traceback (most recent call last)",
      "Cell \u001b[0;32mIn[5], line 1\u001b[0m\n\u001b[0;32m----> 1\u001b[0m X, fd_change_pct \u001b[38;5;241m=\u001b[39m \u001b[43mfrac_diff_bestd\u001b[49m\u001b[43m(\u001b[49m\u001b[43mX\u001b[49m\u001b[43m)\u001b[49m\n",
      "File \u001b[0;32m/mnt/c/Users/resha/Documents/Github/balancing_framework/fracdiff.py:281\u001b[0m, in \u001b[0;36mfrac_diff_bestd\u001b[0;34m(df)\u001b[0m\n\u001b[1;32m    279\u001b[0m \u001b[38;5;28;01mfor\u001b[39;00m i \u001b[38;5;129;01min\u001b[39;00m \u001b[38;5;28mrange\u001b[39m(\u001b[38;5;241m0\u001b[39m, \u001b[38;5;28mlen\u001b[39m(frac_diff_test[col]), adf_chunk_size):\n\u001b[1;32m    280\u001b[0m     data_chunk \u001b[38;5;241m=\u001b[39m frac_diff_test[col]\u001b[38;5;241m.\u001b[39mdropna()[i:i\u001b[38;5;241m+\u001b[39madf_chunk_size]\n\u001b[0;32m--> 281\u001b[0m     adf_result \u001b[38;5;241m=\u001b[39m \u001b[43madfuller\u001b[49m\u001b[43m(\u001b[49m\u001b[43mdata_chunk\u001b[49m\u001b[43m)\u001b[49m \n\u001b[1;32m    282\u001b[0m     \u001b[38;5;66;03m# print(f'{i} p-value={adf_result[1]}, lags={adf_result[2]}')\u001b[39;00m\n\u001b[1;32m    283\u001b[0m     num_stat \u001b[38;5;241m=\u001b[39m (num_stat[\u001b[38;5;241m0\u001b[39m], num_stat[\u001b[38;5;241m1\u001b[39m]\u001b[38;5;241m+\u001b[39m\u001b[38;5;241m1\u001b[39m)\n",
      "File \u001b[0;32m~/miniconda3/envs/clfr/lib/python3.11/site-packages/statsmodels/tsa/stattools.py:326\u001b[0m, in \u001b[0;36madfuller\u001b[0;34m(x, maxlag, regression, autolag, store, regresults)\u001b[0m\n\u001b[1;32m    320\u001b[0m \u001b[38;5;66;03m# 1 for level\u001b[39;00m\n\u001b[1;32m    321\u001b[0m \u001b[38;5;66;03m# search for lag length with smallest information criteria\u001b[39;00m\n\u001b[1;32m    322\u001b[0m \u001b[38;5;66;03m# Note: use the same number of observations to have comparable IC\u001b[39;00m\n\u001b[1;32m    323\u001b[0m \u001b[38;5;66;03m# aic and bic: smaller is better\u001b[39;00m\n\u001b[1;32m    325\u001b[0m \u001b[38;5;28;01mif\u001b[39;00m \u001b[38;5;129;01mnot\u001b[39;00m regresults:\n\u001b[0;32m--> 326\u001b[0m     icbest, bestlag \u001b[38;5;241m=\u001b[39m \u001b[43m_autolag\u001b[49m\u001b[43m(\u001b[49m\n\u001b[1;32m    327\u001b[0m \u001b[43m        \u001b[49m\u001b[43mOLS\u001b[49m\u001b[43m,\u001b[49m\u001b[43m \u001b[49m\u001b[43mxdshort\u001b[49m\u001b[43m,\u001b[49m\u001b[43m \u001b[49m\u001b[43mfullRHS\u001b[49m\u001b[43m,\u001b[49m\u001b[43m \u001b[49m\u001b[43mstartlag\u001b[49m\u001b[43m,\u001b[49m\u001b[43m \u001b[49m\u001b[43mmaxlag\u001b[49m\u001b[43m,\u001b[49m\u001b[43m \u001b[49m\u001b[43mautolag\u001b[49m\n\u001b[1;32m    328\u001b[0m \u001b[43m    \u001b[49m\u001b[43m)\u001b[49m\n\u001b[1;32m    329\u001b[0m \u001b[38;5;28;01melse\u001b[39;00m:\n\u001b[1;32m    330\u001b[0m     icbest, bestlag, alres \u001b[38;5;241m=\u001b[39m _autolag(\n\u001b[1;32m    331\u001b[0m         OLS,\n\u001b[1;32m    332\u001b[0m         xdshort,\n\u001b[0;32m   (...)\u001b[0m\n\u001b[1;32m    337\u001b[0m         regresults\u001b[38;5;241m=\u001b[39mregresults,\n\u001b[1;32m    338\u001b[0m     )\n",
      "File \u001b[0;32m~/miniconda3/envs/clfr/lib/python3.11/site-packages/statsmodels/tsa/stattools.py:133\u001b[0m, in \u001b[0;36m_autolag\u001b[0;34m(mod, endog, exog, startlag, maxlag, method, modargs, fitargs, regresults)\u001b[0m\n\u001b[1;32m    131\u001b[0m \u001b[38;5;28;01mfor\u001b[39;00m lag \u001b[38;5;129;01min\u001b[39;00m \u001b[38;5;28mrange\u001b[39m(startlag, startlag \u001b[38;5;241m+\u001b[39m maxlag \u001b[38;5;241m+\u001b[39m \u001b[38;5;241m1\u001b[39m):\n\u001b[1;32m    132\u001b[0m     mod_instance \u001b[38;5;241m=\u001b[39m mod(endog, exog[:, :lag], \u001b[38;5;241m*\u001b[39mmodargs)\n\u001b[0;32m--> 133\u001b[0m     results[lag] \u001b[38;5;241m=\u001b[39m \u001b[43mmod_instance\u001b[49m\u001b[38;5;241;43m.\u001b[39;49m\u001b[43mfit\u001b[49m\u001b[43m(\u001b[49m\u001b[43m)\u001b[49m\n\u001b[1;32m    135\u001b[0m \u001b[38;5;28;01mif\u001b[39;00m method \u001b[38;5;241m==\u001b[39m \u001b[38;5;124m\"\u001b[39m\u001b[38;5;124maic\u001b[39m\u001b[38;5;124m\"\u001b[39m:\n\u001b[1;32m    136\u001b[0m     icbest, bestlag \u001b[38;5;241m=\u001b[39m \u001b[38;5;28mmin\u001b[39m((v\u001b[38;5;241m.\u001b[39maic, k) \u001b[38;5;28;01mfor\u001b[39;00m k, v \u001b[38;5;129;01min\u001b[39;00m results\u001b[38;5;241m.\u001b[39mitems())\n",
      "File \u001b[0;32m~/miniconda3/envs/clfr/lib/python3.11/site-packages/statsmodels/regression/linear_model.py:341\u001b[0m, in \u001b[0;36mRegressionModel.fit\u001b[0;34m(self, method, cov_type, cov_kwds, use_t, **kwargs)\u001b[0m\n\u001b[1;32m    338\u001b[0m         \u001b[38;5;28mself\u001b[39m\u001b[38;5;241m.\u001b[39mwexog_singular_values \u001b[38;5;241m=\u001b[39m singular_values\n\u001b[1;32m    339\u001b[0m         \u001b[38;5;28mself\u001b[39m\u001b[38;5;241m.\u001b[39mrank \u001b[38;5;241m=\u001b[39m np\u001b[38;5;241m.\u001b[39mlinalg\u001b[38;5;241m.\u001b[39mmatrix_rank(np\u001b[38;5;241m.\u001b[39mdiag(singular_values))\n\u001b[0;32m--> 341\u001b[0m     beta \u001b[38;5;241m=\u001b[39m \u001b[43mnp\u001b[49m\u001b[38;5;241;43m.\u001b[39;49m\u001b[43mdot\u001b[49m\u001b[43m(\u001b[49m\u001b[38;5;28;43mself\u001b[39;49m\u001b[38;5;241;43m.\u001b[39;49m\u001b[43mpinv_wexog\u001b[49m\u001b[43m,\u001b[49m\u001b[43m \u001b[49m\u001b[38;5;28;43mself\u001b[39;49m\u001b[38;5;241;43m.\u001b[39;49m\u001b[43mwendog\u001b[49m\u001b[43m)\u001b[49m\n\u001b[1;32m    343\u001b[0m \u001b[38;5;28;01melif\u001b[39;00m method \u001b[38;5;241m==\u001b[39m \u001b[38;5;124m\"\u001b[39m\u001b[38;5;124mqr\u001b[39m\u001b[38;5;124m\"\u001b[39m:\n\u001b[1;32m    344\u001b[0m     \u001b[38;5;28;01mif\u001b[39;00m \u001b[38;5;129;01mnot\u001b[39;00m (\u001b[38;5;28mhasattr\u001b[39m(\u001b[38;5;28mself\u001b[39m, \u001b[38;5;124m'\u001b[39m\u001b[38;5;124mexog_Q\u001b[39m\u001b[38;5;124m'\u001b[39m) \u001b[38;5;129;01mand\u001b[39;00m\n\u001b[1;32m    345\u001b[0m             \u001b[38;5;28mhasattr\u001b[39m(\u001b[38;5;28mself\u001b[39m, \u001b[38;5;124m'\u001b[39m\u001b[38;5;124mexog_R\u001b[39m\u001b[38;5;124m'\u001b[39m) \u001b[38;5;129;01mand\u001b[39;00m\n\u001b[1;32m    346\u001b[0m             \u001b[38;5;28mhasattr\u001b[39m(\u001b[38;5;28mself\u001b[39m, \u001b[38;5;124m'\u001b[39m\u001b[38;5;124mnormalized_cov_params\u001b[39m\u001b[38;5;124m'\u001b[39m) \u001b[38;5;129;01mand\u001b[39;00m\n\u001b[1;32m    347\u001b[0m             \u001b[38;5;28mhasattr\u001b[39m(\u001b[38;5;28mself\u001b[39m, \u001b[38;5;124m'\u001b[39m\u001b[38;5;124mrank\u001b[39m\u001b[38;5;124m'\u001b[39m)):\n",
      "\u001b[0;31mKeyboardInterrupt\u001b[0m: "
     ]
    },
    {
     "ename": "",
     "evalue": "",
     "output_type": "error",
     "traceback": [
      "\u001b[1;31mThe Kernel crashed while executing code in the current cell or a previous cell. \n",
      "\u001b[1;31mPlease review the code in the cell(s) to identify a possible cause of the failure. \n",
      "\u001b[1;31mClick <a href='https://aka.ms/vscodeJupyterKernelCrash'>here</a> for more info. \n",
      "\u001b[1;31mView Jupyter <a href='command:jupyter.viewOutput'>log</a> for further details."
     ]
    }
   ],
   "source": [
    "X, fd_change_pct = frac_diff_bestd(X)"
   ]
  },
  {
   "cell_type": "code",
   "execution_count": null,
   "metadata": {},
   "outputs": [],
   "source": [
    "# filter the labels by the fractionally differentiated data index\n",
    "y = df['tp_0.004'][X.index]\n",
    "fd_df = pd.concat([X, y], axis=1).dropna()\n",
    "\n",
    "with open('spy5m_ta_fracdiff.pkl', 'wb') as f:\n",
    "    pickle.dump(fd_df, f)"
   ]
  }
 ],
 "metadata": {
  "kernelspec": {
   "display_name": "clfr",
   "language": "python",
   "name": "python3"
  },
  "language_info": {
   "codemirror_mode": {
    "name": "ipython",
    "version": 3
   },
   "file_extension": ".py",
   "mimetype": "text/x-python",
   "name": "python",
   "nbconvert_exporter": "python",
   "pygments_lexer": "ipython3",
   "version": "3.11.8"
  }
 },
 "nbformat": 4,
 "nbformat_minor": 2
}
