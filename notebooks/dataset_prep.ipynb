{
 "cells": [
  {
   "cell_type": "code",
   "execution_count": 1,
   "metadata": {},
   "outputs": [
    {
     "name": "stdout",
     "output_type": "stream",
     "text": [
      "{'uci_id': 471, 'name': 'Electrical Grid Stability Simulated Data ', 'repository_url': 'https://archive.ics.uci.edu/dataset/471/electrical+grid+stability+simulated+data', 'data_url': 'https://archive.ics.uci.edu/static/public/471/data.csv', 'abstract': 'The local stability analysis of the 4-node star system (electricity producer is in the center) implementing Decentral Smart Grid Control concept. ', 'area': 'Physics and Chemistry', 'tasks': ['Classification', 'Regression'], 'characteristics': ['Multivariate'], 'num_instances': 10000, 'num_features': 12, 'feature_types': ['Real'], 'demographics': [], 'target_col': ['stab', 'stabf'], 'index_col': None, 'has_missing_values': 'no', 'missing_values_symbol': None, 'year_of_dataset_creation': 2018, 'last_updated': 'Tue Jan 09 2024', 'dataset_doi': '10.24432/C5PG66', 'creators': ['Vadim Arzamasov'], 'intro_paper': None, 'additional_info': {'summary': \"The analysis is performed for different sets of input values using the methodology similar to that described in [SchÃ¤fer, Benjamin, et al. 'Taming instabilities in power grid networks by decentralized control.' The European Physical Journal Special Topics 225.3 (2016): 569-582.]. Several input values are kept the same: averaging time: 2 s; coupling strength: 8 s^-2; damping: 0.1 s^-1\", 'purpose': None, 'funded_by': None, 'instances_represent': None, 'recommended_data_splits': None, 'sensitive_data': None, 'preprocessing_description': None, 'variable_info': '11 predictive attributes, 1 non-predictive(p1), 2 goal fields:\\r\\n1. tau[x]: reaction time of participant (real from the range [0.5,10]s). Tau1 - the value for electricity producer.\\r\\n   2. p[x]: nominal power consumed(negative)/produced(positive)(real). For consumers from the range [-0.5,-2]s^-2; p1 = abs(p2 + p3 + p4)\\r\\n   3. g[x]: coefficient (gamma) proportional to price elasticity (real from the range [0.05,1]s^-1). g1 - the value for electricity producer.\\r\\n   4. stab: the maximal real part of the characteristic equation root (if positive - the system is linearly unstable)(real)\\r\\n   5. stabf: the stability label of the system (categorical: stable/unstable)\\r\\n', 'citation': None}}\n",
      "     name     role        type demographic description units missing_values\n",
      "0    tau1  Feature  Continuous        None        None  None             no\n",
      "1    tau2  Feature  Continuous        None        None  None             no\n",
      "2    tau3  Feature  Continuous        None        None  None             no\n",
      "3    tau4  Feature  Continuous        None        None  None             no\n",
      "4      p1  Feature  Continuous        None        None  None             no\n",
      "5      p2  Feature  Continuous        None        None  None             no\n",
      "6      p3  Feature  Continuous        None        None  None             no\n",
      "7      p4  Feature  Continuous        None        None  None             no\n",
      "8      g1  Feature  Continuous        None        None  None             no\n",
      "9      g2  Feature  Continuous        None        None  None             no\n",
      "10     g3  Feature  Continuous        None        None  None             no\n",
      "11     g4  Feature  Continuous        None        None  None             no\n",
      "12   stab   Target  Continuous        None        None  None             no\n",
      "13  stabf   Target      Binary        None        None  None             no\n"
     ]
    },
    {
     "name": "stderr",
     "output_type": "stream",
     "text": [
      "/tmp/ipykernel_1039/1383899631.py:10: SettingWithCopyWarning: \n",
      "A value is trying to be set on a copy of a slice from a DataFrame.\n",
      "Try using .loc[row_indexer,col_indexer] = value instead\n",
      "\n",
      "See the caveats in the documentation: https://pandas.pydata.org/pandas-docs/stable/user_guide/indexing.html#returning-a-view-versus-a-copy\n",
      "  y['stabf'] = y['stabf'].map({'stable': 1, 'unstable': 0})\n"
     ]
    }
   ],
   "source": [
    "from ucimlrepo import fetch_ucirepo \n",
    "  \n",
    "# fetch dataset \n",
    "electrical_grid_stability_simulated_data = fetch_ucirepo(id=471) \n",
    "  \n",
    "# data (as pandas dataframes) \n",
    "X = electrical_grid_stability_simulated_data.data.features \n",
    "y = electrical_grid_stability_simulated_data.data.targets \n",
    "# convert target to binary\n",
    "y['stabf'] = y['stabf'].map({'stable': 1, 'unstable': 0})\n",
    "\n",
    "# metadata \n",
    "print(electrical_grid_stability_simulated_data.metadata) \n",
    "  \n",
    "# variable information \n",
    "print(electrical_grid_stability_simulated_data.variables) \n"
   ]
  },
  {
   "cell_type": "code",
   "execution_count": 2,
   "metadata": {},
   "outputs": [],
   "source": [
    "# split the data in 4\n",
    "\n",
    "from sklearn.model_selection import train_test_split\n",
    "RANDOM_STATE=777\n",
    "X1, y1 = X[:2500], y['stabf'][:2500]\n",
    "X2, y2 = X[2500:5000], y['stabf'][2500:5000]\n",
    "X3, y3 = X[5000:7500], y['stabf'][5000:7500]\n",
    "X4, y4 = X[7500:], y['stabf'][7500:]\n",
    "\n",
    "X1_train, X1_test, y1_train, y1_test = train_test_split(X1, y1, test_size=0.2, random_state=RANDOM_STATE)\n",
    "X2_train, X2_test, y2_train, y2_test = train_test_split(X2, y2, test_size=0.2, random_state=RANDOM_STATE)\n",
    "X3_train, X3_test, y3_train, y3_test = train_test_split(X3, y3, test_size=0.2, random_state=RANDOM_STATE)\n",
    "X4_train, X4_test, y4_train, y4_test = train_test_split(X4, y4, test_size=0.2, random_state=RANDOM_STATE)\n",
    "title1, title2, title3, title4 = 'X1', 'X2', 'X3', 'X4'"
   ]
  },
  {
   "cell_type": "code",
   "execution_count": 3,
   "metadata": {},
   "outputs": [],
   "source": [
    "import random\n",
    "\n",
    "def my_train_test_split(X,y,test_size=0.2, ignore_size=0.25, random_state=777):\n",
    "    random.seed(random_state)  # Set the random seed\n",
    "    n = round(len(X)*test_size)  # Number of random numbers\n",
    "    start = round(len(X)*ignore_size)  # Start of range\n",
    "    end = len(X)-1  # End of range\n",
    "\n",
    "    random_numbers = random.sample(range(start, end + 1), n)\n",
    "    all_numbers = set(range(start, end + 1))\n",
    "    remaining_numbers = list(all_numbers - set(random_numbers))\n",
    "\n",
    "    X_train, X_test = X.iloc[remaining_numbers], X.iloc[random_numbers]\n",
    "    y_train, y_test = y.iloc[remaining_numbers], y.iloc[random_numbers]\n",
    "\n",
    "    return X_train, X_test, y_train, y_test\n"
   ]
  },
  {
   "cell_type": "code",
   "execution_count": null,
   "metadata": {},
   "outputs": [],
   "source": [
    "# pick a test set that ignores the first 25% of dataset values\n",
    "# save those test indices\n",
    "# run fracdiff on entire dataset\n",
    "# recreate the new post-fd test set using the saved indices\n",
    "\n",
    "# for non fd\n",
    "# pick a test set that ignores the first 25% of dataset values\n",
    "    # use randomstate to produce a list of indices aside from the first 25% of the dataset\n",
    "    # use those indices to select the test set\n",
    "# carry on as normal\n"
   ]
  },
  {
   "cell_type": "markdown",
   "metadata": {},
   "source": [
    "# Prelim plots"
   ]
  },
  {
   "cell_type": "code",
   "execution_count": null,
   "metadata": {},
   "outputs": [],
   "source": [
    "import matplotlib.pyplot as plt\n",
    "import seaborn as sns\n",
    "import pandas as pd\n",
    "import numpy as np\n",
    "\n",
    "# combine the features and target\n",
    "for col in X.columns:\n",
    "    X[col].plot()\n",
    "    plt.show()"
   ]
  },
  {
   "cell_type": "code",
   "execution_count": 4,
   "metadata": {},
   "outputs": [
    {
     "data": {
      "text/plain": [
       "stabf\n",
       "unstable    6380\n",
       "stable      3620\n",
       "Name: count, dtype: int64"
      ]
     },
     "execution_count": 4,
     "metadata": {},
     "output_type": "execute_result"
    }
   ],
   "source": [
    "y['stabf'].value_counts()"
   ]
  },
  {
   "cell_type": "code",
   "execution_count": 9,
   "metadata": {},
   "outputs": [
    {
     "name": "stdout",
     "output_type": "stream",
     "text": [
      "ADF Statistic: -99.429141\n",
      "p-value: 0.000000\n",
      "tau1\n"
     ]
    },
    {
     "data": {
      "image/png": "[encoded data removed]",
      "text/plain": [
       "<Figure size 640x480 with 1 Axes>"
      ]
     },
     "metadata": {},
     "output_type": "display_data"
    },
    {
     "name": "stdout",
     "output_type": "stream",
     "text": [
      "ADF Statistic: -99.742273\n",
      "p-value: 0.000000\n",
      "tau2\n"
     ]
    },
    {
     "data": {
      "image/png": "[encoded data removed]",
      "text/plain": [
       "<Figure size 640x480 with 1 Axes>"
      ]
     },
     "metadata": {},
     "output_type": "display_data"
    },
    {
     "name": "stdout",
     "output_type": "stream",
     "text": [
      "ADF Statistic: -98.297231\n",
      "p-value: 0.000000\n",
      "tau3\n"
     ]
    },
    {
     "data": {
      "image/png": "[encoded data removed]",
      "text/plain": [
       "<Figure size 640x480 with 1 Axes>"
      ]
     },
     "metadata": {},
     "output_type": "display_data"
    },
    {
     "name": "stdout",
     "output_type": "stream",
     "text": [
      "ADF Statistic: -99.289040\n",
      "p-value: 0.000000\n",
      "tau4\n"
     ]
    },
    {
     "data": {
      "image/png": "[encoded data removed]",
      "text/plain": [
       "<Figure size 640x480 with 1 Axes>"
      ]
     },
     "metadata": {},
     "output_type": "display_data"
    },
    {
     "name": "stdout",
     "output_type": "stream",
     "text": [
      "ADF Statistic: -98.013660\n",
      "p-value: 0.000000\n",
      "p1\n"
     ]
    },
    {
     "data": {
      "image/png": "[encoded data removed]",
      "text/plain": [
       "<Figure size 640x480 with 1 Axes>"
      ]
     },
     "metadata": {},
     "output_type": "display_data"
    },
    {
     "name": "stdout",
     "output_type": "stream",
     "text": [
      "ADF Statistic: -38.861445\n",
      "p-value: 0.000000\n",
      "p2\n"
     ]
    },
    {
     "data": {
      "image/png": "[encoded data removed]",
      "text/plain": [
       "<Figure size 640x480 with 1 Axes>"
      ]
     },
     "metadata": {},
     "output_type": "display_data"
    },
    {
     "name": "stdout",
     "output_type": "stream",
     "text": [
      "ADF Statistic: -99.277040\n",
      "p-value: 0.000000\n",
      "p3\n"
     ]
    },
    {
     "data": {
      "image/png": "[encoded data removed]",
      "text/plain": [
       "<Figure size 640x480 with 1 Axes>"
      ]
     },
     "metadata": {},
     "output_type": "display_data"
    },
    {
     "name": "stdout",
     "output_type": "stream",
     "text": [
      "ADF Statistic: -69.414296\n",
      "p-value: 0.000000\n",
      "p4\n"
     ]
    },
    {
     "data": {
      "image/png": "[encoded data removed]",
      "text/plain": [
       "<Figure size 640x480 with 1 Axes>"
      ]
     },
     "metadata": {},
     "output_type": "display_data"
    },
    {
     "name": "stdout",
     "output_type": "stream",
     "text": [
      "ADF Statistic: -100.503138\n",
      "p-value: 0.000000\n",
      "g1\n"
     ]
    },
    {
     "data": {
      "image/png": "[encoded data removed]",
      "text/plain": [
       "<Figure size 640x480 with 1 Axes>"
      ]
     },
     "metadata": {},
     "output_type": "display_data"
    },
    {
     "name": "stdout",
     "output_type": "stream",
     "text": [
      "ADF Statistic: -69.185259\n",
      "p-value: 0.000000\n",
      "g2\n"
     ]
    },
    {
     "data": {
      "image/png": "[encoded data removed]",
      "text/plain": [
       "<Figure size 640x480 with 1 Axes>"
      ]
     },
     "metadata": {},
     "output_type": "display_data"
    },
    {
     "name": "stdout",
     "output_type": "stream",
     "text": [
      "ADF Statistic: -98.661938\n",
      "p-value: 0.000000\n",
      "g3\n"
     ]
    },
    {
     "data": {
      "image/png": "[encoded data removed]",
      "text/plain": [
       "<Figure size 640x480 with 1 Axes>"
      ]
     },
     "metadata": {},
     "output_type": "display_data"
    },
    {
     "name": "stdout",
     "output_type": "stream",
     "text": [
      "ADF Statistic: -99.897775\n",
      "p-value: 0.000000\n",
      "g4\n"
     ]
    },
    {
     "data": {
      "image/png": "[encoded data removed]",
      "text/plain": [
       "<Figure size 640x480 with 1 Axes>"
      ]
     },
     "metadata": {},
     "output_type": "display_data"
    }
   ],
   "source": [
    "# plot each variable in X\n",
    "import matplotlib.pyplot as plt\n",
    "import seaborn as sns\n",
    "from statsmodels.tsa.stattools import adfuller\n",
    "\n",
    "for i in X.columns:\n",
    "    # calculate the stationarity of each column as well using adfuller\n",
    "    result = adfuller(X[i])\n",
    "    print('ADF Statistic: %f' % result[0])\n",
    "    print('p-value: %f' % result[1])\n",
    "    print(i)\n",
    "\n",
    "    sns.histplot(X[i])\n",
    "    plt.show() \n",
    "    plt.close()\n",
    "    "
   ]
  },
  {
   "cell_type": "code",
   "execution_count": null,
   "metadata": {},
   "outputs": [],
   "source": []
  },
  {
   "cell_type": "markdown",
   "metadata": {},
   "source": [
    "# Run framework\n",
    "\n",
    "Given a list of datasets (train test splits of X and y) and corresponding list of dataset titles: run all of the resulting adaptation and consolidation experiments "
   ]
  },
  {
   "cell_type": "code",
   "execution_count": 3,
   "metadata": {},
   "outputs": [],
   "source": [
    "%load_ext autoreload\n",
    "%autoreload 2"
   ]
  },
  {
   "cell_type": "code",
   "execution_count": 57,
   "metadata": {},
   "outputs": [
    {
     "data": {
      "text/plain": [
       "Index([1493, 2086,  380, 2091,  441, 1812,  707, 1489, 1499,  860,\n",
       "       ...\n",
       "        -45,  243, 1035,  802, 1083, 2412, 1942, 2194,  -48,  429],\n",
       "      dtype='int64', length=500)"
      ]
     },
     "execution_count": 57,
     "metadata": {},
     "output_type": "execute_result"
    }
   ],
   "source": [
    "y1_test.index - 50"
   ]
  },
  {
   "cell_type": "code",
   "execution_count": 4,
   "metadata": {},
   "outputs": [],
   "source": [
    "import random\n",
    "import time\n",
    "import pandas as pd\n",
    "from rocket_functions import generate_kernels, apply_kernels\n",
    "from fracdiff import frac_diff_bestd\n",
    "from evaluator import Evaluator\n",
    "\n",
    "def my_train_test_split(X,y,test_size=0.2, ignore_size=0.25, random_state=777):\n",
    "    # a train test split that does not randomly pull from the first 25% of data\n",
    "    # because frac diff will drop values and we want the same test sets for with and without frac diff\n",
    "    random.seed(random_state)  # Set the random seed\n",
    "    n = round(len(X)*test_size)  # Number of random numbers\n",
    "    start = round(len(X)*ignore_size)  # Start of range\n",
    "    end = len(X)-1  # End of range\n",
    "\n",
    "    random_numbers = random.sample(range(start, end + 1), n)\n",
    "    all_numbers = set(range(start, end + 1))\n",
    "    remaining_numbers = list(all_numbers - set(random_numbers))\n",
    "\n",
    "    X_train, X_test = X.iloc[remaining_numbers], X.iloc[random_numbers]\n",
    "    y_train, y_test = y.iloc[remaining_numbers], y.iloc[random_numbers]\n",
    "\n",
    "    return X_train, X_test, y_train, y_test\n",
    "\n",
    "def train_test_split_by_indices(X,y,test_indices, num_dropped=0):\n",
    "    test_indices = test_indices - num_dropped\n",
    "    # print(f'test_indices: {test_indices.min()} - {test_indices.max()}')\n",
    "    # print(f'X: {X.index.min()} - {X.index.max()}')\n",
    "    # print(f'y: {y.index.min()} - {y.index.max()}')\n",
    "    X_test = X.loc[test_indices]\n",
    "    y_test = y.loc[test_indices]\n",
    "    X_train = X.drop(test_indices)\n",
    "    y_train = y.drop(test_indices)\n",
    "    return X_train, X_test, y_train, y_test\n",
    "\n",
    "def run_measurements(datasets, titles, dataset_name, model_name, num_runs=10, test_size=None, frac_diff=False, rocket=False):\n",
    "\n",
    "    # PREPROCESSING -------------------------------------------------------------------------------------------------\n",
    "\n",
    "    # train test split for each episode\n",
    "\n",
    "    episodes = []\n",
    "    for X,y in datasets:\n",
    "        X_train, X_test, y_train, y_test = my_train_test_split(X, y, test_size=0.2, random_state=RANDOM_STATE)\n",
    "        episode = {'X_train': X_train, 'X_test': X_test, 'y_train': y_train, 'y_test': y_test, 'X': X, 'y': y}\n",
    "        episodes.append(episode)\n",
    "\n",
    "    # Frac Diff\n",
    "    if frac_diff:\n",
    "        new_episodes = []\n",
    "        for i, episode in enumerate(episodes):\n",
    "            start = time.perf_counter()\n",
    "            X, fd_change_pct = frac_diff_bestd(episode['X'])\n",
    "            end = time.perf_counter()\n",
    "            X.dropna(inplace=True)\n",
    "            y = episode['y'].iloc[:len(X)]\n",
    "            drop_pct = 1 - len(X) / len(episode['X'])\n",
    "            time_taken_mins = (end-start)/60\n",
    "            # ensure the test set is the same as without frac diff\n",
    "            X_train, X_test, y_train, y_test = train_test_split_by_indices(X, y, episode['y_test'].index, num_dropped=0) # len(episode['X'])-len(X)\n",
    "            # pack new episode, along with some frac diff info\n",
    "            new_episode = {'X_train': X_train, 'X_test': X_test, 'y_train': y_train, 'y_test': y_test, 'X': X, 'y': y, 'fd_change_pct': fd_change_pct, 'drop_pct': drop_pct, 'fd_time_taken_mins': time_taken_mins}\n",
    "            new_episodes.append(new_episode)\n",
    "        episodes = new_episodes\n",
    "\n",
    "    # Rocket\n",
    "    if rocket:\n",
    "        for i, episode in enumerate(episodes):\n",
    "                input_length = episode['X_train'].shape[-1]\n",
    "                kernels = generate_kernels(input_length, 10_000)\n",
    "                start = time.perf_counter()\n",
    "                X_train = apply_kernels(episode['X_train'].to_numpy(), kernels)\n",
    "                X_test = apply_kernels(episode['X_test'].to_numpy(), kernels)\n",
    "                end = time.perf_counter()\n",
    "\n",
    "                time_taken_mins = (end-start)/60\n",
    "                episode['X_train'] = pd.DataFrame(X_train)\n",
    "                episode['X_test'] = pd.DataFrame(X_test)\n",
    "                episode['rocket_time_taken_mins'] = time_taken_mins\n",
    "    \n",
    "    # Pack the preprocessing info\n",
    "    prep_info = {}\n",
    "    if frac_diff:\n",
    "        prep_info['frac_diff'] = True\n",
    "        prep_info['fd_change_pct'] = [ep['fd_change_pct'] for ep in episodes]\n",
    "        prep_info['drop_pct'] = [ep['drop_pct'] for ep in episodes]\n",
    "        prep_info['fd_time_taken_mins'] = [ep['fd_time_taken_mins'] for ep in episodes]\n",
    "    if rocket:\n",
    "        prep_info['rocket'] = True\n",
    "        prep_info['rocket_time_taken_mins'] = [ep['rocket_time_taken_mins'] for ep in episodes]\n",
    "\n",
    "    # EVALUATION -------------------------------------------------------------------------------------------------\n",
    "\n",
    "    eval = Evaluator(dataset_name, model_name, num_runs, test_size)\n",
    "\n",
    "    # ADAPTATION MEASURE LOOP \n",
    "\n",
    "    adaptation_results = pd.DataFrame()\n",
    "    for i in range(1, len(episodes)):\n",
    "        trained_on1 = episodes[:i+1]\n",
    "        trained_on2 = episodes[:i]\n",
    "        test = episodes[i]\n",
    "        trained_on1_titles = titles[:i+1]\n",
    "        trained_on2_titles = titles[:i]\n",
    "        test_title = titles[i]\n",
    "\n",
    "        result = eval.adaptation_measure(\n",
    "            [ep['X_train'] for ep in trained_on1], \n",
    "            [ep['y_train'] for ep in trained_on1], \n",
    "            [ep['X_train'] for ep in trained_on2],\n",
    "            [ep['y_train'] for ep in trained_on2],\n",
    "            test['X_test'], test['y_test'], trained_on1_titles, trained_on2_titles, test_title\n",
    "            )\n",
    "        adaptation_results = pd.concat([adaptation_results, result], ignore_index=True)\n",
    "    adaptation_results[\"dataset_name\"] = eval.dataset_name\n",
    "\n",
    "    # CONSOLIDATION MEASURE LOOP \n",
    "\n",
    "    consolidation_results = pd.DataFrame()\n",
    "    consolidation_results_full = pd.DataFrame()\n",
    "    for i in range(1, len(episodes)):\n",
    "        trained_on1 = episodes[:i+1]\n",
    "        trained_on2 = episodes[:i]\n",
    "        test = episodes[:i]\n",
    "        trained_on1_titles = titles[:i+1]\n",
    "        trained_on2_titles = titles[:i]\n",
    "        test_titles = titles[:i]\n",
    "\n",
    "        result_avg, result_full = eval.consolidation_measure(\n",
    "            [ep['X_train'] for ep in trained_on1], \n",
    "            [ep['y_train'] for ep in trained_on1], \n",
    "            [ep['X_train'] for ep in trained_on2],\n",
    "            [ep['y_train'] for ep in trained_on2],\n",
    "            [ep['X_test'] for ep in test], [ep['y_test'] for ep in test], trained_on1_titles, trained_on2_titles, test_titles\n",
    "            )\n",
    "        consolidation_results = pd.concat([consolidation_results, result_avg], ignore_index=True)\n",
    "        consolidation_results_full = pd.concat([consolidation_results_full, result_full], ignore_index=True)\n",
    "    consolidation_results[\"dataset_name\"] = eval.dataset_name\n",
    "    consolidation_results_full[\"dataset_name\"] = eval.dataset_name\n",
    "\n",
    "\n",
    "    return adaptation_results, consolidation_results, consolidation_results_full, prep_info"
   ]
  },
  {
   "cell_type": "code",
   "execution_count": 13,
   "metadata": {},
   "outputs": [],
   "source": [
    "datasets = [(X1, y1), (X2, y2), (X3, y3), (X4, y4)]\n",
    "titles = [title1, title2, title3, title4]\n",
    "dataset_name = 'grid'\n",
    "model_name = 'ridge_classifier' #  random_forest\n",
    "num_runs = 1\n",
    "test_size = None"
   ]
  },
  {
   "cell_type": "code",
   "execution_count": 14,
   "metadata": {},
   "outputs": [
    {
     "name": "stderr",
     "output_type": "stream",
     "text": [
      "[I 2024-05-28 09:52:30,645] A new study created in memory with name: no-name-29914512-c61f-4f14-a6f1-08c54f736980\n",
      "[I 2024-05-28 09:54:25,322] Trial 0 finished with value: 0.7945454545454546 and parameters: {'n_estimators': 806, 'max_depth': 29}. Best is trial 0 with value: 0.7945454545454546.\n"
     ]
    },
    {
     "name": "stdout",
     "output_type": "stream",
     "text": [
      "Optimization Time: 1.9113006887333388 minutes\n"
     ]
    },
    {
     "name": "stderr",
     "output_type": "stream",
     "text": [
      "[I 2024-05-28 09:56:16,864] A new study created in memory with name: no-name-b6727922-4882-44ff-91f5-c455f39d845d\n"
     ]
    },
    {
     "name": "stdout",
     "output_type": "stream",
     "text": [
      "Run 0 Accuracy: 0.8040\n"
     ]
    },
    {
     "name": "stderr",
     "output_type": "stream",
     "text": [
      "[I 2024-05-28 09:57:01,141] Trial 0 finished with value: 0.8327272727272728 and parameters: {'n_estimators': 897, 'max_depth': 32}. Best is trial 0 with value: 0.8327272727272728.\n"
     ]
    },
    {
     "name": "stdout",
     "output_type": "stream",
     "text": [
      "Optimization Time: 0.7379777981166626 minutes\n",
      "Run 0 Accuracy: 0.6640\n"
     ]
    },
    {
     "name": "stderr",
     "output_type": "stream",
     "text": [
      "[I 2024-05-28 09:57:46,550] A new study created in memory with name: no-name-c5ec75bb-3858-4663-bc78-99f0a5f3e3da\n",
      "[I 2024-05-28 09:59:02,193] Trial 0 finished with value: 0.8 and parameters: {'n_estimators': 353, 'max_depth': 24}. Best is trial 0 with value: 0.8.\n"
     ]
    },
    {
     "name": "stdout",
     "output_type": "stream",
     "text": [
      "Optimization Time: 1.2607408258666661 minutes\n",
      "Run 0 Accuracy: 0.8040\n"
     ]
    },
    {
     "name": "stderr",
     "output_type": "stream",
     "text": [
      "[I 2024-05-28 10:00:23,968] A new study created in memory with name: no-name-7fe32687-fcb6-4f1c-8937-902beb878f3e\n",
      "[I 2024-05-28 10:01:52,010] Trial 0 finished with value: 0.7890909090909091 and parameters: {'n_estimators': 643, 'max_depth': 15}. Best is trial 0 with value: 0.7890909090909091.\n"
     ]
    },
    {
     "name": "stdout",
     "output_type": "stream",
     "text": [
      "Optimization Time: 1.4673989100000047 minutes\n",
      "Run 0 Accuracy: 0.4660\n"
     ]
    },
    {
     "name": "stderr",
     "output_type": "stream",
     "text": [
      "[I 2024-05-28 10:03:27,252] A new study created in memory with name: no-name-e2cacfc5-9787-4093-81db-d5b2d185b63e\n",
      "[I 2024-05-28 10:03:34,217] Trial 0 finished with value: 0.7754545454545455 and parameters: {'n_estimators': 22, 'max_depth': 11}. Best is trial 0 with value: 0.7754545454545455.\n"
     ]
    },
    {
     "name": "stdout",
     "output_type": "stream",
     "text": [
      "Optimization Time: 0.11610646878333077 minutes\n",
      "Run 0 Accuracy: 0.7900\n"
     ]
    },
    {
     "name": "stderr",
     "output_type": "stream",
     "text": [
      "[I 2024-05-28 10:03:40,953] A new study created in memory with name: no-name-14787ae9-ae31-4f3d-8884-c6f6eac8fd9b\n",
      "[I 2024-05-28 10:05:30,976] Trial 0 finished with value: 0.7866666666666666 and parameters: {'n_estimators': 713, 'max_depth': 8}. Best is trial 0 with value: 0.7866666666666666.\n"
     ]
    },
    {
     "name": "stdout",
     "output_type": "stream",
     "text": [
      "Optimization Time: 1.8337242266999965 minutes\n",
      "Run 0 Accuracy: 0.3820\n"
     ]
    },
    {
     "name": "stderr",
     "output_type": "stream",
     "text": [
      "[I 2024-05-28 10:07:23,276] A new study created in memory with name: no-name-6a4d02f3-89b5-4d6f-b3a1-c71b40c27076\n",
      "[I 2024-05-28 10:08:40,251] Trial 0 finished with value: 0.7709090909090909 and parameters: {'n_estimators': 712, 'max_depth': 7}. Best is trial 0 with value: 0.7709090909090909.\n"
     ]
    },
    {
     "name": "stdout",
     "output_type": "stream",
     "text": [
      "Optimization Time: 1.2829474253166608 minutes\n",
      "Run 0 Accuracy: 0.8020\n"
     ]
    },
    {
     "name": "stderr",
     "output_type": "stream",
     "text": [
      "[I 2024-05-28 10:10:48,854] A new study created in memory with name: no-name-0f522040-c8c6-4ee8-b044-3ce7042a06d0\n"
     ]
    },
    {
     "name": "stdout",
     "output_type": "stream",
     "text": [
      "Run 0 Accuracy: 0.8020\n"
     ]
    },
    {
     "name": "stderr",
     "output_type": "stream",
     "text": [
      "[I 2024-05-28 10:11:22,438] Trial 0 finished with value: 0.8327272727272728 and parameters: {'n_estimators': 716, 'max_depth': 10}. Best is trial 0 with value: 0.8327272727272728.\n"
     ]
    },
    {
     "name": "stdout",
     "output_type": "stream",
     "text": [
      "Optimization Time: 0.559751386199999 minutes\n",
      "Run 0 Accuracy: 0.8140\n",
      "Run 0 Accuracy: 0.8140\n"
     ]
    },
    {
     "name": "stderr",
     "output_type": "stream",
     "text": [
      "[I 2024-05-28 10:12:36,677] A new study created in memory with name: no-name-2e4e344e-f285-43d2-b96f-8578dfb86320\n",
      "[I 2024-05-28 10:12:50,781] Trial 0 finished with value: 0.7806060606060606 and parameters: {'n_estimators': 95, 'max_depth': 7}. Best is trial 0 with value: 0.7806060606060606.\n"
     ]
    },
    {
     "name": "stdout",
     "output_type": "stream",
     "text": [
      "Optimization Time: 0.23508414691665772 minutes\n",
      "Run 0 Accuracy: 0.7990\n",
      "Run 0 Accuracy: 0.8140\n",
      "Run 0 Accuracy: 0.7840\n"
     ]
    },
    {
     "name": "stderr",
     "output_type": "stream",
     "text": [
      "[I 2024-05-28 10:13:27,792] A new study created in memory with name: no-name-1c6d9185-65c5-4a3e-addb-bc5431e0c361\n",
      "[I 2024-05-28 10:13:50,060] Trial 0 finished with value: 0.7890909090909091 and parameters: {'n_estimators': 190, 'max_depth': 9}. Best is trial 0 with value: 0.7890909090909091.\n"
     ]
    },
    {
     "name": "stdout",
     "output_type": "stream",
     "text": [
      "Optimization Time: 0.371146851266667 minutes\n",
      "Run 0 Accuracy: 0.8020\n",
      "Run 0 Accuracy: 0.8060\n",
      "Run 0 Accuracy: 0.7980\n"
     ]
    },
    {
     "name": "stderr",
     "output_type": "stream",
     "text": [
      "[I 2024-05-28 10:14:51,535] A new study created in memory with name: no-name-0effa1a8-a78f-400b-8e82-22b1bbd2174f\n",
      "[I 2024-05-28 10:18:50,815] Trial 0 finished with value: 0.7909090909090909 and parameters: {'n_estimators': 733, 'max_depth': 17}. Best is trial 0 with value: 0.7909090909090909.\n"
     ]
    },
    {
     "name": "stdout",
     "output_type": "stream",
     "text": [
      "Optimization Time: 3.9880584521500015 minutes\n",
      "Run 0 Accuracy: 0.8053\n",
      "Run 0 Accuracy: 0.8120\n",
      "Run 0 Accuracy: 0.7960\n",
      "Run 0 Accuracy: 0.8080\n"
     ]
    },
    {
     "name": "stderr",
     "output_type": "stream",
     "text": [
      "[I 2024-05-28 10:34:43,088] A new study created in memory with name: no-name-e155e53c-4485-4928-96fa-7079a7ce91a0\n",
      "[I 2024-05-28 10:36:16,436] Trial 0 finished with value: 0.7539393939393939 and parameters: {'n_estimators': 930, 'max_depth': 5}. Best is trial 0 with value: 0.7539393939393939.\n"
     ]
    },
    {
     "name": "stdout",
     "output_type": "stream",
     "text": [
      "Optimization Time: 1.5558644562666661 minutes\n",
      "Run 0 Accuracy: 0.7760\n",
      "Run 0 Accuracy: 0.8020\n",
      "Run 0 Accuracy: 0.7580\n",
      "Run 0 Accuracy: 0.7680\n"
     ]
    }
   ],
   "source": [
    "# ada_res, cons_res, cons_res_full, prep_info = run_measurements(datasets, titles, dataset_name, model_name, num_runs, test_size)\n",
    "ada_res_r, cons_res_r, cons_res_full_r, prep_info_r = run_measurements(datasets, titles, dataset_name, 'random_forest', num_runs, test_size, rocket=True)\n",
    "# ada_res_fd, cons_res_fd, cons_res_full_fd, prep_info_fd = run_measurements(datasets, titles, dataset_name, model_name, num_runs, test_size, frac_diff=True)"
   ]
  },
  {
   "cell_type": "code",
   "execution_count": 8,
   "metadata": {},
   "outputs": [],
   "source": [
    "with pd.ExcelWriter('test.xlsx', engine='xlsxwriter') as writer:  \n",
    "    ada_res.to_excel(writer, sheet_name=dataset_name, startrow=1, startcol=0)\n",
    "    cons_res.to_excel(writer, sheet_name=dataset_name, startrow=8, startcol=0)\n",
    "    ada_res_r.to_excel(writer, sheet_name=dataset_name, startrow=15, startcol=0)\n",
    "    cons_res_r.to_excel(writer, sheet_name=dataset_name, startrow=22, startcol=0)\n",
    "    ada_res_fd.to_excel(writer, sheet_name=dataset_name, startrow=29, startcol=0)\n",
    "    cons_res_fd.to_excel(writer, sheet_name=dataset_name, startrow=36, startcol=0)\n"
   ]
  },
  {
   "cell_type": "code",
   "execution_count": 17,
   "metadata": {},
   "outputs": [],
   "source": [
    "with pd.ExcelWriter('test2.xlsx', engine='xlsxwriter') as writer:  \n",
    "    ada_res_r.to_excel(writer, sheet_name=dataset_name, startrow=1, startcol=0)\n",
    "    cons_res_r.to_excel(writer, sheet_name=dataset_name, startrow=8, startcol=0)"
   ]
  },
  {
   "cell_type": "code",
   "execution_count": null,
   "metadata": {},
   "outputs": [],
   "source": []
  }
 ],
 "metadata": {
  "kernelspec": {
   "display_name": "clfr",
   "language": "python",
   "name": "python3"
  },
  "language_info": {
   "codemirror_mode": {
    "name": "ipython",
    "version": 3
   },
   "file_extension": ".py",
   "mimetype": "text/x-python",
   "name": "python",
   "nbconvert_exporter": "python",
   "pygments_lexer": "ipython3",
   "version": "3.11.8"
  }
 },
 "nbformat": 4,
 "nbformat_minor": 2
}
