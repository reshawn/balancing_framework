{
 "cells": [
  {
   "cell_type": "markdown",
   "metadata": {},
   "source": [
    "## Prep single series"
   ]
  },
  {
   "cell_type": "code",
   "execution_count": 2,
   "metadata": {},
   "outputs": [
    {
     "name": "stdout",
     "output_type": "stream",
     "text": [
      "Available datasets: ['constant', 'exchange_rate', 'solar-energy', 'electricity', 'traffic', 'exchange_rate_nips', 'electricity_nips', 'traffic_nips', 'solar_nips', 'wiki2000_nips', 'wiki-rolling_nips', 'taxi_30min', 'kaggle_web_traffic_with_missing', 'kaggle_web_traffic_without_missing', 'kaggle_web_traffic_weekly', 'm1_yearly', 'm1_quarterly', 'm1_monthly', 'nn5_daily_with_missing', 'nn5_daily_without_missing', 'nn5_weekly', 'tourism_monthly', 'tourism_quarterly', 'tourism_yearly', 'cif_2016', 'london_smart_meters_without_missing', 'wind_farms_without_missing', 'car_parts_without_missing', 'dominick', 'fred_md', 'pedestrian_counts', 'hospital', 'covid_deaths', 'kdd_cup_2018_without_missing', 'weather', 'm3_monthly', 'm3_quarterly', 'm3_yearly', 'm3_other', 'm4_hourly', 'm4_daily', 'm4_weekly', 'm4_monthly', 'm4_quarterly', 'm4_yearly', 'm5', 'uber_tlc_daily', 'uber_tlc_hourly', 'airpassengers', 'australian_electricity_demand', 'electricity_hourly', 'electricity_weekly', 'rideshare_without_missing', 'saugeenday', 'solar_10_minutes', 'solar_weekly', 'sunspot_without_missing', 'temperature_rain_without_missing', 'vehicle_trips_without_missing', 'ercot', 'ett_small_15min', 'ett_small_1h']\n"
     ]
    }
   ],
   "source": [
    "from gluonts.dataset.repository import get_dataset, dataset_names\n",
    "from gluonts.dataset.util import to_pandas\n",
    "\n",
    "print(f\"Available datasets: {dataset_names}\")"
   ]
  },
  {
   "cell_type": "code",
   "execution_count": 1,
   "metadata": {},
   "outputs": [
    {
     "name": "stderr",
     "output_type": "stream",
     "text": [
      "/home/reshawn/miniconda3/envs/clfr/lib/python3.11/site-packages/gluonts/json.py:102: UserWarning: Using `json`-module for json-handling. Consider installing one of `orjson`, `ujson` to speed up serialization and deserialization.\n",
      "  warnings.warn(\n",
      "Download kaggle_web_traffic_dataset_without_missing_values.zip:: 138MB [00:26, 5.51MB/s]                            \n",
      "creating json files: 100%|██████████| 145063/145063 [00:01<00:00, 117175.38it/s]\n"
     ]
    }
   ],
   "source": [
    "from gluonts.dataset.repository import get_dataset, dataset_names\n",
    "from gluonts.dataset.util import to_pandas\n",
    "\n",
    "# print(f\"Available datasets: {dataset_names}\")\n",
    "dataset = get_dataset(\"kaggle_web_traffic_without_missing\")"
   ]
  },
  {
   "cell_type": "code",
   "execution_count": 34,
   "metadata": {},
   "outputs": [
    {
     "data": {
      "text/plain": [
       "Map(fn=<gluonts.dataset.common.ProcessDataEntry object at 0x7d8bcc77c7d0>, iterable=JsonLinesFile(path=PosixPath('/home/reshawn/.gluonts/datasets/solar-energy/test/data.json.gz'), start=0, n=None, line_starts=[0, -16642, 30420, 11963, -6552, -22993, 26324, 7988, -10536, -29270, 17701, -766, -20094, 26799, 8473, -10360, -28824, 17955, -516, -19346, 27843, 9382, -9343, -28038, 20247, 1660, -16561, 30303, 12099, -5101, -23418, 24561, 7236, -11617, -30044, 16763, -1725, -20486, 26552, 8057, -10572, -27626, 19502, 933, -17442, 30466, 12582, -5430, -24182, 22689, 3872, -14554, 32515, 13885, -4413, -22598, 23928, 5529, -12842, -30921, 16599, -1937, -20652, 26006, 7653, -10893, -29776, 17279, -1126, -18013, 30335, 12711, -5775, -23821, 25201, 6647, -11882, -30049, 17311, -1059, -19917, 27918, 9357, -8877, -27651, 19630, 1086, -17881, 29007, 10638, -8078, -25922, 21093, 2067, -16147, 30330, 11777, -6263, -24823, 21915, 3489, -15533, 31546, 12802, -5864, -22871, 25390, 6467, -11847, -29850, 16899, -1691, -19994, 26339, 8135, -10073, -31162, 15683, -2743, -21317, 25515, 6763, -10331, -29245, 17702, 769, -17135, 29666, 11320, -7666, -28582, 18195, -366, -19311, 27743, 9381, -8235, -25741, 23302, 5008, -13292, -31657, 17585, 1524, -16658, 30491, 11911, -6501, -24818, 21564, 3100, -15072, 31797, 13496, -5094, -23410, 23436, 5228, -13082, -31626, 15373, -1731, -20165, 27316, 8784, -9270, -26326, 21029, 3639, -13532, -32232, 15016, -3560, -21907, 25035, 6699, -11643, -30117, 18507, 254, -18164, 29179, 11698, -6031, -23878, 23061, 4533, -14131, -32418, 14801, -3678, -21832, 25684, 6840, -11401, -29618, 18004, 132, -18256, 28707, 9968, -8232, -26603, 20189, 1848, -16408, 32436, 15408, -2073, -20395, 27234, 10879, -7523, -25912, 21627, 3619, -14570, 32271, 14740, -3683, -21712, 25204, 7140, -11215, -30026, 17018, -1171, -19733, 28106, 9765, -9094, -27128, 19501, 1099, -16789, 30354, 11709, -6565, -25449, 21821, 3227, -15286, -32124, 16280, -2465, -20640, 27043, 8407, -10029, -28165, 18318, 268, -17787, 26820, 8267, -9984, -28405, 18586, -10, -16933, 29830, 11392, -5398, -23110, 23853, 5674, -13155, 31600, 13006, -5417, -24206, 23010, 4791, -12672, -30009, 19176, 1035, -17105, 30228, 14092, -1822, -19840, 27459, 9052, -9212, -27379, 19177, 862, -17159, 29875, 11750, -6645, -24799, 22211, 4136, -13995, -32364, 14805, -2119, -20393, 27265, 8884, -9001, -25901, 21591, 4376, -12642, -31189, 16208, -2205, -20404, 26689, 8514, -9623, -27947, 20830, 2737, -15520, 31984, 14657, -2907, -20591, 26482, 8108, -10380, -28519, 18851, 510, -17438, 30226, 11574, -6503, -24544, 23278, 5582, -12643, -31049, 15908, -2103, -20312, 26631, 8470, -9618, -26153, 22513, 5173, -12974, -30715, 18623, 388, -17849, 29847, 12002, -6008, -24541, 23616, 5357, -12538, -30997, 16650, -1568, -20217, 26972, 8958, -9441, -27006, 20336, 1650, -16222, 30583, 12345, -5391, -23631, 23421, 5322, -13401, -31507, 15585, -2751, -19436, 29138, 10554, -7483, -25188, 21849, 3562, -14409, 32223, 14350, -3555, -24321, 22813, 4742, -13530, -31915, 15173, -1541, -20149, 27088, 10487, -7062, -25470, 22050, 3368, -17267, 29841, 11581, -7049, -25208, 22283, 4983, -12190, -28382, 19180, 1194, -16829, 32727, 16959, -919, -19000, 28306, 10206, -7796, -26613, 20762, 2908, -15448, 32126, 13870, -4114, -22491, 25108, 7117, -11083, -29304, 19454, 1346, -16380, 30953, 13239, -3517, -21408, 27082, 10202, -8187, -26186, 21092, 3046, -15214, 32299, 14314, -3846, -20461, 27136, 9031, -8848, -26030, 22110, 4578, -13732, -31954, 15250, -2707, -20707, 26630, 8835, -8879, -27375, 20236, 2363, -15185, -32730, 14731, -3538, -21965, 25703, 7633, -10809, -28815, 18789, 2461, -14267, -31450, 16115, -1470, -17521, 29932, 11862, -5823, -23528, 24179, 5790, -11421, -29529, 18279, -42, -17766, 29705, 11217, -6963, -24825, 22478, 5090, -12951, -31468, 16335, -2247, -20329, 27650, 9549, -8758, -26700, 20293, 2354, -15920, 31417, 14890, -1901, -20331, 27334, 9782, -8575, -26708, 21011, 2270, -15465, 32321, 11715, -6533, -24450, 22955, 4725, -13544, -30097, 16976, -1158, -17575, 30562, 12303, -5560, -24077, 20954, 2665, -15442, 31617, 13597, -4291, -21445, 27085, 11064, -6769, -24602, 23092, 7256, -8328, -26042, 21567, 3493, -14456, -32307, 14561, -3443, -21158, 26168, 8356, -9716, -27561, 19752, 1970, -15884, 31605, 13540, -3092, -21046, 26916, 8869, -8703, -25286, 22498, 5631, -11106, -29341, 18362, 256, -17637, 29806, 11963, -5870, -23861, 25257, 7469, -10482, -28196, 20305, 3092, -14265, -32409, 15047, -3144, -20946, 26785, 8741, -8884, -26446, 20749, 2990, -14717, -32096, 16049, -1861, -19963, 27286, 9572, -8330, -26616, 21055, 3266, -12876, -29434, 19102, 1322, -16107, -32012, 15583, -2332, -19876, 28096, 10407, -7830, -24871, 22712, 5149, -13033, -30605, 17003, -1344, -19372, 28455, 10374, -6835, -24709, 22450, 4883, -13561, -31468, 16654, -1279, -19448, 28316, 9934, -7817, -25926, 21564, 5196, -11423, -29684, 18123, 728, -17473, 30083, 12408, -6201, -23797, 24143, 3699, -14392, -32166, 15380, -2689, -20789, 28352, 10044, -7908, -24132, 24161, 6074, -11622, -29971, 15222, -2899, -20855, 26373, 8506, -9216, -26203, 22471, 6608, -11036, -28710, 19130, 3462, -11927, -29491, 18283, 337, -17451, 30365, 11872, -5984, -23568, 23889, 6239, -11687, -29399, 18086, 436, -17268, 30369, 12439, -4043, -21865, 26258, 8370, -9059, -25487, 22443, 5727, -10846, -28923, 18955, 997, -16751, 30839, 13174, -4483, -22286, 26995, 9364, -8424, -26003, 22651, 5576, -11632, -29599, 18003, 0, -17626, 30276, 12382, -5054, -22483, 24858, 7261, -10272, -27477, 20826, 3060, -14890, 32521, 14955, -2785, -20912, 26932, 9314, -6687, -23077, 25622, 8004, -9277, -25031, 22710, 4941, -12411, -29817, 18206, 142, -16737, 31004, 13591, -4417, -21843, 25940, 7768, -10100, -27667, 19950, 2890, -14807, 32498, 15077, -3150, -20923, 27363, 9579, -8421, -26048, 21237, 3618, -14336, -32199, 17145, 707, -17404, 30577, 13327, -4726, -22529, 25497, 7020, -10427, -27848, 17390, -514, -18098, 29622, 11686, -6237, -22474, 24918, 7099, -8980, -26046, 21561, 4000, -14187, 31172, 13224, -4573, -22730, 25098, 7525, -9286, -25973, 23837, 6322, -11197, -28745, 21271, 6019, -11383, -28955, 18797, 1159, -16417, 30772, 13078, -4361, -22282, 25764, 7986, -9578, -27484, 20575, 3012, -14739, -32537, 16665, -1025, -18261, 29519, 12252, -4001, -21434, 27521, 11080, -6851, -24374, 23334, 5717, -12080, -29597, 18428, 759, -15344, 32708, 15069, -2361, -19068, 29524, 12462, -5349, -23121, 24573, 7095, -10404, -28139, 20093, 2813, -15210, -32620, 15533, -1539, -18585, 29332, 11570, -6411, -23818, 24108, 6114, -11445, -28917, 20770, 4543, -12148, -29635, 18780, 3185, -14424, -32004, 16332, -928, -18263, 29397, 12693, -4943, -22225, 25477, 8212, -9393, -27437, 20389, 2966, -14804, -31731, 16253, -1845, -19119, 28366, 10738, -6366, -24007, 23660, 6206, -11909, -29353, 18389, 729, -15297, -31574, 16009, -1401, -18488, 29130, 11515, -5837, -24181, 24052, 6803, -13356, -31113, 16971, -686, -18449, 29324, 13223, -4789, -22460, 27145, 10222, -7575, -24977, 22535, 2516, -15291, 32578, 14569, -2966, -20378, 28492]))"
      ]
     },
     "execution_count": 34,
     "metadata": {},
     "output_type": "execute_result"
    }
   ],
   "source": [
    "dataset.test"
   ]
  },
  {
   "cell_type": "code",
   "execution_count": 2,
   "metadata": {},
   "outputs": [
    {
     "name": "stdout",
     "output_type": "stream",
     "text": [
      "The autoreload extension is already loaded. To reload it, use:\n",
      "  %reload_ext autoreload\n",
      "/mnt/c/Users/resha/Documents/Github/balancing_framework\n"
     ]
    },
    {
     "ename": "",
     "evalue": "",
     "output_type": "error",
     "traceback": [
      "\u001b[1;31mThe Kernel crashed while executing code in the current cell or a previous cell. \n",
      "\u001b[1;31mPlease review the code in the cell(s) to identify a possible cause of the failure. \n",
      "\u001b[1;31mClick <a href='https://aka.ms/vscodeJupyterKernelCrash'>here</a> for more info. \n",
      "\u001b[1;31mView Jupyter <a href='command:jupyter.viewOutput'>log</a> for further details."
     ]
    }
   ],
   "source": [
    "# to reload local packages when debugging\n",
    "%load_ext autoreload\n",
    "%autoreload 2\n",
    "%cd /mnt/c/Users/resha/Documents/Github/balancing_framework/\n",
    "from monash_data_utils import convert_tsf_to_dataframe, monash_df_to_gluonts_dataset\n",
    "import os\n",
    "import pandas as pd\n",
    "\n",
    "dataset_name = \"kaggle_web_traffic_dataset_without_missing_values\" # m4_hourly_dataset\n",
    "dataset = None\n",
    "monash_dir = \"monash_data\"\n",
    "\n",
    "if os.path.exists(f\"{monash_dir}/{dataset_name}.tsf\"):\n",
    "    loaded_data, frequency, forecast_horizon, contain_missing_values, contain_equal_length = convert_tsf_to_dataframe(f\"{monash_dir}/{dataset_name}.tsf\")\n",
    "    dataset = monash_df_to_gluonts_dataset(loaded_data, frequency)\n",
    "\n",
    "if dataset is None:\n",
    "    if dataset_name in dataset_names:\n",
    "        dataset = get_dataset(dataset_name)\n",
    "    else:\n",
    "        raise ValueError(f\"Dataset {dataset_name} not found in gluonts availables or local monash files.\")\n",
    "    "
   ]
  },
  {
   "cell_type": "code",
   "execution_count": 35,
   "metadata": {},
   "outputs": [],
   "source": [
    "forecast_horizon"
   ]
  },
  {
   "cell_type": "code",
   "execution_count": null,
   "metadata": {},
   "outputs": [],
   "source": []
  },
  {
   "cell_type": "code",
   "execution_count": 10,
   "metadata": {},
   "outputs": [
    {
     "data": {
      "text/plain": [
       "array([0., 0., 0., ..., 0., 0., 0.], dtype=float32)"
      ]
     },
     "execution_count": 10,
     "metadata": {},
     "output_type": "execute_result"
    }
   ],
   "source": [
    "entry['target']"
   ]
  },
  {
   "cell_type": "code",
   "execution_count": 3,
   "metadata": {},
   "outputs": [
    {
     "name": "stderr",
     "output_type": "stream",
     "text": [
      "/home/reshawn/miniconda3/envs/clfr/lib/python3.11/site-packages/gluonts/json.py:102: UserWarning: Using `json`-module for json-handling. Consider installing one of `orjson`, `ujson` to speed up serialization and deserialization.\n",
      "  warnings.warn(\n"
     ]
    }
   ],
   "source": [
    "from gluonts.dataset.repository import get_dataset, dataset_names\n",
    "from gluonts.dataset.util import to_pandas\n",
    "\n",
    "# print(f\"Available datasets: {dataset_names}\")\n",
    "dataset = get_dataset(\"solar-energy\")\n",
    "series_num = -1\n",
    "\n",
    "for entry in dataset.test:\n",
    "    # print(entry['item_id'])\n",
    "    if entry['item_id'] == 3:\n",
    "        break\n",
    "series_num = entry['item_id']\n",
    "\n",
    "import pandas as pd\n",
    "import numpy as np\n",
    "\n",
    "def adjust_split_point(series, threshold=0.05, max_iterations=1000):\n",
    "    split_point = np.median(series)\n",
    "    increment = 0.01  # Initial increment\n",
    "    iterations = 0\n",
    "\n",
    "    while iterations < max_iterations:\n",
    "        binary_series = (series > split_point).astype(int)\n",
    "        balance = binary_series.mean()[0]\n",
    "\n",
    "        # Check if balance is within the threshold\n",
    "        if abs(balance - 0.5) <= threshold:\n",
    "            break\n",
    "\n",
    "        # Adjust increment based on how far off the balance is\n",
    "        distance_from_balance = abs(balance - 0.5)\n",
    "        increment = max(0.001, increment * (1 + distance_from_balance))  # Scale increment\n",
    "\n",
    "        # Adjust split point based on balance\n",
    "        if balance < 0.5:\n",
    "            split_point -= increment\n",
    "        else:\n",
    "            split_point += increment\n",
    "\n",
    "        iterations += 1\n",
    "\n",
    "    return split_point\n",
    "\n",
    "def derive_feats(df):\n",
    "    # Define window sizes for rolling calculations\n",
    "    window_sizes = [2, 3, 4, 5]\n",
    "\n",
    "    # Calculate rolling window features for different window sizes\n",
    "    for window_size in window_sizes:\n",
    "        df[f'rolling_mean_{window_size}'] = df['values'].rolling(window=window_size).mean()\n",
    "        df[f'rolling_sum_{window_size}'] = df['values'].rolling(window=window_size).sum()\n",
    "        df[f'rolling_min_{window_size}'] = df['values'].rolling(window=window_size).min()\n",
    "        df[f'rolling_max_{window_size}'] = df['values'].rolling(window=window_size).max()\n",
    "        df[f'rolling_std_{window_size}'] = df['values'].rolling(window=window_size).std()\n",
    "\n",
    "    # Calculate additional features\n",
    "    df['lag_1'] = df['values'].shift(1)  # Previous value\n",
    "    df['lag_2'] = df['values'].shift(2)  # Value two steps back\n",
    "    df['lag_3'] = df['values'].shift(3)  # Value three steps back\n",
    "    df['lag_4'] = df['values'].shift(4)  # Value four steps back\n",
    "    df['difference'] = df['values'].diff()  # Difference from the previous value\n",
    "    df['percentage_change'] = df['values'].pct_change()  # Percentage change from the previous value\n",
    "    df['cumulative_sum'] = df['values'].cumsum()  # Cumulative sum\n",
    "    df['cumulative_mean'] = df['values'].expanding().mean()  # Cumulative mean\n",
    "    df['cumulative_max'] = df['values'].cummax()  # Cumulative maximum\n",
    "    df['cumulative_min'] = df['values'].cummin()  # Cumulative minimum\n",
    "    df.dropna(inplace=True)\n",
    "\n",
    "    return df.reset_index(drop=True)\n",
    "\n",
    "\n",
    "\n",
    "\n",
    "df = pd.DataFrame(entry['target'])\n",
    "series = df[[0]].copy()\n",
    "changes = series.diff().dropna()\n",
    "\n",
    "split_point = adjust_split_point(changes)\n",
    "binary_series = (changes > split_point).astype(int)\n",
    "\n",
    "df = df.iloc[:-1].copy() # reflect diff drop of row 1 on original df\n",
    "df['label'] = binary_series.values\n",
    "df.rename(columns={0: 'values'}, inplace=True)\n",
    "\n",
    "df = derive_feats(df)"
   ]
  },
  {
   "cell_type": "code",
   "execution_count": 13,
   "metadata": {},
   "outputs": [],
   "source": [
    "df = df.replace([np.inf, -np.inf], np.nan).dropna()"
   ]
  },
  {
   "cell_type": "code",
   "execution_count": 12,
   "metadata": {},
   "outputs": [
    {
     "ename": "NameError",
     "evalue": "name 'X' is not defined",
     "output_type": "error",
     "traceback": [
      "\u001b[0;31m---------------------------------------------------------------------------\u001b[0m",
      "\u001b[0;31mNameError\u001b[0m                                 Traceback (most recent call last)",
      "Cell \u001b[0;32mIn[12], line 1\u001b[0m\n\u001b[0;32m----> 1\u001b[0m \u001b[43mX\u001b[49m\u001b[38;5;241m.\u001b[39mdropna()[\u001b[38;5;124m'\u001b[39m\u001b[38;5;124mcumulative_max\u001b[39m\u001b[38;5;124m'\u001b[39m]\u001b[38;5;241m.\u001b[39miloc[\u001b[38;5;241m0\u001b[39m]\n",
      "\u001b[0;31mNameError\u001b[0m: name 'X' is not defined"
     ]
    }
   ],
   "source": [
    "X.dropna()['cumulative_max'].iloc[0]"
   ]
  },
  {
   "cell_type": "markdown",
   "metadata": {},
   "source": [
    "## Run frac diff"
   ]
  },
  {
   "cell_type": "code",
   "execution_count": 5,
   "metadata": {},
   "outputs": [
    {
     "name": "stdout",
     "output_type": "stream",
     "text": [
      "The autoreload extension is already loaded. To reload it, use:\n",
      "  %reload_ext autoreload\n",
      "/mnt/c/Users/resha/Documents/Github/balancing_framework\n"
     ]
    }
   ],
   "source": [
    "# to reload local packages when debugging\n",
    "%load_ext autoreload\n",
    "%autoreload 2\n",
    "\n",
    "%cd /mnt/c/Users/resha/Documents/Github/balancing_framework/\n",
    "\n",
    "import pickle\n",
    "import numpy as np\n",
    "\n"
   ]
  },
  {
   "cell_type": "code",
   "execution_count": null,
   "metadata": {},
   "outputs": [],
   "source": [
    "from fracdiff import frac_diff_bestd, frac_diff_ffd\n",
    "\n",
    "X = df.drop(columns=['label']) \n",
    "y = df['label']\n",
    "\n",
    "X, fd_change_pct = frac_diff_bestd(X)\n",
    "\n",
    "X.dropna(inplace=True)\n",
    "y = y.iloc[X.iloc[0].name:]\n",
    "X.reset_index(drop=True, inplace=True)\n",
    "y.reset_index(drop=True, inplace=True)"
   ]
  },
  {
   "cell_type": "markdown",
   "metadata": {},
   "source": [
    "## Run framework eval"
   ]
  },
  {
   "cell_type": "code",
   "execution_count": 8,
   "metadata": {},
   "outputs": [
    {
     "name": "stdout",
     "output_type": "stream",
     "text": [
      "RUNNING ADAPTATION MEASURE\n"
     ]
    },
    {
     "name": "stderr",
     "output_type": "stream",
     "text": [
      "  0%|          | 0/3 [00:00<?, ?it/s][I 2025-08-05 11:08:07,137] A new study created in memory with name: no-name-b44357f0-0fb7-4b78-90d4-f2744c3fb58d\n",
      "[I 2025-08-05 11:08:07,252] Trial 0 finished with value: 0.9107142857142857 and parameters: {'n_estimators': 29, 'max_depth': 14}. Best is trial 0 with value: 0.9107142857142857.\n",
      "[I 2025-08-05 11:08:07,292] Trial 1 finished with value: 0.9464285714285714 and parameters: {'n_estimators': 7, 'max_depth': 14}. Best is trial 1 with value: 0.9464285714285714.\n"
     ]
    },
    {
     "name": "stdout",
     "output_type": "stream",
     "text": [
      "Tuning run 1 of 3\n"
     ]
    },
    {
     "name": "stderr",
     "output_type": "stream",
     "text": [
      "[I 2025-08-05 11:08:07,352] Trial 2 finished with value: 0.9107142857142857 and parameters: {'n_estimators': 12, 'max_depth': 14}. Best is trial 1 with value: 0.9464285714285714.\n",
      "[I 2025-08-05 11:08:07,515] Trial 3 finished with value: 0.9285714285714286 and parameters: {'n_estimators': 48, 'max_depth': 13}. Best is trial 1 with value: 0.9464285714285714.\n",
      "[I 2025-08-05 11:08:07,616] Trial 4 finished with value: 0.9107142857142857 and parameters: {'n_estimators': 23, 'max_depth': 28}. Best is trial 1 with value: 0.9464285714285714.\n",
      "[I 2025-08-05 11:08:07,731] Trial 5 finished with value: 0.9107142857142857 and parameters: {'n_estimators': 27, 'max_depth': 32}. Best is trial 1 with value: 0.9464285714285714.\n",
      "[I 2025-08-05 11:08:07,822] Trial 6 finished with value: 0.9107142857142857 and parameters: {'n_estimators': 22, 'max_depth': 2}. Best is trial 1 with value: 0.9464285714285714.\n",
      "[I 2025-08-05 11:08:07,873] Trial 7 finished with value: 0.9107142857142857 and parameters: {'n_estimators': 10, 'max_depth': 16}. Best is trial 1 with value: 0.9464285714285714.\n",
      "[I 2025-08-05 11:08:08,003] Trial 8 finished with value: 0.9107142857142857 and parameters: {'n_estimators': 36, 'max_depth': 28}. Best is trial 1 with value: 0.9464285714285714.\n",
      "[I 2025-08-05 11:08:08,151] Trial 9 finished with value: 0.9107142857142857 and parameters: {'n_estimators': 42, 'max_depth': 6}. Best is trial 1 with value: 0.9464285714285714.\n"
     ]
    },
    {
     "name": "stdout",
     "output_type": "stream",
     "text": [
      "Optimization Time: 0.01693574791715946 minutes\n",
      "Training run 1 of 3\n",
      "Run 0 Accuracy: 0.9355\n",
      "Run 1 Accuracy: 0.9677\n",
      "Run 2 Accuracy: 0.9355\n",
      "Run 3 Accuracy: 0.9677\n",
      "Run 4 Accuracy: 0.9032\n",
      "Run 5 Accuracy: 0.9355\n",
      "Run 6 Accuracy: 0.9032\n",
      "Run 7 Accuracy: 0.9355\n"
     ]
    },
    {
     "name": "stderr",
     "output_type": "stream",
     "text": [
      " 33%|███▎      | 1/3 [00:01<00:03,  1.53s/it][I 2025-08-05 11:08:08,670] A new study created in memory with name: no-name-a9ce54e5-9c40-478e-b25d-814e06b30fde\n"
     ]
    },
    {
     "name": "stdout",
     "output_type": "stream",
     "text": [
      "Run 8 Accuracy: 0.9032\n",
      "Run 9 Accuracy: 0.9677\n",
      "Tuning run 2 of 3\n"
     ]
    },
    {
     "name": "stderr",
     "output_type": "stream",
     "text": [
      "[I 2025-08-05 11:08:08,818] Trial 0 finished with value: 0.9642857142857143 and parameters: {'n_estimators': 40, 'max_depth': 3}. Best is trial 0 with value: 0.9642857142857143.\n",
      "[I 2025-08-05 11:08:08,902] Trial 1 finished with value: 0.9732142857142857 and parameters: {'n_estimators': 18, 'max_depth': 28}. Best is trial 1 with value: 0.9732142857142857.\n",
      "[I 2025-08-05 11:08:08,987] Trial 2 finished with value: 0.9642857142857143 and parameters: {'n_estimators': 18, 'max_depth': 22}. Best is trial 1 with value: 0.9732142857142857.\n",
      "[I 2025-08-05 11:08:09,103] Trial 3 finished with value: 0.9732142857142857 and parameters: {'n_estimators': 24, 'max_depth': 25}. Best is trial 1 with value: 0.9732142857142857.\n",
      "[I 2025-08-05 11:08:09,205] Trial 4 finished with value: 0.9732142857142857 and parameters: {'n_estimators': 22, 'max_depth': 32}. Best is trial 1 with value: 0.9732142857142857.\n",
      "[I 2025-08-05 11:08:09,322] Trial 5 finished with value: 0.9642857142857143 and parameters: {'n_estimators': 29, 'max_depth': 32}. Best is trial 1 with value: 0.9732142857142857.\n",
      "[I 2025-08-05 11:08:09,402] Trial 6 finished with value: 0.9642857142857143 and parameters: {'n_estimators': 19, 'max_depth': 19}. Best is trial 1 with value: 0.9732142857142857.\n",
      "[I 2025-08-05 11:08:09,534] Trial 7 finished with value: 0.9732142857142857 and parameters: {'n_estimators': 34, 'max_depth': 30}. Best is trial 1 with value: 0.9732142857142857.\n",
      "[I 2025-08-05 11:08:09,740] Trial 8 finished with value: 0.9642857142857143 and parameters: {'n_estimators': 50, 'max_depth': 10}. Best is trial 1 with value: 0.9732142857142857.\n",
      "[I 2025-08-05 11:08:09,779] Trial 9 finished with value: 0.9732142857142857 and parameters: {'n_estimators': 5, 'max_depth': 15}. Best is trial 1 with value: 0.9732142857142857.\n"
     ]
    },
    {
     "name": "stdout",
     "output_type": "stream",
     "text": [
      "Optimization Time: 0.018517242766877946 minutes\n",
      "Training run 2 of 3\n",
      "Run 0 Accuracy: 0.9355\n",
      "Run 1 Accuracy: 0.9677\n",
      "Run 2 Accuracy: 0.9032\n",
      "Run 3 Accuracy: 0.9355\n",
      "Run 4 Accuracy: 0.9677\n",
      "Run 5 Accuracy: 0.9677\n",
      "Run 6 Accuracy: 0.9677\n",
      "Run 7 Accuracy: 0.9355\n"
     ]
    },
    {
     "name": "stderr",
     "output_type": "stream",
     "text": [
      " 67%|██████▋   | 2/3 [00:03<00:01,  1.84s/it][I 2025-08-05 11:08:10,731] A new study created in memory with name: no-name-fa4d232a-edd4-4753-98a9-a22fc2ae4dec\n",
      "[I 2025-08-05 11:08:10,830] Trial 0 finished with value: 0.9621212121212122 and parameters: {'n_estimators': 21, 'max_depth': 6}. Best is trial 0 with value: 0.9621212121212122.\n"
     ]
    },
    {
     "name": "stdout",
     "output_type": "stream",
     "text": [
      "Run 8 Accuracy: 0.9677\n",
      "Run 9 Accuracy: 0.9677\n",
      "Tuning run 3 of 3\n"
     ]
    },
    {
     "name": "stderr",
     "output_type": "stream",
     "text": [
      "[I 2025-08-05 11:08:11,017] Trial 1 finished with value: 0.946969696969697 and parameters: {'n_estimators': 43, 'max_depth': 26}. Best is trial 0 with value: 0.9621212121212122.\n",
      "[I 2025-08-05 11:08:11,212] Trial 2 finished with value: 0.9621212121212122 and parameters: {'n_estimators': 50, 'max_depth': 26}. Best is trial 0 with value: 0.9621212121212122.\n",
      "[I 2025-08-05 11:08:11,292] Trial 3 finished with value: 0.9545454545454546 and parameters: {'n_estimators': 18, 'max_depth': 9}. Best is trial 0 with value: 0.9621212121212122.\n",
      "[I 2025-08-05 11:08:11,477] Trial 4 finished with value: 0.946969696969697 and parameters: {'n_estimators': 48, 'max_depth': 16}. Best is trial 0 with value: 0.9621212121212122.\n",
      "[I 2025-08-05 11:08:11,509] Trial 5 finished with value: 0.946969696969697 and parameters: {'n_estimators': 4, 'max_depth': 10}. Best is trial 0 with value: 0.9621212121212122.\n",
      "[I 2025-08-05 11:08:11,650] Trial 6 finished with value: 0.9545454545454546 and parameters: {'n_estimators': 32, 'max_depth': 24}. Best is trial 0 with value: 0.9621212121212122.\n",
      "[I 2025-08-05 11:08:11,849] Trial 7 finished with value: 0.9545454545454546 and parameters: {'n_estimators': 48, 'max_depth': 19}. Best is trial 0 with value: 0.9621212121212122.\n",
      "[I 2025-08-05 11:08:12,060] Trial 8 finished with value: 0.9545454545454546 and parameters: {'n_estimators': 50, 'max_depth': 9}. Best is trial 0 with value: 0.9621212121212122.\n",
      "[I 2025-08-05 11:08:12,117] Trial 9 finished with value: 0.9393939393939394 and parameters: {'n_estimators': 11, 'max_depth': 23}. Best is trial 0 with value: 0.9621212121212122.\n"
     ]
    },
    {
     "name": "stdout",
     "output_type": "stream",
     "text": [
      "Optimization Time: 0.023127375549908416 minutes\n",
      "Training run 3 of 3\n",
      "Run 0 Accuracy: 1.0000\n",
      "Run 1 Accuracy: 1.0000\n",
      "Run 2 Accuracy: 1.0000\n",
      "Run 3 Accuracy: 1.0000\n",
      "Run 4 Accuracy: 1.0000\n",
      "Run 5 Accuracy: 1.0000\n",
      "Run 6 Accuracy: 1.0000\n",
      "Run 7 Accuracy: 1.0000\n",
      "Run 8 Accuracy: 1.0000\n"
     ]
    },
    {
     "name": "stderr",
     "output_type": "stream",
     "text": [
      "100%|██████████| 3/3 [00:06<00:00,  2.04s/it]\n"
     ]
    },
    {
     "name": "stdout",
     "output_type": "stream",
     "text": [
      "Run 9 Accuracy: 1.0000\n",
      "RUNNING CONSOLIDATION MEASURE\n"
     ]
    },
    {
     "name": "stderr",
     "output_type": "stream",
     "text": [
      "  0%|          | 0/3 [00:00<?, ?it/s][I 2025-08-05 11:08:13,264] A new study created in memory with name: no-name-95a3ccc6-41cc-44cd-adb0-6c9f9401c45e\n",
      "[I 2025-08-05 11:08:13,393] Trial 0 finished with value: 0.9107142857142857 and parameters: {'n_estimators': 23, 'max_depth': 19}. Best is trial 0 with value: 0.9107142857142857.\n"
     ]
    },
    {
     "name": "stdout",
     "output_type": "stream",
     "text": [
      "Tuning run 1 of 3\n"
     ]
    },
    {
     "name": "stderr",
     "output_type": "stream",
     "text": [
      "[I 2025-08-05 11:08:13,460] Trial 1 finished with value: 0.9107142857142857 and parameters: {'n_estimators': 13, 'max_depth': 20}. Best is trial 0 with value: 0.9107142857142857.\n",
      "[I 2025-08-05 11:08:13,578] Trial 2 finished with value: 0.9107142857142857 and parameters: {'n_estimators': 34, 'max_depth': 28}. Best is trial 0 with value: 0.9107142857142857.\n",
      "[I 2025-08-05 11:08:13,608] Trial 3 finished with value: 0.875 and parameters: {'n_estimators': 4, 'max_depth': 23}. Best is trial 0 with value: 0.9107142857142857.\n",
      "[I 2025-08-05 11:08:13,646] Trial 4 finished with value: 0.9107142857142857 and parameters: {'n_estimators': 7, 'max_depth': 8}. Best is trial 0 with value: 0.9107142857142857.\n",
      "[I 2025-08-05 11:08:13,749] Trial 5 finished with value: 0.9107142857142857 and parameters: {'n_estimators': 28, 'max_depth': 12}. Best is trial 0 with value: 0.9107142857142857.\n",
      "[I 2025-08-05 11:08:13,889] Trial 6 finished with value: 0.9107142857142857 and parameters: {'n_estimators': 47, 'max_depth': 18}. Best is trial 0 with value: 0.9107142857142857.\n",
      "[I 2025-08-05 11:08:13,926] Trial 7 finished with value: 0.9285714285714286 and parameters: {'n_estimators': 6, 'max_depth': 13}. Best is trial 7 with value: 0.9285714285714286.\n",
      "[I 2025-08-05 11:08:14,054] Trial 8 finished with value: 0.9107142857142857 and parameters: {'n_estimators': 39, 'max_depth': 26}. Best is trial 7 with value: 0.9285714285714286.\n",
      "[I 2025-08-05 11:08:14,142] Trial 9 finished with value: 0.9107142857142857 and parameters: {'n_estimators': 24, 'max_depth': 31}. Best is trial 7 with value: 0.9285714285714286.\n"
     ]
    },
    {
     "name": "stdout",
     "output_type": "stream",
     "text": [
      "Optimization Time: 0.014655456632802573 minutes\n",
      "Training run 1 of 3\n",
      "Run 0 Accuracy: 0.9355\n",
      "Run 1 Accuracy: 0.9677\n",
      "Run 2 Accuracy: 0.9355\n",
      "Run 3 Accuracy: 0.9355\n",
      "Run 4 Accuracy: 0.9677\n",
      "Run 5 Accuracy: 0.9355\n",
      "Run 6 Accuracy: 0.9355\n",
      "Run 7 Accuracy: 0.9355\n",
      "Run 8 Accuracy: 0.9677\n"
     ]
    },
    {
     "name": "stderr",
     "output_type": "stream",
     "text": [
      " 33%|███▎      | 1/3 [00:01<00:02,  1.34s/it][I 2025-08-05 11:08:14,608] A new study created in memory with name: no-name-7eb74fa6-8e54-4715-a930-b404460e590d\n",
      "[I 2025-08-05 11:08:14,725] Trial 0 finished with value: 0.9732142857142857 and parameters: {'n_estimators': 26, 'max_depth': 22}. Best is trial 0 with value: 0.9732142857142857.\n",
      "[I 2025-08-05 11:08:14,748] Trial 1 finished with value: 0.9553571428571429 and parameters: {'n_estimators': 2, 'max_depth': 8}. Best is trial 0 with value: 0.9732142857142857.\n"
     ]
    },
    {
     "name": "stdout",
     "output_type": "stream",
     "text": [
      "Run 9 Accuracy: 0.9355\n",
      "Tuning run 2 of 3\n"
     ]
    },
    {
     "name": "stderr",
     "output_type": "stream",
     "text": [
      "[I 2025-08-05 11:08:14,926] Trial 2 finished with value: 0.9642857142857143 and parameters: {'n_estimators': 41, 'max_depth': 4}. Best is trial 0 with value: 0.9732142857142857.\n",
      "[I 2025-08-05 11:08:15,017] Trial 3 finished with value: 0.9642857142857143 and parameters: {'n_estimators': 17, 'max_depth': 28}. Best is trial 0 with value: 0.9732142857142857.\n",
      "[I 2025-08-05 11:08:15,172] Trial 4 finished with value: 0.9642857142857143 and parameters: {'n_estimators': 36, 'max_depth': 24}. Best is trial 0 with value: 0.9732142857142857.\n",
      "[I 2025-08-05 11:08:15,281] Trial 5 finished with value: 0.9821428571428571 and parameters: {'n_estimators': 24, 'max_depth': 7}. Best is trial 5 with value: 0.9821428571428571.\n",
      "[I 2025-08-05 11:08:15,437] Trial 6 finished with value: 0.9732142857142857 and parameters: {'n_estimators': 36, 'max_depth': 27}. Best is trial 5 with value: 0.9821428571428571.\n",
      "[I 2025-08-05 11:08:15,629] Trial 7 finished with value: 0.9732142857142857 and parameters: {'n_estimators': 49, 'max_depth': 31}. Best is trial 5 with value: 0.9821428571428571.\n",
      "[I 2025-08-05 11:08:15,718] Trial 8 finished with value: 0.9732142857142857 and parameters: {'n_estimators': 21, 'max_depth': 28}. Best is trial 5 with value: 0.9821428571428571.\n",
      "[I 2025-08-05 11:08:15,797] Trial 9 finished with value: 0.9732142857142857 and parameters: {'n_estimators': 19, 'max_depth': 17}. Best is trial 5 with value: 0.9821428571428571.\n"
     ]
    },
    {
     "name": "stdout",
     "output_type": "stream",
     "text": [
      "Optimization Time: 0.019839469900277133 minutes\n",
      "Training run 2 of 3\n",
      "Run 0 Accuracy: 0.9677\n",
      "Run 1 Accuracy: 0.9677\n",
      "Run 2 Accuracy: 0.9677\n",
      "Run 3 Accuracy: 0.9677\n",
      "Run 4 Accuracy: 0.9516\n",
      "Run 5 Accuracy: 0.9677\n",
      "Run 6 Accuracy: 0.9516\n",
      "Run 7 Accuracy: 0.9516\n",
      "Run 8 Accuracy: 0.9677\n"
     ]
    },
    {
     "name": "stderr",
     "output_type": "stream",
     "text": [
      " 67%|██████▋   | 2/3 [00:03<00:01,  1.97s/it][I 2025-08-05 11:08:17,014] A new study created in memory with name: no-name-74c2e3c1-f375-426c-a913-7bf3c18b598e\n",
      "[I 2025-08-05 11:08:17,037] Trial 0 finished with value: 0.9393939393939394 and parameters: {'n_estimators': 1, 'max_depth': 15}. Best is trial 0 with value: 0.9393939393939394.\n",
      "[I 2025-08-05 11:08:17,152] Trial 1 finished with value: 0.9545454545454546 and parameters: {'n_estimators': 22, 'max_depth': 10}. Best is trial 1 with value: 0.9545454545454546.\n",
      "[I 2025-08-05 11:08:17,184] Trial 2 finished with value: 0.9621212121212122 and parameters: {'n_estimators': 3, 'max_depth': 20}. Best is trial 2 with value: 0.9621212121212122.\n"
     ]
    },
    {
     "name": "stdout",
     "output_type": "stream",
     "text": [
      "Run 9 Accuracy: 0.9516\n",
      "Tuning run 3 of 3\n"
     ]
    },
    {
     "name": "stderr",
     "output_type": "stream",
     "text": [
      "[I 2025-08-05 11:08:17,268] Trial 3 finished with value: 0.9696969696969697 and parameters: {'n_estimators': 13, 'max_depth': 30}. Best is trial 3 with value: 0.9696969696969697.\n",
      "[I 2025-08-05 11:08:17,336] Trial 4 finished with value: 0.9545454545454546 and parameters: {'n_estimators': 10, 'max_depth': 7}. Best is trial 3 with value: 0.9696969696969697.\n",
      "[I 2025-08-05 11:08:17,564] Trial 5 finished with value: 0.9545454545454546 and parameters: {'n_estimators': 50, 'max_depth': 32}. Best is trial 3 with value: 0.9696969696969697.\n",
      "[I 2025-08-05 11:08:17,598] Trial 6 finished with value: 0.946969696969697 and parameters: {'n_estimators': 4, 'max_depth': 15}. Best is trial 3 with value: 0.9696969696969697.\n",
      "[I 2025-08-05 11:08:17,700] Trial 7 finished with value: 0.9545454545454546 and parameters: {'n_estimators': 21, 'max_depth': 19}. Best is trial 3 with value: 0.9696969696969697.\n",
      "[I 2025-08-05 11:08:17,868] Trial 8 finished with value: 0.946969696969697 and parameters: {'n_estimators': 37, 'max_depth': 22}. Best is trial 3 with value: 0.9696969696969697.\n",
      "[I 2025-08-05 11:08:18,017] Trial 9 finished with value: 0.9545454545454546 and parameters: {'n_estimators': 34, 'max_depth': 17}. Best is trial 3 with value: 0.9696969696969697.\n"
     ]
    },
    {
     "name": "stdout",
     "output_type": "stream",
     "text": [
      "Optimization Time: 0.016734670767133746 minutes\n",
      "Training run 3 of 3\n",
      "Run 0 Accuracy: 0.9595\n",
      "Run 1 Accuracy: 0.9595\n",
      "Run 2 Accuracy: 0.9730\n",
      "Run 3 Accuracy: 0.9595\n",
      "Run 4 Accuracy: 0.9595\n",
      "Run 5 Accuracy: 0.9595\n",
      "Run 6 Accuracy: 0.9595\n",
      "Run 7 Accuracy: 0.9730\n"
     ]
    },
    {
     "name": "stderr",
     "output_type": "stream",
     "text": [
      "100%|██████████| 3/3 [00:05<00:00,  1.85s/it]"
     ]
    },
    {
     "name": "stdout",
     "output_type": "stream",
     "text": [
      "Run 8 Accuracy: 0.9459\n",
      "Run 9 Accuracy: 0.9459\n"
     ]
    },
    {
     "name": "stderr",
     "output_type": "stream",
     "text": [
      "\n"
     ]
    }
   ],
   "source": [
    "X_original = df.drop(columns=['label']) \n",
    "y_original = df['label']\n",
    "\n",
    "\n",
    "from framework import run_measurements, viz\n",
    "\n",
    "dataset_name = 'md4_1'\n",
    "model_name = 'random_forest'\n",
    "# lower bounds to chunk size\n",
    "# min to run, chunk_size > X.shape(1) * 10\n",
    "# min for 10 splits, chunk_size > X.shape(0) /10 ;;; can adjust this min, unsure atm how many series fails condition\n",
    "# upper bound to chunk size\n",
    "# max num of splits, 100, 100 > (X.shape(0) / chunk_size) therefore default to 1% chunk size, using the lower bound\n",
    "chunk_size = int(X.shape[0] * 0.01)\n",
    "min_splits = 3\n",
    "if chunk_size < (X.shape[1] * 10):\n",
    "    chunk_size = X.shape[1] * 10\n",
    "if chunk_size < (X.shape[0] / min_splits):\n",
    "    print(f'series length {X.shape[0]} with {X.shape[1]} feats does not meet criteria of >=10*n_features and a resulting count of splits > min_splits={min_splits}.')\n",
    "    pass\n",
    "# cold_start_size = 10_000\n",
    "num_runs = 10\n",
    "data_form = 'original'\n",
    "\n",
    "\n",
    "a,c,p = run_measurements(X, y, chunk_size, dataset_name, model_name, num_runs=num_runs, frac_diff=False)\n",
    "\n",
    "\n",
    "####################################### Save Results and Visualizations ###############################################################################\n",
    "# import os\n",
    "# base_dir = '/mnt/c/Users/resha/Documents/Github/balancing_framework/results/notebooks_alt_data'\n",
    "# dir_ext = f'{dataset_name}_{series_num} {data_form} chunk_size={chunk_size} num_runs={num_runs} {model_name}'\n",
    "# save_dir = os.path.join(base_dir, dir_ext)\n",
    "# if not os.path.exists(save_dir):\n",
    "#     os.mkdir(save_dir)\n",
    "# with open(f'{save_dir}/adaptation_results_{data_forms}.pkl', 'wb') as f:\n",
    "#     pickle.dump(a, f)\n",
    "# with open(f'{save_dir}/consolidation_results_{data_forms}.pkl', 'wb') as f:\n",
    "#     pickle.dump(c, f)\n",
    "\n",
    "# end = time.time()\n",
    "# print(f\"Runtime: {(end - start) / 60} minutes\")\n",
    "\n",
    "# viz(a, c, metric='accuracy', title=data_form, dir=save_dir) \n",
    "# viz(a, c, metric='f1', title=data_form, dir=save_dir) \n",
    "\n",
    "# base_dir = '/mnt/c/Users/resha/Documents/Github/balancing_framework/notebooks_alt_data'\n",
    "# dir_ext = f'{dataset_name}_{series_num} {data_form} chunk_size={chunk_size} num_runs={num_runs} {model_name}'\n",
    "# save_dir = f'{base_dir}/{dir_ext}'\n",
    "# viz(a, c, metric='accuracy', title=data_form, dir=save_dir) \n",
    "# viz(a, c, metric='f1', title=data_form, dir=save_dir) "
   ]
  },
  {
   "cell_type": "code",
   "execution_count": null,
   "metadata": {},
   "outputs": [],
   "source": []
  }
 ],
 "metadata": {
  "kernelspec": {
   "display_name": "clfr",
   "language": "python",
   "name": "python3"
  },
  "language_info": {
   "codemirror_mode": {
    "name": "ipython",
    "version": 3
   },
   "file_extension": ".py",
   "mimetype": "text/x-python",
   "name": "python",
   "nbconvert_exporter": "python",
   "pygments_lexer": "ipython3",
   "version": "3.11.8"
  }
 },
 "nbformat": 4,
 "nbformat_minor": 2
}
