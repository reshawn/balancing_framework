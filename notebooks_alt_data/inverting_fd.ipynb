{
 "cells": [
  {
   "cell_type": "markdown",
   "id": "a0da8edf",
   "metadata": {},
   "source": [
    "## Load data and fd"
   ]
  },
  {
   "cell_type": "code",
   "execution_count": 102,
   "id": "15119e8e",
   "metadata": {},
   "outputs": [
    {
     "name": "stdout",
     "output_type": "stream",
     "text": [
      "The autoreload extension is already loaded. To reload it, use:\n",
      "  %reload_ext autoreload\n",
      "/mnt/c/Users/resha/Documents/Github/balancing_framework\n"
     ]
    }
   ],
   "source": [
    "%load_ext autoreload\n",
    "%autoreload 2\n",
    "%cd /mnt/c/Users/resha/Documents/Github/balancing_framework/\n",
    "\n",
    "from gluonts.dataset.repository import get_dataset, dataset_names\n",
    "from gluonts.dataset.util import to_pandas\n",
    "\n",
    "import pickle\n",
    "import pandas as pd\n",
    "import numpy as np\n",
    "import json\n",
    "import time\n",
    "import argparse\n",
    "from tqdm import tqdm\n",
    "\n",
    "from framework import run_measurements, viz\n",
    "from fracdiff import frac_diff_bestd\n",
    "from monash_data_utils import convert_tsf_to_dataframe, monash_df_to_gluonts_train_datasets\n",
    "import os\n"
   ]
  },
  {
   "cell_type": "code",
   "execution_count": 107,
   "id": "f637c86c",
   "metadata": {},
   "outputs": [
    {
     "name": "stderr",
     "output_type": "stream",
     "text": [
      " 28%|██▊       | 1166/4227 [00:00<00:00, 774557.88it/s]\n"
     ]
    }
   ],
   "source": [
    "\n",
    "# print(f\"Available datasets: {dataset_names}\")\n",
    "dataset = None\n",
    "monash_dir = \"monash_data\"\n",
    "series_num = -1\n",
    "\n",
    "# dataset_name = 'london_smart_meters_without_missing' # m4_daily_dataset ; london_smart_meters_without_missing\n",
    "# series_to_pull = 867 # m4, 1165 ; london, 1610 867\n",
    "dataset_name = 'm4_daily_dataset' # m4_daily_dataset ; london_smart_meters_without_missing\n",
    "series_to_pull = 1165 # m4, 1165 ; london, 1610 867\n",
    "\n",
    "if os.path.exists(f\"{monash_dir}/{dataset_name}.tsf\"):\n",
    "    loaded_data, frequency, forecast_horizon, contain_missing_values, contain_equal_length = convert_tsf_to_dataframe(f\"{monash_dir}/{dataset_name}.tsf\")\n",
    "    if forecast_horizon is None: forecast_horizon = 24\n",
    "    dataset = monash_df_to_gluonts_train_datasets(loaded_data, frequency, forecast_horizon)\n",
    "\n",
    "if dataset is None:\n",
    "    if dataset_name in dataset_names:\n",
    "        dataset = get_dataset(dataset_name)\n",
    "    else:\n",
    "        raise ValueError(f\"Dataset {dataset_name} not found in gluonts availables or local monash files.\")\n",
    "\n",
    "for entry in tqdm(dataset.test):\n",
    "    series_num += 1\n",
    "    if series_num > series_to_pull:\n",
    "        break\n",
    "    if series_num != series_to_pull:\n",
    "        continue\n",
    "    row = pd.Series(entry['target'])\n"
   ]
  },
  {
   "cell_type": "code",
   "execution_count": 108,
   "id": "2d34fdac",
   "metadata": {},
   "outputs": [],
   "source": [
    "m4_row = row.copy()"
   ]
  },
  {
   "cell_type": "code",
   "execution_count": 22,
   "id": "e6f86127",
   "metadata": {},
   "outputs": [
    {
     "name": "stdout",
     "output_type": "stream",
     "text": [
      "0\n",
      "0 d=0.0 stat windows =0 out of 1 p-values = [0.40475490833834854]\n",
      "0 d=0.05 stat windows =0 out of 1 p-values = [0.13221371013333116]\n",
      "0 d=0.1 stat windows =1 out of 1 p-values = [0.012780982871069236]\n",
      "0 stationary with d=0.1 thresh=ignored stat windows =1 out of 1 p-values = [0.012780982871069236]\n",
      "changed 1 out of 1 columns; 100.0%\n"
     ]
    }
   ],
   "source": [
    "df_fd, fd_change_pct = frac_diff_bestd(row.to_frame() )\n",
    "df_fd.dropna(inplace=True)\n",
    "df_fd.reset_index(drop=True, inplace=True)"
   ]
  },
  {
   "cell_type": "code",
   "execution_count": 24,
   "id": "06beb2fc",
   "metadata": {},
   "outputs": [
    {
     "data": {
      "text/html": [
       "<div>\n",
       "<style scoped>\n",
       "    .dataframe tbody tr th:only-of-type {\n",
       "        vertical-align: middle;\n",
       "    }\n",
       "\n",
       "    .dataframe tbody tr th {\n",
       "        vertical-align: top;\n",
       "    }\n",
       "\n",
       "    .dataframe thead th {\n",
       "        text-align: right;\n",
       "    }\n",
       "</style>\n",
       "<table border=\"1\" class=\"dataframe\">\n",
       "  <thead>\n",
       "    <tr style=\"text-align: right;\">\n",
       "      <th></th>\n",
       "      <th>values_fd</th>\n",
       "      <th>values_o</th>\n",
       "    </tr>\n",
       "  </thead>\n",
       "  <tbody>\n",
       "    <tr>\n",
       "      <th>0</th>\n",
       "      <td>7324.399902</td>\n",
       "      <td>7324.399902</td>\n",
       "    </tr>\n",
       "    <tr>\n",
       "      <th>1</th>\n",
       "      <td>6469.260205</td>\n",
       "      <td>7201.700195</td>\n",
       "    </tr>\n",
       "    <tr>\n",
       "      <th>2</th>\n",
       "      <td>6146.631887</td>\n",
       "      <td>7196.399902</td>\n",
       "    </tr>\n",
       "    <tr>\n",
       "      <th>3</th>\n",
       "      <td>5924.538104</td>\n",
       "      <td>7177.000000</td>\n",
       "    </tr>\n",
       "    <tr>\n",
       "      <th>4</th>\n",
       "      <td>5742.473234</td>\n",
       "      <td>7140.600098</td>\n",
       "    </tr>\n",
       "    <tr>\n",
       "      <th>...</th>\n",
       "      <td>...</td>\n",
       "      <td>...</td>\n",
       "    </tr>\n",
       "    <tr>\n",
       "      <th>8528</th>\n",
       "      <td>3376.790931</td>\n",
       "      <td>8862.099609</td>\n",
       "    </tr>\n",
       "    <tr>\n",
       "      <th>8529</th>\n",
       "      <td>3365.813556</td>\n",
       "      <td>8849.799805</td>\n",
       "    </tr>\n",
       "    <tr>\n",
       "      <th>8530</th>\n",
       "      <td>3389.219117</td>\n",
       "      <td>8870.599609</td>\n",
       "    </tr>\n",
       "    <tr>\n",
       "      <th>8531</th>\n",
       "      <td>3399.557134</td>\n",
       "      <td>8881.299805</td>\n",
       "    </tr>\n",
       "    <tr>\n",
       "      <th>8532</th>\n",
       "      <td>3391.675757</td>\n",
       "      <td>8874.099609</td>\n",
       "    </tr>\n",
       "  </tbody>\n",
       "</table>\n",
       "<p>8533 rows × 2 columns</p>\n",
       "</div>"
      ],
      "text/plain": [
       "        values_fd     values_o\n",
       "0     7324.399902  7324.399902\n",
       "1     6469.260205  7201.700195\n",
       "2     6146.631887  7196.399902\n",
       "3     5924.538104  7177.000000\n",
       "4     5742.473234  7140.600098\n",
       "...           ...          ...\n",
       "8528  3376.790931  8862.099609\n",
       "8529  3365.813556  8849.799805\n",
       "8530  3389.219117  8870.599609\n",
       "8531  3399.557134  8881.299805\n",
       "8532  3391.675757  8874.099609\n",
       "\n",
       "[8533 rows x 2 columns]"
      ]
     },
     "execution_count": 24,
     "metadata": {},
     "output_type": "execute_result"
    }
   ],
   "source": [
    "df_fd.rename(columns={0: 'values_fd'}, inplace=True)\n",
    "df_fd['values_o'] = m4_row\n",
    "df_fd"
   ]
  },
  {
   "cell_type": "code",
   "execution_count": 25,
   "id": "18d358a5",
   "metadata": {},
   "outputs": [],
   "source": [
    "df_fd.to_csv('m4_1165_fd.csv', index=False)"
   ]
  },
  {
   "cell_type": "code",
   "execution_count": 109,
   "id": "fe5dbef0",
   "metadata": {},
   "outputs": [
    {
     "name": "stdout",
     "output_type": "stream",
     "text": [
      "0\n",
      "0 d=0.0 stat windows =0 out of 1 p-values = [0.40475490833834854]\n",
      "0 d=0.05 stat windows =0 out of 1 p-values = [0.40082197207465353]\n",
      "0 d=0.1 stat windows =0 out of 1 p-values = [0.39823861401453714]\n",
      "0 d=0.15000000000000002 stat windows =0 out of 1 p-values = [0.3975589694347825]\n",
      "0 d=0.2 stat windows =0 out of 1 p-values = [0.3979738138363143]\n",
      "0 d=0.25 stat windows =0 out of 1 p-values = [0.39846188760191503]\n",
      "0 d=0.30000000000000004 stat windows =0 out of 1 p-values = [0.3979175069825597]\n",
      "0 d=0.35000000000000003 stat windows =0 out of 1 p-values = [0.39517089647864045]\n",
      "0 d=0.4 stat windows =0 out of 1 p-values = [0.3933139352992462]\n",
      "0 d=0.45 stat windows =0 out of 1 p-values = [0.3829194495851823]\n",
      "0 d=0.5 stat windows =0 out of 1 p-values = [0.3770349189667393]\n",
      "0 d=0.55 stat windows =0 out of 1 p-values = [0.37109195264044437]\n",
      "0 d=0.6000000000000001 stat windows =0 out of 1 p-values = [0.3372671132572853]\n",
      "0 d=0.65 stat windows =0 out of 1 p-values = [0.3226930071005992]\n",
      "0 d=0.7000000000000001 stat windows =0 out of 1 p-values = [0.3063559013803254]\n",
      "0 d=0.75 stat windows =0 out of 1 p-values = [0.21895078034336268]\n",
      "0 d=0.8 stat windows =0 out of 1 p-values = [0.17832956254519755]\n",
      "0 d=0.8500000000000001 stat windows =0 out of 1 p-values = [0.12836300381107352]\n",
      "0 d=0.9 stat windows =0 out of 1 p-values = [0.06648516724856342]\n",
      "0 d=0.9500000000000001 stat windows =1 out of 1 p-values = [0.006812139404067202]\n",
      "0 stationary with d=0.9500000000000001 thresh=0.01 stat windows =1 out of 1 p-values = [0.006812139404067202]\n",
      "changed 1 out of 1 columns; 100.0%\n"
     ]
    }
   ],
   "source": [
    "df_fd, fd_change_pct, fd_params = frac_diff_bestd(row.to_frame(), type='ffd' )\n",
    "df_fd.dropna(inplace=True)\n",
    "df_fd.reset_index(drop=True, inplace=True)"
   ]
  },
  {
   "cell_type": "code",
   "execution_count": 110,
   "id": "7df46abd",
   "metadata": {},
   "outputs": [
    {
     "data": {
      "text/plain": [
       "{'col': (0.9500000000000001, 0.01)}"
      ]
     },
     "execution_count": 110,
     "metadata": {},
     "output_type": "execute_result"
    }
   ],
   "source": [
    "fd_params"
   ]
  },
  {
   "cell_type": "code",
   "execution_count": 111,
   "id": "dbbd4ba3",
   "metadata": {},
   "outputs": [
    {
     "data": {
      "text/html": [
       "<div>\n",
       "<style scoped>\n",
       "    .dataframe tbody tr th:only-of-type {\n",
       "        vertical-align: middle;\n",
       "    }\n",
       "\n",
       "    .dataframe tbody tr th {\n",
       "        vertical-align: top;\n",
       "    }\n",
       "\n",
       "    .dataframe thead th {\n",
       "        text-align: right;\n",
       "    }\n",
       "</style>\n",
       "<table border=\"1\" class=\"dataframe\">\n",
       "  <thead>\n",
       "    <tr style=\"text-align: right;\">\n",
       "      <th></th>\n",
       "      <th>values_fd</th>\n",
       "      <th>values_o</th>\n",
       "    </tr>\n",
       "  </thead>\n",
       "  <tbody>\n",
       "    <tr>\n",
       "      <th>0</th>\n",
       "      <td>180.830219</td>\n",
       "      <td>7324.399902</td>\n",
       "    </tr>\n",
       "    <tr>\n",
       "      <th>1</th>\n",
       "      <td>169.379713</td>\n",
       "      <td>7201.700195</td>\n",
       "    </tr>\n",
       "    <tr>\n",
       "      <th>2</th>\n",
       "      <td>151.535600</td>\n",
       "      <td>7196.399902</td>\n",
       "    </tr>\n",
       "    <tr>\n",
       "      <th>3</th>\n",
       "      <td>51.476157</td>\n",
       "      <td>7177.000000</td>\n",
       "    </tr>\n",
       "    <tr>\n",
       "      <th>4</th>\n",
       "      <td>209.385943</td>\n",
       "      <td>7140.600098</td>\n",
       "    </tr>\n",
       "    <tr>\n",
       "      <th>...</th>\n",
       "      <td>...</td>\n",
       "      <td>...</td>\n",
       "    </tr>\n",
       "    <tr>\n",
       "      <th>8526</th>\n",
       "      <td>247.116873</td>\n",
       "      <td>8860.099609</td>\n",
       "    </tr>\n",
       "    <tr>\n",
       "      <th>8527</th>\n",
       "      <td>220.691292</td>\n",
       "      <td>8846.900391</td>\n",
       "    </tr>\n",
       "    <tr>\n",
       "      <th>8528</th>\n",
       "      <td>252.814929</td>\n",
       "      <td>8862.099609</td>\n",
       "    </tr>\n",
       "    <tr>\n",
       "      <th>8529</th>\n",
       "      <td>244.047430</td>\n",
       "      <td>8849.799805</td>\n",
       "    </tr>\n",
       "    <tr>\n",
       "      <th>8530</th>\n",
       "      <td>226.188054</td>\n",
       "      <td>8870.599609</td>\n",
       "    </tr>\n",
       "  </tbody>\n",
       "</table>\n",
       "<p>8531 rows × 2 columns</p>\n",
       "</div>"
      ],
      "text/plain": [
       "       values_fd     values_o\n",
       "0     180.830219  7324.399902\n",
       "1     169.379713  7201.700195\n",
       "2     151.535600  7196.399902\n",
       "3      51.476157  7177.000000\n",
       "4     209.385943  7140.600098\n",
       "...          ...          ...\n",
       "8526  247.116873  8860.099609\n",
       "8527  220.691292  8846.900391\n",
       "8528  252.814929  8862.099609\n",
       "8529  244.047430  8849.799805\n",
       "8530  226.188054  8870.599609\n",
       "\n",
       "[8531 rows x 2 columns]"
      ]
     },
     "execution_count": 111,
     "metadata": {},
     "output_type": "execute_result"
    }
   ],
   "source": [
    "df_fd.rename(columns={0: 'values_fd'}, inplace=True)\n",
    "df_fd['values_o'] = row\n",
    "df_fd"
   ]
  },
  {
   "cell_type": "code",
   "execution_count": 113,
   "id": "e60b329e",
   "metadata": {},
   "outputs": [],
   "source": [
    "df_fd.to_csv('m4_1165_ffd.csv', index=False)"
   ]
  },
  {
   "cell_type": "code",
   "execution_count": 19,
   "id": "30e00123",
   "metadata": {},
   "outputs": [
    {
     "data": {
      "image/png": "[encoded data removed]",
      "text/plain": [
       "<Figure size 1000x800 with 2 Axes>"
      ]
     },
     "metadata": {},
     "output_type": "display_data"
    }
   ],
   "source": [
    "import pandas as pd\n",
    "import matplotlib.pyplot as plt\n",
    "\n",
    "# Create a figure with two subplots, arranged vertically\n",
    "# The sharex=True argument ensures both plots share the same x-axis for easier comparison\n",
    "fig, (ax1, ax2) = plt.subplots(2, 1, figsize=(10, 8), sharex=False)\n",
    "\n",
    "# Plot the first series on the top subplot (ax1)\n",
    "ax1.plot(df_fd[0],color='b')\n",
    "ax1.set_title('M4 Daily Series 1165 (FD)', fontsize=14)\n",
    "ax1.set_ylabel('Value', fontsize=12)\n",
    "ax1.grid(True)\n",
    "\n",
    "# Plot the second series on the bottom subplot (ax2)\n",
    "ax2.plot(m4_row, color='r')\n",
    "ax2.set_title('M4 Daily Series 1165', fontsize=14)\n",
    "ax2.set_xlabel('Index', fontsize=12)\n",
    "ax2.set_ylabel('Original Value', fontsize=12)\n",
    "ax2.grid(True)\n",
    "\n",
    "# Adjust the layout to prevent titles and labels from overlapping\n",
    "plt.tight_layout()\n",
    "# plt.savefig(f'compare_series.png')"
   ]
  },
  {
   "cell_type": "code",
   "execution_count": 17,
   "id": "89d84ce9",
   "metadata": {},
   "outputs": [
    {
     "data": {
      "image/png": "[encoded data removed]",
      "text/plain": [
       "<Figure size 1000x800 with 2 Axes>"
      ]
     },
     "metadata": {},
     "output_type": "display_data"
    }
   ],
   "source": [
    "import pandas as pd\n",
    "import matplotlib.pyplot as plt\n",
    "\n",
    "# Create a figure with two subplots, arranged vertically\n",
    "# The sharex=True argument ensures both plots share the same x-axis for easier comparison\n",
    "fig, (ax1, ax2) = plt.subplots(2, 1, figsize=(10, 8), sharex=False)\n",
    "\n",
    "# Plot the first series on the top subplot (ax1)\n",
    "ax1.plot(df_fd[0],color='b')\n",
    "ax1.set_title('M4 Daily Series 1165 (FD)', fontsize=14)\n",
    "ax1.set_ylabel('Value', fontsize=12)\n",
    "ax1.grid(True)\n",
    "\n",
    "# Plot the second series on the bottom subplot (ax2)\n",
    "ax2.plot(m4_row, color='r')\n",
    "ax2.set_title('M4 Daily Series 1165', fontsize=14)\n",
    "ax2.set_xlabel('Index', fontsize=12)\n",
    "ax2.set_ylabel('Original Value', fontsize=12)\n",
    "ax2.grid(True)\n",
    "\n",
    "# Adjust the layout to prevent titles and labels from overlapping\n",
    "plt.tight_layout()\n",
    "# plt.savefig(f'compare_series.png')"
   ]
  },
  {
   "cell_type": "code",
   "execution_count": 16,
   "id": "31ae362b",
   "metadata": {},
   "outputs": [
    {
     "data": {
      "text/html": [
       "<div>\n",
       "<style scoped>\n",
       "    .dataframe tbody tr th:only-of-type {\n",
       "        vertical-align: middle;\n",
       "    }\n",
       "\n",
       "    .dataframe tbody tr th {\n",
       "        vertical-align: top;\n",
       "    }\n",
       "\n",
       "    .dataframe thead th {\n",
       "        text-align: right;\n",
       "    }\n",
       "</style>\n",
       "<table border=\"1\" class=\"dataframe\">\n",
       "  <thead>\n",
       "    <tr style=\"text-align: right;\">\n",
       "      <th></th>\n",
       "      <th>0</th>\n",
       "    </tr>\n",
       "  </thead>\n",
       "  <tbody>\n",
       "    <tr>\n",
       "      <th>0</th>\n",
       "      <td>7324.399902</td>\n",
       "    </tr>\n",
       "    <tr>\n",
       "      <th>1</th>\n",
       "      <td>6469.260205</td>\n",
       "    </tr>\n",
       "    <tr>\n",
       "      <th>2</th>\n",
       "      <td>6146.631887</td>\n",
       "    </tr>\n",
       "    <tr>\n",
       "      <th>3</th>\n",
       "      <td>5924.538104</td>\n",
       "    </tr>\n",
       "    <tr>\n",
       "      <th>4</th>\n",
       "      <td>5742.473234</td>\n",
       "    </tr>\n",
       "    <tr>\n",
       "      <th>...</th>\n",
       "      <td>...</td>\n",
       "    </tr>\n",
       "    <tr>\n",
       "      <th>8528</th>\n",
       "      <td>3376.790931</td>\n",
       "    </tr>\n",
       "    <tr>\n",
       "      <th>8529</th>\n",
       "      <td>3365.813556</td>\n",
       "    </tr>\n",
       "    <tr>\n",
       "      <th>8530</th>\n",
       "      <td>3389.219117</td>\n",
       "    </tr>\n",
       "    <tr>\n",
       "      <th>8531</th>\n",
       "      <td>3399.557134</td>\n",
       "    </tr>\n",
       "    <tr>\n",
       "      <th>8532</th>\n",
       "      <td>3391.675757</td>\n",
       "    </tr>\n",
       "  </tbody>\n",
       "</table>\n",
       "<p>8533 rows × 1 columns</p>\n",
       "</div>"
      ],
      "text/plain": [
       "                0\n",
       "0     7324.399902\n",
       "1     6469.260205\n",
       "2     6146.631887\n",
       "3     5924.538104\n",
       "4     5742.473234\n",
       "...           ...\n",
       "8528  3376.790931\n",
       "8529  3365.813556\n",
       "8530  3389.219117\n",
       "8531  3399.557134\n",
       "8532  3391.675757\n",
       "\n",
       "[8533 rows x 1 columns]"
      ]
     },
     "execution_count": 16,
     "metadata": {},
     "output_type": "execute_result"
    }
   ],
   "source": [
    "df_fd"
   ]
  },
  {
   "cell_type": "code",
   "execution_count": null,
   "id": "69d576e6",
   "metadata": {},
   "outputs": [],
   "source": [
    "df = df_fd.copy()\n",
    "df.rename(columns={0:'fd'}, inplace=True)\n",
    "df['values_o'] = m4_row[-df.shape[0]:]\n",
    "df.to_csv('m4_1165.csv', index=False)"
   ]
  },
  {
   "cell_type": "markdown",
   "id": "639bde96",
   "metadata": {},
   "source": [
    "## Invert"
   ]
  },
  {
   "cell_type": "code",
   "execution_count": 2,
   "id": "2362b5e5",
   "metadata": {},
   "outputs": [],
   "source": [
    "df = pd.read_csv('m4_1165_fd.csv')"
   ]
  },
  {
   "cell_type": "code",
   "execution_count": null,
   "id": "758c4258",
   "metadata": {},
   "outputs": [],
   "source": [
    "def get_weights(diff_amt, size):\n",
    "    # The algorithm below executes the iterative estimation (section 5.4.2, page 78)\n",
    "    weights = [1.]  # create an empty list and initialize the first element with 1.\n",
    "    for k in range(1, size):\n",
    "        weights_ = -weights[-1] * (diff_amt - k + 1) / k  # compute the next weight\n",
    "        weights.append(weights_)\n",
    "\n",
    "    # Now, reverse the list, convert into a numpy column vector\n",
    "    # reverse so that later on we can slice the last n elements and keep the order w_-n ... -d, 1 \n",
    "    # for applying against the series slice in the same past to present order\n",
    "    # its 'reverse' in this case because the weights are computed from present to past order\n",
    "    weights = np.array(weights[::-1]).reshape(-1, 1)\n",
    "    return weights\n",
    "\n",
    "def frac_diff(series, diff_amt, thresh=0.01):\n",
    "    # 1. Compute weights for the longest series\n",
    "    weights = get_weights(diff_amt, series.shape[0])\n",
    "    skip = 0\n",
    "\n",
    "    # 3. Apply weights to values\n",
    "    output_df = {}\n",
    "    for name in series.columns:\n",
    "        series_f = series[[name]].fillna(method='ffill').dropna()\n",
    "        output_df_ = pd.Series(index=series.index, dtype='float64')\n",
    "\n",
    "        for iloc in range(skip, series_f.shape[0]):\n",
    "            loc = series_f.index[iloc]\n",
    "\n",
    "            # At this point all entries are non-NAs so no need for the following check\n",
    "            # if np.isfinite(series.loc[loc, name]):\n",
    "            output_df_[loc] = np.dot(weights[-(iloc + 1):, :].T, series_f.loc[:loc])[0, 0] # remember pd loc is end-inclusive unlike pd iloc, so :loc matches shape of the iloc + 1 slice and iloc=loc+1\n",
    "\n",
    "        output_df[name] = output_df_.copy(deep=True)\n",
    "    output_df = pd.concat(output_df, axis=1)\n",
    "    return output_df\n",
    "\n"
   ]
  },
  {
   "cell_type": "code",
   "execution_count": 5,
   "id": "a9584b0f",
   "metadata": {},
   "outputs": [],
   "source": [
    "weights = get_weights(0.1, len(df))"
   ]
  },
  {
   "cell_type": "code",
   "execution_count": null,
   "id": "cb108468",
   "metadata": {},
   "outputs": [
    {
     "data": {
      "text/plain": [
       "5742.473135000001"
      ]
     },
     "execution_count": 38,
     "metadata": {},
     "output_type": "execute_result"
    }
   ],
   "source": [
    "a = weights[-5:].T\n",
    "b = df['values_o'].loc[:4]\n",
    "c = np.dot(a[0], b)"
   ]
  },
  {
   "cell_type": "code",
   "execution_count": 40,
   "id": "0fbde3fb",
   "metadata": {},
   "outputs": [
    {
     "data": {
      "text/plain": [
       "7140.6"
      ]
     },
     "execution_count": 40,
     "metadata": {},
     "output_type": "execute_result"
    }
   ],
   "source": [
    "b_last = (c - np.dot(a[0][:-1], b[:-1])) / a[0][-1]\n",
    "b_last"
   ]
  },
  {
   "cell_type": "code",
   "execution_count": null,
   "id": "79684726",
   "metadata": {},
   "outputs": [],
   "source": [
    "new_fd_series = df['values_fd'].loc[:8]\n",
    "original_series = df['values_o'].loc[:4]\n",
    "weights = get_weights(0.1, len(new_fd_series))\n"
   ]
  },
  {
   "cell_type": "code",
   "execution_count": 95,
   "id": "8c80a36a",
   "metadata": {},
   "outputs": [],
   "source": [
    "def invert_fd(new_fd_series, original_series, d):\n",
    "    # frac diff iteratively appies the most recent n weights to the n values of the series so far to produce the transformed series\n",
    "    # so to reverse it, we cant reverse the entire dot product operation of the final series, but can iteratively solve for one unknown, the newest unfracdiffed value\n",
    "    # for that, we subtract the dot product of the previous values from the current frac diff value, and divide by the current weight\n",
    "    # i.e. if a = weights where len(weights) = n+1 and n is the length of the known original series\n",
    "    # b = original_series of length n\n",
    "    # c = frac diff series of length n+1 including the new to be inverted value\n",
    "    # then the new value to be added to b = (c - np.dot(a[:-1], b[:-1])) / a[-1] \n",
    "    # or (the current frac diff value - the 1 less than complete frac diff calculation for this current value) / the current weight\n",
    "    # and the current weight will always be 1 as the first in that series\n",
    "    weights = get_weights(d, len(new_fd_series))\n",
    "    new_unfd_series = original_series.copy()\n",
    "    for i in range(len(original_series), len(new_fd_series)):\n",
    "        # new_unfd_series will have all known values so far up to i-1 as the index of the final inverted series\n",
    "        # the slice of the weights for the incomplete calc would be the last len(new_unfd_series) weights + 1 to shift back for the current weight we divide by, which is always 1\n",
    "        new_unfd_series.loc[i] = (new_fd_series.loc[i] - np.dot(weights[-(len(new_unfd_series)+1):-1, :].T, new_unfd_series))[0]\n",
    "    return new_unfd_series"
   ]
  },
  {
   "cell_type": "markdown",
   "id": "4f6f8f3a",
   "metadata": {},
   "source": [
    "# Debugging ffd"
   ]
  },
  {
   "cell_type": "code",
   "execution_count": 3,
   "id": "a1d3a0a8",
   "metadata": {},
   "outputs": [],
   "source": [
    "df = pd.read_csv('m4_1165_fd.csv')"
   ]
  },
  {
   "cell_type": "code",
   "execution_count": 4,
   "id": "bf4bdb35",
   "metadata": {},
   "outputs": [],
   "source": [
    "def get_weights(diff_amt, size):\n",
    "    # The algorithm below executes the iterative estimation (section 5.4.2, page 78)\n",
    "    weights = [1.]  # create an empty list and initialize the first element with 1.\n",
    "    for k in range(1, size):\n",
    "        weights_ = -weights[-1] * (diff_amt - k + 1) / k  # compute the next weight\n",
    "        weights.append(weights_)\n",
    "\n",
    "    # Now, reverse the list, convert into a numpy column vector\n",
    "    # reverse so that later on we can slice the last n elements and keep the order w_-n ... -d, 1 \n",
    "    # for applying against the series slice in the same past to present order\n",
    "    # its 'reverse' in this case because the weights are computed from present to past order\n",
    "    weights = np.array(weights[::-1]).reshape(-1, 1)\n",
    "    return weights\n",
    "\n",
    "def frac_diff(series, diff_amt, thresh=0.01):\n",
    "    # 1. Compute weights for the longest series\n",
    "    weights = get_weights(diff_amt, series.shape[0])\n",
    "    skip = 0\n",
    "\n",
    "    # 3. Apply weights to values\n",
    "    output_df = {}\n",
    "    for name in series.columns:\n",
    "        series_f = series[[name]].fillna(method='ffill').dropna()\n",
    "        output_df_ = pd.Series(index=series.index, dtype='float64')\n",
    "\n",
    "        for iloc in range(skip, series_f.shape[0]):\n",
    "            loc = series_f.index[iloc]\n",
    "\n",
    "            # At this point all entries are non-NAs so no need for the following check\n",
    "            # if np.isfinite(series.loc[loc, name]):\n",
    "            output_df_[loc] = np.dot(weights[-(iloc + 1):, :].T, series_f.loc[:loc])[0, 0] # remember pd loc is end-inclusive unlike pd iloc, so :loc matches shape of the iloc + 1 slice and iloc=loc+1\n",
    "\n",
    "        output_df[name] = output_df_.copy(deep=True)\n",
    "    output_df = pd.concat(output_df, axis=1)\n",
    "    return output_df\n",
    "def get_weights_ffd(diff_amt, thresh, lim):\n",
    "    weights = [1.]\n",
    "    k = 1\n",
    "\n",
    "    # The algorithm below executes the iterativetive estimation (section 5.4.2, page 78)\n",
    "    # The output weights array is of the indicated length (specified by lim)\n",
    "    ctr = 0\n",
    "    while True:\n",
    "        # compute the next weight\n",
    "        weights_ = -weights[-1] * (diff_amt - k + 1) / k\n",
    "\n",
    "        if abs(weights_) < thresh:\n",
    "            break\n",
    "\n",
    "        weights.append(weights_)\n",
    "        k += 1\n",
    "        ctr += 1\n",
    "        if ctr == lim - 1:  # if we have reached the size limit, exit the loop\n",
    "            break\n",
    "\n",
    "    # Now, reverse the list, convert into a numpy column vector\n",
    "    weights = np.array(weights[::-1]).reshape(-1, 1)\n",
    "    return weights\n",
    "\n",
    "def frac_diff_ffd(series, diff_amt, thresh=1e-5):\n",
    "\n",
    "    # 1) Compute weights for the longest series\n",
    "    weights = get_weights_ffd(diff_amt, thresh, series.shape[0])\n",
    "    width = len(weights) - 1\n",
    "\n",
    "    # 2) Apply weights to values\n",
    "    # 2.1) Start by creating a dictionary to hold all the fractionally differenced series\n",
    "    output_df = {}\n",
    "\n",
    "    # 2.2) compute fractionally differenced series for each stock\n",
    "    for name in series.columns:\n",
    "        series_f = series[[name]].fillna(method='ffill').dropna()\n",
    "        temp_df_ = pd.Series(index=series.index, dtype='float64')\n",
    "        for iloc1 in range(width, series_f.shape[0]):\n",
    "            loc0 = series_f.index[iloc1 - width]\n",
    "            loc1 = series.index[iloc1]\n",
    "\n",
    "            # At this point all entries are non-NAs, hence no need for the following check\n",
    "            # if np.isfinite(series.loc[loc1, name]):\n",
    "            temp_df_[loc1] = np.dot(weights.T, series_f.loc[loc0:loc1])[0, 0]\n",
    "\n",
    "        output_df[name] = temp_df_.copy(deep=True)\n",
    "\n",
    "    # transform the dictionary into a data frame\n",
    "    output_df = pd.concat(output_df, axis=1)\n",
    "    return output_df\n",
    "\n",
    "\n",
    "from statsmodels.tsa.stattools import adfuller\n",
    "def set_thresh(series, diff_amt, max_rows_removed_ratio):\n",
    "    thresh = 0.01  # start with a relatively large thresh value\n",
    "    print(f\"Trying thresh {thresh} for d={diff_amt} with max rows removed ratio {max_rows_removed_ratio}\")\n",
    "    while True:\n",
    "        weights =  get_weights_ffd(diff_amt, thresh, len(series)) # get_weights_ffd(diff_amt, thresh, len(series))\n",
    "        rows_removed = len(weights) - 1\n",
    "        print(f\"thresh {thresh} results in {rows_removed} rows removed, ratio {rows_removed/len(series)}\")\n",
    "        if rows_removed / len(series) <= max_rows_removed_ratio:\n",
    "            break\n",
    "        thresh /= 2  # decrease thresh\n",
    "    return thresh\n",
    "def frac_diff_bestd(df):\n",
    "    d_tests = np.arange(0,1,0.05)\n",
    "    changed = 0\n",
    "    # for col in tqdm(df.columns): # more verbose\n",
    "    for col in df.columns:\n",
    "        print(col)\n",
    "        if df[col].nunique()==1:\n",
    "            print(f'{col} has only one unique value: {df[col].iloc[0]}')\n",
    "            continue\n",
    "        for d in d_tests:\n",
    "            thresh = set_thresh(df[col], d, max_rows_removed_ratio=0.25) # using this leads to significantly different results, but test with it more if the dropped rows becomes a problem again\n",
    "            frac_diff_test = frac_diff_ffd(df[[col]], d, thresh  ) # , thresh\n",
    "            # at the time of writing, series length 885k crashes the kernel\n",
    "            # 885k rows is too much for adf with current memory limits, options: 1. use just the first 100k rows,\n",
    "            # 2. changing the maxlag or autolag params, 3. using a rolling window agg of the data, 4. testing the whole dataset in chunks of 100k\n",
    "            \n",
    "            # option 1:\n",
    "            # sample_size = 100000  # Adjust based on your testing capacity\n",
    "            # data_sample = frac_diff_test[col].dropna()[:sample_size]\n",
    "            # adf_result = adfuller(data_sample) \n",
    "            # print(f'{col} d={d} p-value={adf_result[1]}')\n",
    "            # if adf_result[1] < 0.05:\n",
    "\n",
    "            # option 4:\n",
    "            adf_chunk_size = 100_000\n",
    "            num_stat = (0,0) # number of stationary windows, total number of windows\n",
    "            p_values = []\n",
    "            for i in range(0, len(frac_diff_test[col]), adf_chunk_size):\n",
    "                data_chunk = frac_diff_test[col].dropna()[i:i+adf_chunk_size]\n",
    "                if data_chunk.nunique()==1:\n",
    "                    print(f'{col} has only one unique value: {df[col].iloc[0]}')\n",
    "                    continue\n",
    "                adf_result = adfuller(data_chunk) \n",
    "                # print(f'{i} p-value={adf_result[1]}, lags={adf_result[2]}')\n",
    "                num_stat = (num_stat[0], num_stat[1]+1)\n",
    "                p_values.append(adf_result[1])\n",
    "                if adf_result[1] < 0.05:\n",
    "                    num_stat = (num_stat[0]+1, num_stat[1])\n",
    "            # if more than 50% of the p-values are above 0.05, then the data is not stationary\n",
    "            stationary = num_stat[0] >= num_stat[1]/2\n",
    "            print(f\"{col} d={d} stat windows ={num_stat[0]} out of {num_stat[1]} p-values = {p_values}\")\n",
    "\n",
    "            if stationary:\n",
    "                # stationary with this d value\n",
    "                df[col] = frac_diff_test[col]\n",
    "                # print(f'{col} stationary with d={d} p-value={adf_result[1]}')\n",
    "                print(f'{col} stationary with d={d} thresh=ignored stat windows ={num_stat[0]} out of {num_stat[1]} p-values = {p_values}')\n",
    "\n",
    "                if d != 0:\n",
    "                    changed += 1\n",
    "                break\n",
    "    print(f'changed {changed} out of {len(df.columns)} columns; {changed/len(df.columns)*100}%')\n",
    "    return df, (changed/len(df.columns))*100\n",
    "\n"
   ]
  },
  {
   "cell_type": "code",
   "execution_count": 12,
   "id": "e2838881",
   "metadata": {},
   "outputs": [
    {
     "name": "stdout",
     "output_type": "stream",
     "text": [
      "values_o\n",
      "Trying thresh 0.01 for d=0.0 with max rows removed ratio 0.25\n",
      "thresh 0.01 results in 0 rows removed, ratio 0.0\n",
      "values_o d=0.0 stat windows =0 out of 1 p-values = [0.404754889320844]\n",
      "Trying thresh 0.01 for d=0.05 with max rows removed ratio 0.25\n",
      "thresh 0.01 results in 4 rows removed, ratio 0.0004687683112621587\n",
      "values_o d=0.05 stat windows =0 out of 1 p-values = [0.400821948902383]\n",
      "Trying thresh 0.01 for d=0.1 with max rows removed ratio 0.25\n",
      "thresh 0.01 results in 7 rows removed, ratio 0.0008203445447087777\n",
      "values_o d=0.1 stat windows =0 out of 1 p-values = [0.39823859023642627]\n",
      "Trying thresh 0.01 for d=0.15000000000000002 with max rows removed ratio 0.25\n",
      "thresh 0.01 results in 9 rows removed, ratio 0.001054728700339857\n",
      "values_o d=0.15000000000000002 stat windows =0 out of 1 p-values = [0.3975589421968788]\n",
      "Trying thresh 0.01 for d=0.2 with max rows removed ratio 0.25\n",
      "thresh 0.01 results in 10 rows removed, ratio 0.0011719207781553968\n",
      "values_o d=0.2 stat windows =0 out of 1 p-values = [0.397973785622611]\n",
      "Trying thresh 0.01 for d=0.25 with max rows removed ratio 0.25\n",
      "thresh 0.01 results in 11 rows removed, ratio 0.0012891128559709363\n",
      "values_o d=0.25 stat windows =0 out of 1 p-values = [0.39846185647989907]\n",
      "Trying thresh 0.01 for d=0.30000000000000004 with max rows removed ratio 0.25\n",
      "thresh 0.01 results in 11 rows removed, ratio 0.0012891128559709363\n",
      "values_o d=0.30000000000000004 stat windows =0 out of 1 p-values = [0.3979174753114232]\n",
      "Trying thresh 0.01 for d=0.35000000000000003 with max rows removed ratio 0.25\n",
      "thresh 0.01 results in 11 rows removed, ratio 0.0012891128559709363\n",
      "values_o d=0.35000000000000003 stat windows =0 out of 1 p-values = [0.39517086491052517]\n",
      "Trying thresh 0.01 for d=0.4 with max rows removed ratio 0.25\n",
      "thresh 0.01 results in 10 rows removed, ratio 0.0011719207781553968\n",
      "values_o d=0.4 stat windows =0 out of 1 p-values = [0.3933139053977127]\n",
      "Trying thresh 0.01 for d=0.45 with max rows removed ratio 0.25\n",
      "thresh 0.01 results in 10 rows removed, ratio 0.0011719207781553968\n",
      "values_o d=0.45 stat windows =0 out of 1 p-values = [0.382919420781499]\n",
      "Trying thresh 0.01 for d=0.5 with max rows removed ratio 0.25\n",
      "thresh 0.01 results in 9 rows removed, ratio 0.001054728700339857\n",
      "values_o d=0.5 stat windows =0 out of 1 p-values = [0.3770348893732034]\n",
      "Trying thresh 0.01 for d=0.55 with max rows removed ratio 0.25\n",
      "thresh 0.01 results in 8 rows removed, ratio 0.0009375366225243173\n",
      "values_o d=0.55 stat windows =0 out of 1 p-values = [0.37109192394014656]\n",
      "Trying thresh 0.01 for d=0.6000000000000001 with max rows removed ratio 0.25\n",
      "thresh 0.01 results in 8 rows removed, ratio 0.0009375366225243173\n",
      "values_o d=0.6000000000000001 stat windows =0 out of 1 p-values = [0.3372670868839018]\n",
      "Trying thresh 0.01 for d=0.65 with max rows removed ratio 0.25\n",
      "thresh 0.01 results in 7 rows removed, ratio 0.0008203445447087777\n",
      "values_o d=0.65 stat windows =0 out of 1 p-values = [0.32269298090221843]\n",
      "Trying thresh 0.01 for d=0.7000000000000001 with max rows removed ratio 0.25\n",
      "thresh 0.01 results in 6 rows removed, ratio 0.000703152466893238\n",
      "values_o d=0.7000000000000001 stat windows =0 out of 1 p-values = [0.30635587639847683]\n",
      "Trying thresh 0.01 for d=0.75 with max rows removed ratio 0.25\n",
      "thresh 0.01 results in 6 rows removed, ratio 0.000703152466893238\n",
      "values_o d=0.75 stat windows =0 out of 1 p-values = [0.21895075998518276]\n",
      "Trying thresh 0.01 for d=0.8 with max rows removed ratio 0.25\n",
      "thresh 0.01 results in 5 rows removed, ratio 0.0005859603890776984\n",
      "values_o d=0.8 stat windows =0 out of 1 p-values = [0.17832954489876474]\n",
      "Trying thresh 0.01 for d=0.8500000000000001 with max rows removed ratio 0.25\n",
      "thresh 0.01 results in 4 rows removed, ratio 0.0004687683112621587\n",
      "values_o d=0.8500000000000001 stat windows =0 out of 1 p-values = [0.12836298925892942]\n",
      "Trying thresh 0.01 for d=0.9 with max rows removed ratio 0.25\n",
      "thresh 0.01 results in 3 rows removed, ratio 0.000351576233446619\n",
      "values_o d=0.9 stat windows =0 out of 1 p-values = [0.0664851587656571]\n",
      "Trying thresh 0.01 for d=0.9500000000000001 with max rows removed ratio 0.25\n",
      "thresh 0.01 results in 2 rows removed, ratio 0.00023438415563107934\n",
      "values_o d=0.9500000000000001 stat windows =1 out of 1 p-values = [0.006812137817321556]\n",
      "values_o stationary with d=0.9500000000000001 thresh=ignored stat windows =1 out of 1 p-values = [0.006812137817321556]\n",
      "changed 1 out of 1 columns; 100.0%\n"
     ]
    }
   ],
   "source": [
    "df_fd, fd_change_pct = frac_diff_bestd(df['values_o'].to_frame() )\n",
    "df_fd.dropna(inplace=True)\n",
    "df_fd.reset_index(drop=True, inplace=True)"
   ]
  },
  {
   "cell_type": "code",
   "execution_count": null,
   "id": "c857c1cb",
   "metadata": {},
   "outputs": [],
   "source": [
    "import pandas as pd\n",
    "import matplotlib.pyplot as plt\n",
    "\n",
    "# Create a figure with two subplots, arranged vertically\n",
    "# The sharex=True argument ensures both plots share the same x-axis for easier comparison\n",
    "fig, (ax1, ax2) = plt.subplots(2, 1, figsize=(10, 8), sharex=False)\n",
    "\n",
    "# Plot the first series on the top subplot (ax1)\n",
    "ax1.plot(df['values_o'],color='b')\n",
    "ax1.set_title('M4 Daily Series 1165', fontsize=14)\n",
    "ax1.set_ylabel('Original Value', fontsize=12)\n",
    "ax1.grid(True)\n",
    "\n",
    "# Plot the second series on the bottom subplot (ax2)\n",
    "ax2.plot(df_fd[0], color='r')\n",
    "ax2.set_title('M4 Daily Series 1165 (fd)', fontsize=14)\n",
    "ax2.set_xlabel('Index', fontsize=12)\n",
    "ax2.set_ylabel('Changed Value', fontsize=12)\n",
    "ax2.grid(True)\n",
    "\n",
    "# Adjust the layout to prevent titles and labels from overlapping\n",
    "plt.tight_layout()\n",
    "# plt.savefig(f'compare_series.png')"
   ]
  },
  {
   "cell_type": "code",
   "execution_count": 20,
   "id": "2e93d131",
   "metadata": {},
   "outputs": [
    {
     "data": {
      "text/html": [
       "<div>\n",
       "<style scoped>\n",
       "    .dataframe tbody tr th:only-of-type {\n",
       "        vertical-align: middle;\n",
       "    }\n",
       "\n",
       "    .dataframe tbody tr th {\n",
       "        vertical-align: top;\n",
       "    }\n",
       "\n",
       "    .dataframe thead th {\n",
       "        text-align: right;\n",
       "    }\n",
       "</style>\n",
       "<table border=\"1\" class=\"dataframe\">\n",
       "  <thead>\n",
       "    <tr style=\"text-align: right;\">\n",
       "      <th></th>\n",
       "      <th>values_o</th>\n",
       "    </tr>\n",
       "  </thead>\n",
       "  <tbody>\n",
       "    <tr>\n",
       "      <th>0</th>\n",
       "      <td>7324.400000</td>\n",
       "    </tr>\n",
       "    <tr>\n",
       "      <th>1</th>\n",
       "      <td>6469.260000</td>\n",
       "    </tr>\n",
       "    <tr>\n",
       "      <th>2</th>\n",
       "      <td>6146.632000</td>\n",
       "    </tr>\n",
       "    <tr>\n",
       "      <th>3</th>\n",
       "      <td>5924.538100</td>\n",
       "    </tr>\n",
       "    <tr>\n",
       "      <th>4</th>\n",
       "      <td>5742.473135</td>\n",
       "    </tr>\n",
       "    <tr>\n",
       "      <th>...</th>\n",
       "      <td>...</td>\n",
       "    </tr>\n",
       "    <tr>\n",
       "      <th>8528</th>\n",
       "      <td>3376.791326</td>\n",
       "    </tr>\n",
       "    <tr>\n",
       "      <th>8529</th>\n",
       "      <td>3365.813706</td>\n",
       "    </tr>\n",
       "    <tr>\n",
       "      <th>8530</th>\n",
       "      <td>3389.219462</td>\n",
       "    </tr>\n",
       "    <tr>\n",
       "      <th>8531</th>\n",
       "      <td>3399.557262</td>\n",
       "    </tr>\n",
       "    <tr>\n",
       "      <th>8532</th>\n",
       "      <td>3391.676089</td>\n",
       "    </tr>\n",
       "  </tbody>\n",
       "</table>\n",
       "<p>8533 rows × 1 columns</p>\n",
       "</div>"
      ],
      "text/plain": [
       "         values_o\n",
       "0     7324.400000\n",
       "1     6469.260000\n",
       "2     6146.632000\n",
       "3     5924.538100\n",
       "4     5742.473135\n",
       "...           ...\n",
       "8528  3376.791326\n",
       "8529  3365.813706\n",
       "8530  3389.219462\n",
       "8531  3399.557262\n",
       "8532  3391.676089\n",
       "\n",
       "[8533 rows x 1 columns]"
      ]
     },
     "execution_count": 20,
     "metadata": {},
     "output_type": "execute_result"
    }
   ],
   "source": [
    "fdt = frac_diff(df['values_o'].to_frame(),0.1)\n",
    "fdt"
   ]
  },
  {
   "cell_type": "code",
   "execution_count": 21,
   "id": "6c8c2e01",
   "metadata": {},
   "outputs": [
    {
     "data": {
      "text/html": [
       "<div>\n",
       "<style scoped>\n",
       "    .dataframe tbody tr th:only-of-type {\n",
       "        vertical-align: middle;\n",
       "    }\n",
       "\n",
       "    .dataframe tbody tr th {\n",
       "        vertical-align: top;\n",
       "    }\n",
       "\n",
       "    .dataframe thead th {\n",
       "        text-align: right;\n",
       "    }\n",
       "</style>\n",
       "<table border=\"1\" class=\"dataframe\">\n",
       "  <thead>\n",
       "    <tr style=\"text-align: right;\">\n",
       "      <th></th>\n",
       "      <th>values_o</th>\n",
       "    </tr>\n",
       "  </thead>\n",
       "  <tbody>\n",
       "    <tr>\n",
       "      <th>0</th>\n",
       "      <td>NaN</td>\n",
       "    </tr>\n",
       "    <tr>\n",
       "      <th>1</th>\n",
       "      <td>NaN</td>\n",
       "    </tr>\n",
       "    <tr>\n",
       "      <th>2</th>\n",
       "      <td>NaN</td>\n",
       "    </tr>\n",
       "    <tr>\n",
       "      <th>3</th>\n",
       "      <td>NaN</td>\n",
       "    </tr>\n",
       "    <tr>\n",
       "      <th>4</th>\n",
       "      <td>NaN</td>\n",
       "    </tr>\n",
       "    <tr>\n",
       "      <th>...</th>\n",
       "      <td>...</td>\n",
       "    </tr>\n",
       "    <tr>\n",
       "      <th>8528</th>\n",
       "      <td>NaN</td>\n",
       "    </tr>\n",
       "    <tr>\n",
       "      <th>8529</th>\n",
       "      <td>NaN</td>\n",
       "    </tr>\n",
       "    <tr>\n",
       "      <th>8530</th>\n",
       "      <td>NaN</td>\n",
       "    </tr>\n",
       "    <tr>\n",
       "      <th>8531</th>\n",
       "      <td>NaN</td>\n",
       "    </tr>\n",
       "    <tr>\n",
       "      <th>8532</th>\n",
       "      <td>3391.676089</td>\n",
       "    </tr>\n",
       "  </tbody>\n",
       "</table>\n",
       "<p>8533 rows × 1 columns</p>\n",
       "</div>"
      ],
      "text/plain": [
       "         values_o\n",
       "0             NaN\n",
       "1             NaN\n",
       "2             NaN\n",
       "3             NaN\n",
       "4             NaN\n",
       "...           ...\n",
       "8528          NaN\n",
       "8529          NaN\n",
       "8530          NaN\n",
       "8531          NaN\n",
       "8532  3391.676089\n",
       "\n",
       "[8533 rows x 1 columns]"
      ]
     },
     "execution_count": 21,
     "metadata": {},
     "output_type": "execute_result"
    }
   ],
   "source": [
    "fdt2 = frac_diff_ffd(df['values_o'].to_frame(),0.1, thresh=0)\n",
    "fdt2"
   ]
  },
  {
   "cell_type": "markdown",
   "id": "a9e79e1e",
   "metadata": {},
   "source": [
    "# Invert ffd"
   ]
  },
  {
   "cell_type": "code",
   "execution_count": 97,
   "id": "7360ba53",
   "metadata": {},
   "outputs": [],
   "source": [
    "def invert_ffd(new_fd_series, original_series, d, thresh):\n",
    "    # similar as the original invert_fd function,\n",
    "    # or (the current frac diff value - the 1 less than complete frac diff calculation for this current value) / the current weight\n",
    "    # and the current weight will always be 1 as the first in that series\n",
    "    # so the difference is in the 1 less than complete calc, which would be sliced to a window length\n",
    "    # that window gets decided by the thresh and series length values used\n",
    "    weights = get_weights_ffd(d, thresh, len(original_series))\n",
    "    width = len(weights) - 1 # -1 to allow for slicing a window of len(weights)\n",
    "    new_unfd_series = original_series.copy()\n",
    "    new_fd_series = new_fd_series.copy()\n",
    "    new_fd_series.index += width # shift the index to align with the original series index, i.e. before nans were dropped and the index reset on the frac diffed series\n",
    "\n",
    "    for i in range(original_series.index[-1]+1, new_fd_series.index[-1]+1): \n",
    "        # new_unfd_series will have all known values so far up to i-1 as the index of the final inverted series\n",
    "        # the slice of the weights for the incomplete calc would be the last len(new_unfd_series) weights + 1 to shift back for the current weight we divide by, which is always 1\n",
    "        new_unfd_series.loc[i] = (new_fd_series.loc[i] - np.dot(weights[:-1].T, new_unfd_series[i-width:i]))[0]\n",
    "    return new_unfd_series"
   ]
  },
  {
   "cell_type": "code",
   "execution_count": 78,
   "id": "4ca778aa",
   "metadata": {},
   "outputs": [],
   "source": [
    "new_fd_series = frac_diff_ffd(df['values_o'][:16].to_frame(),0.1, thresh=0.01).dropna().reset_index(drop=True)\n",
    "# in this short verification example, the length of the series entered is different from the length of the original series (in order to get values to un-fracdiff)\n",
    "# however, it isnt an issue for verifying, because the window size in this case is cut by the short thresh before the len size gets hit, so both version give width=7\n",
    "original_series = df['values_o'].loc[:8]"
   ]
  },
  {
   "cell_type": "code",
   "execution_count": 87,
   "id": "3fd6342b",
   "metadata": {},
   "outputs": [
    {
     "data": {
      "text/html": [
       "<div>\n",
       "<style scoped>\n",
       "    .dataframe tbody tr th:only-of-type {\n",
       "        vertical-align: middle;\n",
       "    }\n",
       "\n",
       "    .dataframe tbody tr th {\n",
       "        vertical-align: top;\n",
       "    }\n",
       "\n",
       "    .dataframe thead th {\n",
       "        text-align: right;\n",
       "    }\n",
       "</style>\n",
       "<table border=\"1\" class=\"dataframe\">\n",
       "  <thead>\n",
       "    <tr style=\"text-align: right;\">\n",
       "      <th></th>\n",
       "      <th>values_o</th>\n",
       "    </tr>\n",
       "  </thead>\n",
       "  <tbody>\n",
       "    <tr>\n",
       "      <th>0</th>\n",
       "      <td>5461.504524</td>\n",
       "    </tr>\n",
       "    <tr>\n",
       "      <th>1</th>\n",
       "      <td>5530.379109</td>\n",
       "    </tr>\n",
       "    <tr>\n",
       "      <th>2</th>\n",
       "      <td>5521.932452</td>\n",
       "    </tr>\n",
       "    <tr>\n",
       "      <th>3</th>\n",
       "      <td>5492.475826</td>\n",
       "    </tr>\n",
       "    <tr>\n",
       "      <th>4</th>\n",
       "      <td>5440.554981</td>\n",
       "    </tr>\n",
       "    <tr>\n",
       "      <th>5</th>\n",
       "      <td>5517.219976</td>\n",
       "    </tr>\n",
       "    <tr>\n",
       "      <th>6</th>\n",
       "      <td>5505.427988</td>\n",
       "    </tr>\n",
       "    <tr>\n",
       "      <th>7</th>\n",
       "      <td>5481.254789</td>\n",
       "    </tr>\n",
       "    <tr>\n",
       "      <th>8</th>\n",
       "      <td>5476.965390</td>\n",
       "    </tr>\n",
       "  </tbody>\n",
       "</table>\n",
       "</div>"
      ],
      "text/plain": [
       "      values_o\n",
       "0  5461.504524\n",
       "1  5530.379109\n",
       "2  5521.932452\n",
       "3  5492.475826\n",
       "4  5440.554981\n",
       "5  5517.219976\n",
       "6  5505.427988\n",
       "7  5481.254789\n",
       "8  5476.965390"
      ]
     },
     "execution_count": 87,
     "metadata": {},
     "output_type": "execute_result"
    }
   ],
   "source": [
    "new_fd_series"
   ]
  },
  {
   "cell_type": "code",
   "execution_count": 54,
   "id": "c67ed2a7",
   "metadata": {},
   "outputs": [
    {
     "data": {
      "text/plain": [
       "0    7324.4\n",
       "1    7201.7\n",
       "2    7196.4\n",
       "3    7177.0\n",
       "4    7140.6\n",
       "5    7005.5\n",
       "6    7034.2\n",
       "7    7124.0\n",
       "8    7196.8\n",
       "Name: values_o, dtype: float64"
      ]
     },
     "execution_count": 54,
     "metadata": {},
     "output_type": "execute_result"
    }
   ],
   "source": [
    "original_series"
   ]
  },
  {
   "cell_type": "code",
   "execution_count": 98,
   "id": "6901494f",
   "metadata": {},
   "outputs": [],
   "source": [
    "new_unfd_series = invert_ffd(new_fd_series, original_series, 0.1, thresh=0.01)"
   ]
  },
  {
   "cell_type": "code",
   "execution_count": 55,
   "id": "44888eb7",
   "metadata": {},
   "outputs": [
    {
     "data": {
      "text/plain": [
       "0     7324.4\n",
       "1     7201.7\n",
       "2     7196.4\n",
       "3     7177.0\n",
       "4     7140.6\n",
       "5     7005.5\n",
       "6     7034.2\n",
       "7     7124.0\n",
       "8     7196.8\n",
       "9     7196.8\n",
       "10    7170.9\n",
       "11    7118.6\n",
       "12    7190.7\n",
       "13    7185.7\n",
       "14    7164.2\n",
       "15    7158.9\n",
       "Name: values_o, dtype: float64"
      ]
     },
     "execution_count": 55,
     "metadata": {},
     "output_type": "execute_result"
    }
   ],
   "source": [
    "df['values_o'][:16]"
   ]
  },
  {
   "cell_type": "code",
   "execution_count": 99,
   "id": "bc305a5e",
   "metadata": {},
   "outputs": [
    {
     "data": {
      "text/plain": [
       "0     7324.4\n",
       "1     7201.7\n",
       "2     7196.4\n",
       "3     7177.0\n",
       "4     7140.6\n",
       "5     7005.5\n",
       "6     7034.2\n",
       "7     7124.0\n",
       "8     7196.8\n",
       "9     7196.8\n",
       "10    7170.9\n",
       "11    7118.6\n",
       "12    7190.7\n",
       "13    7185.7\n",
       "14    7164.2\n",
       "15    7158.9\n",
       "Name: values_o, dtype: float64"
      ]
     },
     "execution_count": 99,
     "metadata": {},
     "output_type": "execute_result"
    }
   ],
   "source": [
    "new_unfd_series"
   ]
  },
  {
   "cell_type": "code",
   "execution_count": null,
   "id": "e93e85c8",
   "metadata": {},
   "outputs": [],
   "source": []
  }
 ],
 "metadata": {
  "kernelspec": {
   "display_name": "clfr",
   "language": "python",
   "name": "python3"
  },
  "language_info": {
   "codemirror_mode": {
    "name": "ipython",
    "version": 3
   },
   "file_extension": ".py",
   "mimetype": "text/x-python",
   "name": "python",
   "nbconvert_exporter": "python",
   "pygments_lexer": "ipython3",
   "version": "3.11.8"
  }
 },
 "nbformat": 4,
 "nbformat_minor": 5
}
