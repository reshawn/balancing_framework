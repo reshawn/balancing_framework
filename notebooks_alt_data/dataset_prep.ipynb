{
 "cells": [
  {
   "cell_type": "code",
   "execution_count": 2,
   "metadata": {},
   "outputs": [
    {
     "name": "stdout",
     "output_type": "stream",
     "text": [
      "Available datasets: ['constant', 'exchange_rate', 'solar-energy', 'electricity', 'traffic', 'exchange_rate_nips', 'electricity_nips', 'traffic_nips', 'solar_nips', 'wiki2000_nips', 'wiki-rolling_nips', 'taxi_30min', 'kaggle_web_traffic_with_missing', 'kaggle_web_traffic_without_missing', 'kaggle_web_traffic_weekly', 'm1_yearly', 'm1_quarterly', 'm1_monthly', 'nn5_daily_with_missing', 'nn5_daily_without_missing', 'nn5_weekly', 'tourism_monthly', 'tourism_quarterly', 'tourism_yearly', 'cif_2016', 'london_smart_meters_without_missing', 'wind_farms_without_missing', 'car_parts_without_missing', 'dominick', 'fred_md', 'pedestrian_counts', 'hospital', 'covid_deaths', 'kdd_cup_2018_without_missing', 'weather', 'm3_monthly', 'm3_quarterly', 'm3_yearly', 'm3_other', 'm4_hourly', 'm4_daily', 'm4_weekly', 'm4_monthly', 'm4_quarterly', 'm4_yearly', 'm5', 'uber_tlc_daily', 'uber_tlc_hourly', 'airpassengers', 'australian_electricity_demand', 'electricity_hourly', 'electricity_weekly', 'rideshare_without_missing', 'saugeenday', 'solar_10_minutes', 'solar_weekly', 'sunspot_without_missing', 'temperature_rain_without_missing', 'vehicle_trips_without_missing', 'ercot', 'ett_small_15min', 'ett_small_1h']\n"
     ]
    },
    {
     "name": "stderr",
     "output_type": "stream",
     "text": [
      "/home/reshawn/miniconda3/envs/clfr/lib/python3.11/site-packages/gluonts/json.py:102: UserWarning: Using `json`-module for json-handling. Consider installing one of `orjson`, `ujson` to speed up serialization and deserialization.\n",
      "  warnings.warn(\n"
     ]
    }
   ],
   "source": [
    "from gluonts.dataset.repository import get_dataset, dataset_names\n",
    "from gluonts.dataset.util import to_pandas\n",
    "\n",
    "print(f\"Available datasets: {dataset_names}\")\n"
   ]
  },
  {
   "cell_type": "code",
   "execution_count": 3,
   "metadata": {},
   "outputs": [],
   "source": [
    "dataset = get_dataset(\"m4_hourly\")"
   ]
  },
  {
   "cell_type": "code",
   "execution_count": 8,
   "metadata": {},
   "outputs": [
    {
     "data": {
      "text/plain": [
       "Map(fn=<gluonts.dataset.common.ProcessDataEntry object at 0x7650a1f59650>, iterable=JsonLinesFile(path=PosixPath('/home/reshawn/.gluonts/datasets/m4_hourly/train/data.json.gz'), start=0, n=None, line_starts=[0, 4983, 10666, 16222, 21905, 27588, -32265, -25882, -19499, -13116, -8133, -1748, 4093, 9078, 14063, 20381, 25867, 32252, -26899, -21214, -15509, -9124, -4139, 846, 5879, 11564, 17949, 23634, 29319, -30532, -23789, -17145, -10595, -4910, 1475, 7160, 13545, 19230, 24915, 31656, -28195, -22510, -16825, -11140, -5706, 679, 5728, 12113, 17798, 24183, 30568, -29983, -24298, -18613, -13628, -8643, -2258, 4827, 10512, 16028, 21181, 26866, 31830, -28021, -22362, -16144, -9763, -3378, 3007, 8258, 14643, 20481, 25466, 30511, -30040, -23757, -18772, -13785, -7400, -1015, 4670, 10355, 16739, 22054, 27039, 32152, -28414, -23429, -18278, -12597, -6215, -540, 5145, 10830, 17444, 23935, 29620, -29531, -23846, -17461, -12166, -6479, -819, 5911, 11589, 17276, 22963, 28650, -31898, -25511, -19124, -13588, -7901, -1514, 4873, 9860, 15547, 21223, 26209, 30873, -28276, -21189, -15502, -10057, -4991, 1, 5185, 10437, 15578, 20744, 25463, 29883, -31016, -26326, -21800, -17108, -12292, -7467, -2473, 2515, 7369, 12155, 16984, 21782, 26778, 32093, -28683, -23608, -18763, -13829, -9179, -4087, 779, 5696, 10533, 15737, 20375, 25047, 30378, -30396, -25724, -20255, -15543, -10777, -5373, -636, 4084, 8742, 13888, 18498, 24345, 30192, -29497, -23650, -17803, -11956, -6109, -262, 5585, 11432, 17279, 23126, 28973, -30716, -24869, -19022, -13175, -7328, -1481, 4366, 10213, 16060, 21907, 27754, -31935, -26088, -20241, -14394, -8547, -2700, 3147, 8994, 14841, 20688, 26535, 32382, -27307, -21460, -15613, -9766, -3919, 1928, 7775, 13622, 19469, 25316, 31163, -28526, -22679, -16832, -10985, -5138, 709, 6556, 12403, 18250, 24097, 29944, -29745, -23898, -18051, -12204, -6357, -510, 5337, 11184, 17031, 22878, 28725, -30964, -25117, -19270, -13423, -7576, -1729, 4118, 9965, 15812, 21659, 27506, -32183, -26336, -20489, -14642, -8795, -2948, 2899, 8746, 14593, 20440, 26287, 32134, -27555, -21708, -15861, -10014, -4167, 1680, 7527, 13374, 19221, 25068, 30915, -28774, -22927, -17080, -11233, -5386, 461, 6308, 12155, 18002, 23849, 29696, -29993, -24146, -18299, -12452, -6605, -758, 5089, 10936, 16783, 22630, 28477, -31212, -25365, -19518, -13671, -7824, -1977, 3870, 9717, 15564, 21411, 27258, -32431, -26584, -20737, -14890, -9043, -3196, 2651, 8498, 14345, 20192, 26039, 31886, -27803, -21956, -16109, -10262, -4415, 1432, 7279, 13126, 18973, 24820, 30667, -28981, -23119, -17272, -11072, -4312, 1850, 8004, 14386, 20671, 26545, 32729, -26909, -20418, -14047, -8142, -2260, 3980, 10398, 16577, 22937, 29051, -30328, -24469, -17921, -11983, -6084, 192, 6807, 12654, 18938, 24875, 30799, -28644, -22384, -15856, -10009, -3716, 2402, 8659, 14889, 21344, 27930, -31692, -25778, -19580, -12939, -7080, -640, 5614, 11474, 17328, 23635, 30076, -29484, -23637, -17731, -11758, -5769, 117, 6399, 12356, 18203, 24409, 30352, -29337, -23015, -16740, -10893, -4289, 2045, 8145, 14273, 20130, 26103, 31959, -27730, -21261, -15141, -8404, -1920, 4241, 10613, 16892, 22925, 28775]))"
      ]
     },
     "execution_count": 8,
     "metadata": {},
     "output_type": "execute_result"
    }
   ],
   "source": [
    "dataset.train"
   ]
  },
  {
   "cell_type": "code",
   "execution_count": null,
   "metadata": {},
   "outputs": [],
   "source": [
    "entry = next(iter(dataset.test))\n",
    "\n",
    "# diff to get the changes across values\n",
    "# get the range of thoses changes\n",
    "# use that set windows for categorized targets\n"
   ]
  },
  {
   "cell_type": "code",
   "execution_count": 46,
   "metadata": {},
   "outputs": [
    {
     "data": {
      "text/html": [
       "<div>\n",
       "<style scoped>\n",
       "    .dataframe tbody tr th:only-of-type {\n",
       "        vertical-align: middle;\n",
       "    }\n",
       "\n",
       "    .dataframe tbody tr th {\n",
       "        vertical-align: top;\n",
       "    }\n",
       "\n",
       "    .dataframe thead th {\n",
       "        text-align: right;\n",
       "    }\n",
       "</style>\n",
       "<table border=\"1\" class=\"dataframe\">\n",
       "  <thead>\n",
       "    <tr style=\"text-align: right;\">\n",
       "      <th></th>\n",
       "      <th>0</th>\n",
       "    </tr>\n",
       "  </thead>\n",
       "  <tbody>\n",
       "    <tr>\n",
       "      <th>count</th>\n",
       "      <td>699.000000</td>\n",
       "    </tr>\n",
       "    <tr>\n",
       "      <th>mean</th>\n",
       "      <td>0.113019</td>\n",
       "    </tr>\n",
       "    <tr>\n",
       "      <th>std</th>\n",
       "      <td>40.881477</td>\n",
       "    </tr>\n",
       "    <tr>\n",
       "      <th>min</th>\n",
       "      <td>-114.000000</td>\n",
       "    </tr>\n",
       "    <tr>\n",
       "      <th>25%</th>\n",
       "      <td>-30.500000</td>\n",
       "    </tr>\n",
       "    <tr>\n",
       "      <th>50%</th>\n",
       "      <td>-4.000000</td>\n",
       "    </tr>\n",
       "    <tr>\n",
       "      <th>75%</th>\n",
       "      <td>31.500000</td>\n",
       "    </tr>\n",
       "    <tr>\n",
       "      <th>max</th>\n",
       "      <td>101.000000</td>\n",
       "    </tr>\n",
       "  </tbody>\n",
       "</table>\n",
       "</div>"
      ],
      "text/plain": [
       "                0\n",
       "count  699.000000\n",
       "mean     0.113019\n",
       "std     40.881477\n",
       "min   -114.000000\n",
       "25%    -30.500000\n",
       "50%     -4.000000\n",
       "75%     31.500000\n",
       "max    101.000000"
      ]
     },
     "execution_count": 46,
     "metadata": {},
     "output_type": "execute_result"
    }
   ],
   "source": [
    "import pandas as pd\n",
    "df = pd.DataFrame(entry['target'])\n",
    "df.diff().dropna().describe()"
   ]
  },
  {
   "cell_type": "code",
   "execution_count": 22,
   "metadata": {},
   "outputs": [
    {
     "data": {
      "image/png": "[encoded data removed]",
      "text/plain": [
       "<Figure size 640x480 with 1 Axes>"
      ]
     },
     "metadata": {},
     "output_type": "display_data"
    }
   ],
   "source": [
    "import matplotlib.pyplot as plt\n",
    "\n",
    "# assume 'series' is a pandas Series object\n",
    "plt.hist(df[[0]].diff().dropna(), bins=50, density=True)\n",
    "plt.title('Distribution of Values')\n",
    "plt.xlabel('Value')\n",
    "plt.ylabel('Frequency')\n",
    "plt.show()"
   ]
  },
  {
   "cell_type": "code",
   "execution_count": 69,
   "metadata": {},
   "outputs": [
    {
     "data": {
      "text/html": [
       "<div>\n",
       "<style scoped>\n",
       "    .dataframe tbody tr th:only-of-type {\n",
       "        vertical-align: middle;\n",
       "    }\n",
       "\n",
       "    .dataframe tbody tr th {\n",
       "        vertical-align: top;\n",
       "    }\n",
       "\n",
       "    .dataframe thead th {\n",
       "        text-align: right;\n",
       "    }\n",
       "</style>\n",
       "<table border=\"1\" class=\"dataframe\">\n",
       "  <thead>\n",
       "    <tr style=\"text-align: right;\">\n",
       "      <th></th>\n",
       "      <th>0</th>\n",
       "    </tr>\n",
       "  </thead>\n",
       "  <tbody>\n",
       "    <tr>\n",
       "      <th>count</th>\n",
       "      <td>699.000000</td>\n",
       "    </tr>\n",
       "    <tr>\n",
       "      <th>mean</th>\n",
       "      <td>0.113019</td>\n",
       "    </tr>\n",
       "    <tr>\n",
       "      <th>std</th>\n",
       "      <td>40.881477</td>\n",
       "    </tr>\n",
       "    <tr>\n",
       "      <th>min</th>\n",
       "      <td>-114.000000</td>\n",
       "    </tr>\n",
       "    <tr>\n",
       "      <th>25%</th>\n",
       "      <td>-30.500000</td>\n",
       "    </tr>\n",
       "    <tr>\n",
       "      <th>50%</th>\n",
       "      <td>-4.000000</td>\n",
       "    </tr>\n",
       "    <tr>\n",
       "      <th>75%</th>\n",
       "      <td>31.500000</td>\n",
       "    </tr>\n",
       "    <tr>\n",
       "      <th>max</th>\n",
       "      <td>101.000000</td>\n",
       "    </tr>\n",
       "  </tbody>\n",
       "</table>\n",
       "</div>"
      ],
      "text/plain": [
       "                0\n",
       "count  699.000000\n",
       "mean     0.113019\n",
       "std     40.881477\n",
       "min   -114.000000\n",
       "25%    -30.500000\n",
       "50%     -4.000000\n",
       "75%     31.500000\n",
       "max    101.000000"
      ]
     },
     "execution_count": 69,
     "metadata": {},
     "output_type": "execute_result"
    }
   ],
   "source": [
    "changes.describe()"
   ]
  },
  {
   "cell_type": "code",
   "execution_count": 71,
   "metadata": {},
   "outputs": [],
   "source": [
    "import pandas as pd\n",
    "import numpy as np\n",
    "\n",
    "def adjust_split_point(series, threshold=0.05, max_iterations=1000):\n",
    "    split_point = np.median(series)\n",
    "    increment = 0.01  # Initial increment\n",
    "    iterations = 0\n",
    "\n",
    "    while iterations < max_iterations:\n",
    "        binary_series = (series > split_point).astype(int)\n",
    "        balance = binary_series.mean()[0]\n",
    "\n",
    "        # Check if balance is within the threshold\n",
    "        if abs(balance - 0.5) <= threshold:\n",
    "            break\n",
    "\n",
    "        # Adjust increment based on how far off the balance is\n",
    "        distance_from_balance = abs(balance - 0.5)\n",
    "        increment = max(0.001, increment * (1 + distance_from_balance))  # Scale increment\n",
    "\n",
    "        # Adjust split point based on balance\n",
    "        if balance < 0.5:\n",
    "            split_point -= increment\n",
    "        else:\n",
    "            split_point += increment\n",
    "\n",
    "        iterations += 1\n",
    "\n",
    "    return split_point\n",
    "\n",
    "\n",
    "\n",
    "df = pd.DataFrame(entry['target'])\n",
    "series = df[[0]].copy()\n",
    "changes = series.diff().dropna()\n",
    "\n",
    "split_point = adjust_split_point(changes)\n",
    "binary_series = (changes > split_point).astype(int)\n",
    "\n",
    "df = df.iloc[:-1].copy() # reflect diff drop of row 1 on original df\n",
    "df['label'] = binary_series.values\n",
    "df.rename(columns={0: 'values'}, inplace=True)"
   ]
  },
  {
   "cell_type": "code",
   "execution_count": 67,
   "metadata": {},
   "outputs": [
    {
     "name": "stdout",
     "output_type": "stream",
     "text": [
      "     values  label  rolling_mean_2  rolling_sum_2  rolling_min_2  \\\n",
      "4     511.0      0           535.0         1070.0          511.0   \n",
      "5     443.0      0           477.0          954.0          443.0   \n",
      "6     422.0      0           432.5          865.0          422.0   \n",
      "7     395.0      0           408.5          817.0          395.0   \n",
      "8     382.0      0           388.5          777.0          382.0   \n",
      "..      ...    ...             ...            ...            ...   \n",
      "694   820.0      0           833.5         1667.0          820.0   \n",
      "695   790.0      0           805.0         1610.0          790.0   \n",
      "696   784.0      0           787.0         1574.0          784.0   \n",
      "697   752.0      0           768.0         1536.0          752.0   \n",
      "698   739.0      0           745.5         1491.0          739.0   \n",
      "\n",
      "     rolling_max_2  rolling_std_2  rolling_mean_3  rolling_sum_3  \\\n",
      "4            559.0      33.941125      552.000000         1656.0   \n",
      "5            511.0      48.083261      504.333333         1513.0   \n",
      "6            443.0      14.849242      458.666667         1376.0   \n",
      "7            422.0      19.091883      420.000000         1260.0   \n",
      "8            395.0       9.192388      399.666667         1199.0   \n",
      "..             ...            ...             ...            ...   \n",
      "694          847.0      19.091883      848.666667         2546.0   \n",
      "695          820.0      21.213203      819.000000         2457.0   \n",
      "696          790.0       4.242641      798.000000         2394.0   \n",
      "697          784.0      22.627417      775.333333         2326.0   \n",
      "698          752.0       9.192388      758.333333         2275.0   \n",
      "\n",
      "     rolling_min_3  ...  lag_1  lag_2  lag_3  lag_4  difference  \\\n",
      "4            511.0  ...  559.0  586.0  586.0  605.0       -48.0   \n",
      "5            443.0  ...  511.0  559.0  586.0  586.0       -68.0   \n",
      "6            422.0  ...  443.0  511.0  559.0  586.0       -21.0   \n",
      "7            395.0  ...  422.0  443.0  511.0  559.0       -27.0   \n",
      "8            382.0  ...  395.0  422.0  443.0  511.0       -13.0   \n",
      "..             ...  ...    ...    ...    ...    ...         ...   \n",
      "694          820.0  ...  847.0  879.0  890.0  878.0       -27.0   \n",
      "695          790.0  ...  820.0  847.0  879.0  890.0       -30.0   \n",
      "696          784.0  ...  790.0  820.0  847.0  879.0        -6.0   \n",
      "697          752.0  ...  784.0  790.0  820.0  847.0       -32.0   \n",
      "698          739.0  ...  752.0  784.0  790.0  820.0       -13.0   \n",
      "\n",
      "     percentage_change  cumulative_sum  cumulative_mean  cumulative_max  \\\n",
      "4            -0.085868          2847.0       569.400000           605.0   \n",
      "5            -0.133072          3290.0       548.333333           605.0   \n",
      "6            -0.047404          3712.0       530.285714           605.0   \n",
      "7            -0.063981          4107.0       513.375000           605.0   \n",
      "8            -0.032911          4489.0       498.777778           605.0   \n",
      "..                 ...             ...              ...             ...   \n",
      "694          -0.031877        443193.0       637.687770           926.0   \n",
      "695          -0.036585        443983.0       637.906609           926.0   \n",
      "696          -0.007595        444767.0       638.116212           926.0   \n",
      "697          -0.040816        445519.0       638.279370           926.0   \n",
      "698          -0.017287        446258.0       638.423462           926.0   \n",
      "\n",
      "     cumulative_min  \n",
      "4             511.0  \n",
      "5             443.0  \n",
      "6             422.0  \n",
      "7             395.0  \n",
      "8             382.0  \n",
      "..              ...  \n",
      "694           349.0  \n",
      "695           349.0  \n",
      "696           349.0  \n",
      "697           349.0  \n",
      "698           349.0  \n",
      "\n",
      "[695 rows x 32 columns]\n"
     ]
    }
   ],
   "source": [
    "# Define window sizes for rolling calculations\n",
    "window_sizes = [2, 3, 4, 5]\n",
    "\n",
    "# Calculate rolling window features for different window sizes\n",
    "for window_size in window_sizes:\n",
    "    df[f'rolling_mean_{window_size}'] = df['values'].rolling(window=window_size).mean()\n",
    "    df[f'rolling_sum_{window_size}'] = df['values'].rolling(window=window_size).sum()\n",
    "    df[f'rolling_min_{window_size}'] = df['values'].rolling(window=window_size).min()\n",
    "    df[f'rolling_max_{window_size}'] = df['values'].rolling(window=window_size).max()\n",
    "    df[f'rolling_std_{window_size}'] = df['values'].rolling(window=window_size).std()\n",
    "\n",
    "# Calculate additional features\n",
    "df['lag_1'] = df['values'].shift(1)  # Previous value\n",
    "df['lag_2'] = df['values'].shift(2)  # Value two steps back\n",
    "df['lag_3'] = df['values'].shift(3)  # Value three steps back\n",
    "df['lag_4'] = df['values'].shift(4)  # Value four steps back\n",
    "df['difference'] = df['values'].diff()  # Difference from the previous value\n",
    "df['percentage_change'] = df['values'].pct_change()  # Percentage change from the previous value\n",
    "df['cumulative_sum'] = df['values'].cumsum()  # Cumulative sum\n",
    "df['cumulative_mean'] = df['values'].expanding().mean()  # Cumulative mean\n",
    "df['cumulative_max'] = df['values'].cummax()  # Cumulative maximum\n",
    "df['cumulative_min'] = df['values'].cummin()  # Cumulative minimum\n",
    "df.dropna(inplace=True)\n",
    "\n",
    "# Display the resulting DataFrame\n",
    "print(df)\n"
   ]
  },
  {
   "cell_type": "code",
   "execution_count": null,
   "metadata": {},
   "outputs": [],
   "source": []
  },
  {
   "cell_type": "markdown",
   "metadata": {},
   "source": [
    "Goal: To test the method on a wider variety of datasets outside of the described and intended use-case using simple tasks\n",
    "\n",
    "Towards that variety, monash repository for a breadth of time-series datasets that are consistently formatted and available. \n",
    "For a simple task, the datasets are tailored into a binary classification problem per time-series. It is done in a way that ensures a balanced split of classes where possible and windowed rolling, cumulative, and comparative features are derived to support the values in the application of a traditional model.\n",
    "The simple task formatting may not reflect the difficulty of the datasets' use-cases in practice, but allows for a scalable exploration and comparison at this stage.\n",
    "Applied to more datasets, it can possibly allow for establishing a clearer definition of the attributes required in a dataset for the method to be applicable.\n",
    "\n",
    "TODO:\n",
    "- connect single instance done above to framework and eval\n",
    "- loop and average to the rest in dataset, wrapping it\n",
    "- debug and run on whole dataset\n",
    "- repeat, cant rem how scalable eval is, number of repeats also depends on runtime for the big ones on this laptop\n"
   ]
  }
 ],
 "metadata": {
  "kernelspec": {
   "display_name": "clfr",
   "language": "python",
   "name": "python3"
  },
  "language_info": {
   "codemirror_mode": {
    "name": "ipython",
    "version": 3
   },
   "file_extension": ".py",
   "mimetype": "text/x-python",
   "name": "python",
   "nbconvert_exporter": "python",
   "pygments_lexer": "ipython3",
   "version": "3.11.8"
  }
 },
 "nbformat": 4,
 "nbformat_minor": 2
}
