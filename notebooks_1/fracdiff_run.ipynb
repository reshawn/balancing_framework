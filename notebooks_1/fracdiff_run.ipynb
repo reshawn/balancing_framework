{
 "cells": [
  {
   "cell_type": "code",
   "execution_count": 1,
   "metadata": {},
   "outputs": [
    {
     "name": "stdout",
     "output_type": "stream",
     "text": [
      "/mnt/c/Users/resha/Documents/Github/balancing_framework\n"
     ]
    }
   ],
   "source": [
    "# to reload local packages when debugging\n",
    "%load_ext autoreload\n",
    "%autoreload 2\n",
    "\n",
    "%cd /mnt/c/Users/resha/Documents/Github/balancing_framework/\n",
    "\n",
    "import pickle\n",
    "import pandas as pd\n",
    "import numpy as np\n",
    "\n",
    "with open('/mnt/c/Users/resha/Documents/Github/balancing_framework/spy5m_bintp_labelled.pkl', 'rb') as f:\n",
    "    df = pickle.load(f)\n",
    "with open('/mnt/c/Users/resha/Documents/Github/balancing_framework/spy5m_labelled_episodes_ta.pkl', 'rb') as f:\n",
    "    df_ta = pickle.load(f)\n",
    "df_ta['label'] = df['tp_0.004'][df_ta.index] # ~8% rows dropped with ta"
   ]
  },
  {
   "cell_type": "code",
   "execution_count": null,
   "metadata": {},
   "outputs": [],
   "source": [
    "from fracdiff import frac_diff_bestd, frac_diff_ffd\n",
    "# 917mins to run on df with ta # 49 features changed with fd\n",
    "X = df_ta.drop(columns=['label']) \n",
    "y = df['label']"
   ]
  },
  {
   "cell_type": "code",
   "execution_count": 4,
   "metadata": {},
   "outputs": [
    {
     "name": "stdout",
     "output_type": "stream",
     "text": [
      "volume\n"
     ]
    },
    {
     "name": "stderr",
     "output_type": "stream",
     "text": [
      "/mnt/c/Users/resha/Documents/Github/balancing_framework/fracdiff.py:187: FutureWarning: DataFrame.fillna with 'method' is deprecated and will raise in a future version. Use obj.ffill() or obj.bfill() instead.\n",
      "  series_f = series[[name]].fillna(method='ffill').dropna()\n"
     ]
    },
    {
     "name": "stdout",
     "output_type": "stream",
     "text": [
      "volume stationary with d=0.0 stat windows =9 out of 9 p-values = [0.0, 0.0, 0.0, 0.0, 0.0, 0.0, 0.0, 0.0, 0.0]\n",
      "vwap\n"
     ]
    },
    {
     "name": "stderr",
     "output_type": "stream",
     "text": [
      "/mnt/c/Users/resha/Documents/Github/balancing_framework/fracdiff.py:187: FutureWarning: DataFrame.fillna with 'method' is deprecated and will raise in a future version. Use obj.ffill() or obj.bfill() instead.\n",
      "  series_f = series[[name]].fillna(method='ffill').dropna()\n",
      "/mnt/c/Users/resha/Documents/Github/balancing_framework/fracdiff.py:187: FutureWarning: DataFrame.fillna with 'method' is deprecated and will raise in a future version. Use obj.ffill() or obj.bfill() instead.\n",
      "  series_f = series[[name]].fillna(method='ffill').dropna()\n",
      "/mnt/c/Users/resha/Documents/Github/balancing_framework/fracdiff.py:187: FutureWarning: DataFrame.fillna with 'method' is deprecated and will raise in a future version. Use obj.ffill() or obj.bfill() instead.\n",
      "  series_f = series[[name]].fillna(method='ffill').dropna()\n",
      "/mnt/c/Users/resha/Documents/Github/balancing_framework/fracdiff.py:187: FutureWarning: DataFrame.fillna with 'method' is deprecated and will raise in a future version. Use obj.ffill() or obj.bfill() instead.\n",
      "  series_f = series[[name]].fillna(method='ffill').dropna()\n",
      "/mnt/c/Users/resha/Documents/Github/balancing_framework/fracdiff.py:187: FutureWarning: DataFrame.fillna with 'method' is deprecated and will raise in a future version. Use obj.ffill() or obj.bfill() instead.\n",
      "  series_f = series[[name]].fillna(method='ffill').dropna()\n"
     ]
    },
    {
     "name": "stdout",
     "output_type": "stream",
     "text": [
      "vwap stationary with d=0.2 stat windows =5 out of 9 p-values = [0.16963958245560473, 0.02911919676128521, 0.004348736033191869, 0.3365344157618049, 0.02263545040972876, 0.0012191752190139698, 0.3769497650363229, 0.013976652275539552, 0.07186462277628701]\n",
      "open\n"
     ]
    },
    {
     "name": "stderr",
     "output_type": "stream",
     "text": [
      "/mnt/c/Users/resha/Documents/Github/balancing_framework/fracdiff.py:187: FutureWarning: DataFrame.fillna with 'method' is deprecated and will raise in a future version. Use obj.ffill() or obj.bfill() instead.\n",
      "  series_f = series[[name]].fillna(method='ffill').dropna()\n",
      "/mnt/c/Users/resha/Documents/Github/balancing_framework/fracdiff.py:187: FutureWarning: DataFrame.fillna with 'method' is deprecated and will raise in a future version. Use obj.ffill() or obj.bfill() instead.\n",
      "  series_f = series[[name]].fillna(method='ffill').dropna()\n",
      "/mnt/c/Users/resha/Documents/Github/balancing_framework/fracdiff.py:187: FutureWarning: DataFrame.fillna with 'method' is deprecated and will raise in a future version. Use obj.ffill() or obj.bfill() instead.\n",
      "  series_f = series[[name]].fillna(method='ffill').dropna()\n",
      "/mnt/c/Users/resha/Documents/Github/balancing_framework/fracdiff.py:187: FutureWarning: DataFrame.fillna with 'method' is deprecated and will raise in a future version. Use obj.ffill() or obj.bfill() instead.\n",
      "  series_f = series[[name]].fillna(method='ffill').dropna()\n",
      "/mnt/c/Users/resha/Documents/Github/balancing_framework/fracdiff.py:187: FutureWarning: DataFrame.fillna with 'method' is deprecated and will raise in a future version. Use obj.ffill() or obj.bfill() instead.\n",
      "  series_f = series[[name]].fillna(method='ffill').dropna()\n"
     ]
    },
    {
     "name": "stdout",
     "output_type": "stream",
     "text": [
      "open stationary with d=0.2 stat windows =5 out of 9 p-values = [0.1732831173971094, 0.05724207397954958, 0.0022475011791876025, 0.3214058479666092, 0.014969526463478409, 0.0008371796779423435, 0.35161602822115523, 0.008684953584111366, 0.03275540845068536]\n",
      "close\n"
     ]
    },
    {
     "name": "stderr",
     "output_type": "stream",
     "text": [
      "/mnt/c/Users/resha/Documents/Github/balancing_framework/fracdiff.py:187: FutureWarning: DataFrame.fillna with 'method' is deprecated and will raise in a future version. Use obj.ffill() or obj.bfill() instead.\n",
      "  series_f = series[[name]].fillna(method='ffill').dropna()\n",
      "/mnt/c/Users/resha/Documents/Github/balancing_framework/fracdiff.py:187: FutureWarning: DataFrame.fillna with 'method' is deprecated and will raise in a future version. Use obj.ffill() or obj.bfill() instead.\n",
      "  series_f = series[[name]].fillna(method='ffill').dropna()\n",
      "/mnt/c/Users/resha/Documents/Github/balancing_framework/fracdiff.py:187: FutureWarning: DataFrame.fillna with 'method' is deprecated and will raise in a future version. Use obj.ffill() or obj.bfill() instead.\n",
      "  series_f = series[[name]].fillna(method='ffill').dropna()\n",
      "/mnt/c/Users/resha/Documents/Github/balancing_framework/fracdiff.py:187: FutureWarning: DataFrame.fillna with 'method' is deprecated and will raise in a future version. Use obj.ffill() or obj.bfill() instead.\n",
      "  series_f = series[[name]].fillna(method='ffill').dropna()\n",
      "/mnt/c/Users/resha/Documents/Github/balancing_framework/fracdiff.py:187: FutureWarning: DataFrame.fillna with 'method' is deprecated and will raise in a future version. Use obj.ffill() or obj.bfill() instead.\n",
      "  series_f = series[[name]].fillna(method='ffill').dropna()\n"
     ]
    },
    {
     "name": "stdout",
     "output_type": "stream",
     "text": [
      "close stationary with d=0.2 stat windows =5 out of 9 p-values = [0.1681768364519136, 0.0652002136822013, 0.002008510236051451, 0.32093425448679425, 0.018617193883613395, 0.0007709741066850313, 0.35628372510617884, 0.00874904178475256, 0.033559166401977675]\n",
      "high\n"
     ]
    },
    {
     "name": "stderr",
     "output_type": "stream",
     "text": [
      "/mnt/c/Users/resha/Documents/Github/balancing_framework/fracdiff.py:187: FutureWarning: DataFrame.fillna with 'method' is deprecated and will raise in a future version. Use obj.ffill() or obj.bfill() instead.\n",
      "  series_f = series[[name]].fillna(method='ffill').dropna()\n",
      "/mnt/c/Users/resha/Documents/Github/balancing_framework/fracdiff.py:187: FutureWarning: DataFrame.fillna with 'method' is deprecated and will raise in a future version. Use obj.ffill() or obj.bfill() instead.\n",
      "  series_f = series[[name]].fillna(method='ffill').dropna()\n",
      "/mnt/c/Users/resha/Documents/Github/balancing_framework/fracdiff.py:187: FutureWarning: DataFrame.fillna with 'method' is deprecated and will raise in a future version. Use obj.ffill() or obj.bfill() instead.\n",
      "  series_f = series[[name]].fillna(method='ffill').dropna()\n",
      "/mnt/c/Users/resha/Documents/Github/balancing_framework/fracdiff.py:187: FutureWarning: DataFrame.fillna with 'method' is deprecated and will raise in a future version. Use obj.ffill() or obj.bfill() instead.\n",
      "  series_f = series[[name]].fillna(method='ffill').dropna()\n",
      "/mnt/c/Users/resha/Documents/Github/balancing_framework/fracdiff.py:187: FutureWarning: DataFrame.fillna with 'method' is deprecated and will raise in a future version. Use obj.ffill() or obj.bfill() instead.\n",
      "  series_f = series[[name]].fillna(method='ffill').dropna()\n"
     ]
    },
    {
     "name": "stdout",
     "output_type": "stream",
     "text": [
      "high stationary with d=0.2 stat windows =6 out of 9 p-values = [0.10424262014494334, 3.2541292080349956e-30, 0.003649177608066987, 0.33981333770107075, 0.018752605835579257, 0.001039469434593029, 0.3720819161661178, 0.011199116922495214, 0.002526045218788697]\n",
      "low\n"
     ]
    },
    {
     "name": "stderr",
     "output_type": "stream",
     "text": [
      "/mnt/c/Users/resha/Documents/Github/balancing_framework/fracdiff.py:187: FutureWarning: DataFrame.fillna with 'method' is deprecated and will raise in a future version. Use obj.ffill() or obj.bfill() instead.\n",
      "  series_f = series[[name]].fillna(method='ffill').dropna()\n",
      "/mnt/c/Users/resha/Documents/Github/balancing_framework/fracdiff.py:187: FutureWarning: DataFrame.fillna with 'method' is deprecated and will raise in a future version. Use obj.ffill() or obj.bfill() instead.\n",
      "  series_f = series[[name]].fillna(method='ffill').dropna()\n",
      "/mnt/c/Users/resha/Documents/Github/balancing_framework/fracdiff.py:187: FutureWarning: DataFrame.fillna with 'method' is deprecated and will raise in a future version. Use obj.ffill() or obj.bfill() instead.\n",
      "  series_f = series[[name]].fillna(method='ffill').dropna()\n",
      "/mnt/c/Users/resha/Documents/Github/balancing_framework/fracdiff.py:187: FutureWarning: DataFrame.fillna with 'method' is deprecated and will raise in a future version. Use obj.ffill() or obj.bfill() instead.\n",
      "  series_f = series[[name]].fillna(method='ffill').dropna()\n",
      "/mnt/c/Users/resha/Documents/Github/balancing_framework/fracdiff.py:187: FutureWarning: DataFrame.fillna with 'method' is deprecated and will raise in a future version. Use obj.ffill() or obj.bfill() instead.\n",
      "  series_f = series[[name]].fillna(method='ffill').dropna()\n"
     ]
    },
    {
     "name": "stdout",
     "output_type": "stream",
     "text": [
      "low stationary with d=0.2 stat windows =5 out of 9 p-values = [0.14068292084914003, 0.05934564496337637, 0.001973978309889485, 0.32351268312625814, 0.01255955438645797, 0.0008695101359258879, 0.33457141739009866, 0.009187395674109778, 0.04942419291161103]\n",
      "transactions\n"
     ]
    },
    {
     "name": "stderr",
     "output_type": "stream",
     "text": [
      "/mnt/c/Users/resha/Documents/Github/balancing_framework/fracdiff.py:187: FutureWarning: DataFrame.fillna with 'method' is deprecated and will raise in a future version. Use obj.ffill() or obj.bfill() instead.\n",
      "  series_f = series[[name]].fillna(method='ffill').dropna()\n"
     ]
    },
    {
     "name": "stdout",
     "output_type": "stream",
     "text": [
      "transactions stationary with d=0.0 stat windows =9 out of 9 p-values = [0.0, 0.0, 0.0, 0.0, 0.0, 0.0, 0.0, 0.0, 4.899140411856609e-30]\n",
      "rsi_28\n"
     ]
    },
    {
     "name": "stderr",
     "output_type": "stream",
     "text": [
      "/mnt/c/Users/resha/Documents/Github/balancing_framework/fracdiff.py:187: FutureWarning: DataFrame.fillna with 'method' is deprecated and will raise in a future version. Use obj.ffill() or obj.bfill() instead.\n",
      "  series_f = series[[name]].fillna(method='ffill').dropna()\n"
     ]
    },
    {
     "name": "stdout",
     "output_type": "stream",
     "text": [
      "rsi_28 stationary with d=0.0 stat windows =9 out of 9 p-values = [0.0, 0.0, 0.0, 0.0, 0.0, 0.0, 0.0, 0.0, 9.938149929833694e-26]\n",
      "stoch_k_14_3_3_28\n"
     ]
    },
    {
     "name": "stderr",
     "output_type": "stream",
     "text": [
      "/mnt/c/Users/resha/Documents/Github/balancing_framework/fracdiff.py:187: FutureWarning: DataFrame.fillna with 'method' is deprecated and will raise in a future version. Use obj.ffill() or obj.bfill() instead.\n",
      "  series_f = series[[name]].fillna(method='ffill').dropna()\n"
     ]
    },
    {
     "name": "stdout",
     "output_type": "stream",
     "text": [
      "stoch_k_14_3_3_28 stationary with d=0.0 stat windows =9 out of 9 p-values = [0.0, 0.0, 0.0, 0.0, 0.0, 0.0, 0.0, 0.0, 0.0]\n",
      "stoch_d_14_3_3_28\n"
     ]
    },
    {
     "name": "stderr",
     "output_type": "stream",
     "text": [
      "/mnt/c/Users/resha/Documents/Github/balancing_framework/fracdiff.py:187: FutureWarning: DataFrame.fillna with 'method' is deprecated and will raise in a future version. Use obj.ffill() or obj.bfill() instead.\n",
      "  series_f = series[[name]].fillna(method='ffill').dropna()\n"
     ]
    },
    {
     "name": "stdout",
     "output_type": "stream",
     "text": [
      "stoch_d_14_3_3_28 stationary with d=0.0 stat windows =9 out of 9 p-values = [0.0, 0.0, 0.0, 0.0, 0.0, 0.0, 0.0, 0.0, 0.0]\n",
      "ao_28\n"
     ]
    },
    {
     "name": "stderr",
     "output_type": "stream",
     "text": [
      "/mnt/c/Users/resha/Documents/Github/balancing_framework/fracdiff.py:187: FutureWarning: DataFrame.fillna with 'method' is deprecated and will raise in a future version. Use obj.ffill() or obj.bfill() instead.\n",
      "  series_f = series[[name]].fillna(method='ffill').dropna()\n"
     ]
    },
    {
     "name": "stdout",
     "output_type": "stream",
     "text": [
      "ao_28 stationary with d=0.0 stat windows =9 out of 9 p-values = [0.0, 0.0, 0.0, 0.0, 0.0, 0.0, 0.0, 0.0, 7.5213390007441785e-22]\n",
      "macd_28\n"
     ]
    },
    {
     "name": "stderr",
     "output_type": "stream",
     "text": [
      "/mnt/c/Users/resha/Documents/Github/balancing_framework/fracdiff.py:187: FutureWarning: DataFrame.fillna with 'method' is deprecated and will raise in a future version. Use obj.ffill() or obj.bfill() instead.\n",
      "  series_f = series[[name]].fillna(method='ffill').dropna()\n"
     ]
    },
    {
     "name": "stdout",
     "output_type": "stream",
     "text": [
      "macd_28 stationary with d=0.0 stat windows =9 out of 9 p-values = [0.0, 0.0, 0.0, 0.0, 0.0, 0.0, 0.0, 0.0, 3.408994992573105e-29]\n",
      "macd_signal_28\n"
     ]
    },
    {
     "name": "stderr",
     "output_type": "stream",
     "text": [
      "/mnt/c/Users/resha/Documents/Github/balancing_framework/fracdiff.py:187: FutureWarning: DataFrame.fillna with 'method' is deprecated and will raise in a future version. Use obj.ffill() or obj.bfill() instead.\n",
      "  series_f = series[[name]].fillna(method='ffill').dropna()\n"
     ]
    },
    {
     "name": "stdout",
     "output_type": "stream",
     "text": [
      "macd_signal_28 stationary with d=0.0 stat windows =9 out of 9 p-values = [0.0, 0.0, 0.0, 0.0, 0.0, 0.0, 0.0, 0.0, 0.0]\n",
      "ppo_28\n"
     ]
    },
    {
     "name": "stderr",
     "output_type": "stream",
     "text": [
      "/mnt/c/Users/resha/Documents/Github/balancing_framework/fracdiff.py:187: FutureWarning: DataFrame.fillna with 'method' is deprecated and will raise in a future version. Use obj.ffill() or obj.bfill() instead.\n",
      "  series_f = series[[name]].fillna(method='ffill').dropna()\n"
     ]
    },
    {
     "name": "stdout",
     "output_type": "stream",
     "text": [
      "ppo_28 stationary with d=0.0 stat windows =9 out of 9 p-values = [0.0, 0.0, 0.0, 0.0, 0.0, 0.0, 0.0, 0.0, 4.3465924237023774e-23]\n",
      "sma_28\n"
     ]
    },
    {
     "name": "stderr",
     "output_type": "stream",
     "text": [
      "/mnt/c/Users/resha/Documents/Github/balancing_framework/fracdiff.py:187: FutureWarning: DataFrame.fillna with 'method' is deprecated and will raise in a future version. Use obj.ffill() or obj.bfill() instead.\n",
      "  series_f = series[[name]].fillna(method='ffill').dropna()\n",
      "/mnt/c/Users/resha/Documents/Github/balancing_framework/fracdiff.py:187: FutureWarning: DataFrame.fillna with 'method' is deprecated and will raise in a future version. Use obj.ffill() or obj.bfill() instead.\n",
      "  series_f = series[[name]].fillna(method='ffill').dropna()\n",
      "/mnt/c/Users/resha/Documents/Github/balancing_framework/fracdiff.py:187: FutureWarning: DataFrame.fillna with 'method' is deprecated and will raise in a future version. Use obj.ffill() or obj.bfill() instead.\n",
      "  series_f = series[[name]].fillna(method='ffill').dropna()\n",
      "/mnt/c/Users/resha/Documents/Github/balancing_framework/fracdiff.py:187: FutureWarning: DataFrame.fillna with 'method' is deprecated and will raise in a future version. Use obj.ffill() or obj.bfill() instead.\n",
      "  series_f = series[[name]].fillna(method='ffill').dropna()\n",
      "/mnt/c/Users/resha/Documents/Github/balancing_framework/fracdiff.py:187: FutureWarning: DataFrame.fillna with 'method' is deprecated and will raise in a future version. Use obj.ffill() or obj.bfill() instead.\n",
      "  series_f = series[[name]].fillna(method='ffill').dropna()\n"
     ]
    },
    {
     "name": "stdout",
     "output_type": "stream",
     "text": [
      "sma_28 stationary with d=0.2 stat windows =5 out of 9 p-values = [0.17302218772826639, 0.0791076022765213, 0.002015943015229249, 0.3485445033017392, 0.040580000550486404, 0.0012557452519283644, 0.4603317122982028, 0.009316749076148123, 0.03385425021027646]\n",
      "ema_28\n"
     ]
    },
    {
     "name": "stderr",
     "output_type": "stream",
     "text": [
      "/mnt/c/Users/resha/Documents/Github/balancing_framework/fracdiff.py:187: FutureWarning: DataFrame.fillna with 'method' is deprecated and will raise in a future version. Use obj.ffill() or obj.bfill() instead.\n",
      "  series_f = series[[name]].fillna(method='ffill').dropna()\n",
      "/mnt/c/Users/resha/Documents/Github/balancing_framework/fracdiff.py:187: FutureWarning: DataFrame.fillna with 'method' is deprecated and will raise in a future version. Use obj.ffill() or obj.bfill() instead.\n",
      "  series_f = series[[name]].fillna(method='ffill').dropna()\n",
      "/mnt/c/Users/resha/Documents/Github/balancing_framework/fracdiff.py:187: FutureWarning: DataFrame.fillna with 'method' is deprecated and will raise in a future version. Use obj.ffill() or obj.bfill() instead.\n",
      "  series_f = series[[name]].fillna(method='ffill').dropna()\n",
      "/mnt/c/Users/resha/Documents/Github/balancing_framework/fracdiff.py:187: FutureWarning: DataFrame.fillna with 'method' is deprecated and will raise in a future version. Use obj.ffill() or obj.bfill() instead.\n",
      "  series_f = series[[name]].fillna(method='ffill').dropna()\n",
      "/mnt/c/Users/resha/Documents/Github/balancing_framework/fracdiff.py:187: FutureWarning: DataFrame.fillna with 'method' is deprecated and will raise in a future version. Use obj.ffill() or obj.bfill() instead.\n",
      "  series_f = series[[name]].fillna(method='ffill').dropna()\n",
      "/mnt/c/Users/resha/Documents/Github/balancing_framework/fracdiff.py:187: FutureWarning: DataFrame.fillna with 'method' is deprecated and will raise in a future version. Use obj.ffill() or obj.bfill() instead.\n",
      "  series_f = series[[name]].fillna(method='ffill').dropna()\n"
     ]
    },
    {
     "name": "stdout",
     "output_type": "stream",
     "text": [
      "ema_28 stationary with d=0.25 stat windows =7 out of 9 p-values = [0.02746889572672886, 0.03753102139563673, 8.809294559179311e-05, 0.21872097498454557, 0.006920437681406874, 1.0303825284476349e-05, 0.3061213274437501, 0.0005980309000372855, 0.006216538806864858]\n",
      "ema_84\n"
     ]
    },
    {
     "name": "stderr",
     "output_type": "stream",
     "text": [
      "/mnt/c/Users/resha/Documents/Github/balancing_framework/fracdiff.py:187: FutureWarning: DataFrame.fillna with 'method' is deprecated and will raise in a future version. Use obj.ffill() or obj.bfill() instead.\n",
      "  series_f = series[[name]].fillna(method='ffill').dropna()\n",
      "/mnt/c/Users/resha/Documents/Github/balancing_framework/fracdiff.py:187: FutureWarning: DataFrame.fillna with 'method' is deprecated and will raise in a future version. Use obj.ffill() or obj.bfill() instead.\n",
      "  series_f = series[[name]].fillna(method='ffill').dropna()\n",
      "/mnt/c/Users/resha/Documents/Github/balancing_framework/fracdiff.py:187: FutureWarning: DataFrame.fillna with 'method' is deprecated and will raise in a future version. Use obj.ffill() or obj.bfill() instead.\n",
      "  series_f = series[[name]].fillna(method='ffill').dropna()\n",
      "/mnt/c/Users/resha/Documents/Github/balancing_framework/fracdiff.py:187: FutureWarning: DataFrame.fillna with 'method' is deprecated and will raise in a future version. Use obj.ffill() or obj.bfill() instead.\n",
      "  series_f = series[[name]].fillna(method='ffill').dropna()\n",
      "/mnt/c/Users/resha/Documents/Github/balancing_framework/fracdiff.py:187: FutureWarning: DataFrame.fillna with 'method' is deprecated and will raise in a future version. Use obj.ffill() or obj.bfill() instead.\n",
      "  series_f = series[[name]].fillna(method='ffill').dropna()\n",
      "/mnt/c/Users/resha/Documents/Github/balancing_framework/fracdiff.py:187: FutureWarning: DataFrame.fillna with 'method' is deprecated and will raise in a future version. Use obj.ffill() or obj.bfill() instead.\n",
      "  series_f = series[[name]].fillna(method='ffill').dropna()\n",
      "/mnt/c/Users/resha/Documents/Github/balancing_framework/fracdiff.py:187: FutureWarning: DataFrame.fillna with 'method' is deprecated and will raise in a future version. Use obj.ffill() or obj.bfill() instead.\n",
      "  series_f = series[[name]].fillna(method='ffill').dropna()\n"
     ]
    },
    {
     "name": "stdout",
     "output_type": "stream",
     "text": [
      "ema_84 stationary with d=0.30000000000000004 stat windows =7 out of 9 p-values = [0.029393465170102485, 0.018128434955570167, 9.872809850959372e-05, 0.1594970609304051, 0.0006635572020857434, 2.215072343256102e-05, 0.3109724280397835, 0.0001498775171185051, 0.014254899797908643]\n",
      "adx_28\n"
     ]
    },
    {
     "name": "stderr",
     "output_type": "stream",
     "text": [
      "/mnt/c/Users/resha/Documents/Github/balancing_framework/fracdiff.py:187: FutureWarning: DataFrame.fillna with 'method' is deprecated and will raise in a future version. Use obj.ffill() or obj.bfill() instead.\n",
      "  series_f = series[[name]].fillna(method='ffill').dropna()\n"
     ]
    },
    {
     "name": "stdout",
     "output_type": "stream",
     "text": [
      "adx_28 stationary with d=0.0 stat windows =9 out of 9 p-values = [0.0, 0.0, 0.0, 0.0, 0.0, 0.0, 0.0, 0.0, 8.68714881257298e-28]\n",
      "atr_28\n"
     ]
    },
    {
     "name": "stderr",
     "output_type": "stream",
     "text": [
      "/mnt/c/Users/resha/Documents/Github/balancing_framework/fracdiff.py:187: FutureWarning: DataFrame.fillna with 'method' is deprecated and will raise in a future version. Use obj.ffill() or obj.bfill() instead.\n",
      "  series_f = series[[name]].fillna(method='ffill').dropna()\n"
     ]
    },
    {
     "name": "stdout",
     "output_type": "stream",
     "text": [
      "atr_28 stationary with d=0.0 stat windows =9 out of 9 p-values = [0.0, 0.0, 2.4698499165703727e-29, 0.0, 0.0, 3.998979334968299e-30, 4.0353064315551076e-25, 0.0, 4.0704919900381245e-21]\n",
      "bb_upper_28\n"
     ]
    },
    {
     "name": "stderr",
     "output_type": "stream",
     "text": [
      "/mnt/c/Users/resha/Documents/Github/balancing_framework/fracdiff.py:187: FutureWarning: DataFrame.fillna with 'method' is deprecated and will raise in a future version. Use obj.ffill() or obj.bfill() instead.\n",
      "  series_f = series[[name]].fillna(method='ffill').dropna()\n",
      "/mnt/c/Users/resha/Documents/Github/balancing_framework/fracdiff.py:187: FutureWarning: DataFrame.fillna with 'method' is deprecated and will raise in a future version. Use obj.ffill() or obj.bfill() instead.\n",
      "  series_f = series[[name]].fillna(method='ffill').dropna()\n",
      "/mnt/c/Users/resha/Documents/Github/balancing_framework/fracdiff.py:187: FutureWarning: DataFrame.fillna with 'method' is deprecated and will raise in a future version. Use obj.ffill() or obj.bfill() instead.\n",
      "  series_f = series[[name]].fillna(method='ffill').dropna()\n",
      "/mnt/c/Users/resha/Documents/Github/balancing_framework/fracdiff.py:187: FutureWarning: DataFrame.fillna with 'method' is deprecated and will raise in a future version. Use obj.ffill() or obj.bfill() instead.\n",
      "  series_f = series[[name]].fillna(method='ffill').dropna()\n",
      "/mnt/c/Users/resha/Documents/Github/balancing_framework/fracdiff.py:187: FutureWarning: DataFrame.fillna with 'method' is deprecated and will raise in a future version. Use obj.ffill() or obj.bfill() instead.\n",
      "  series_f = series[[name]].fillna(method='ffill').dropna()\n"
     ]
    },
    {
     "name": "stdout",
     "output_type": "stream",
     "text": [
      "bb_upper_28 stationary with d=0.2 stat windows =6 out of 9 p-values = [0.1597176310511062, 0.03899259387850443, 0.0014499005745141603, 0.2966047238502497, 0.010335201369407108, 0.0005220628354603318, 0.34558414729646714, 0.008563399205527707, 0.0029385545847584313]\n",
      "bb_middle_28\n"
     ]
    },
    {
     "name": "stderr",
     "output_type": "stream",
     "text": [
      "/mnt/c/Users/resha/Documents/Github/balancing_framework/fracdiff.py:187: FutureWarning: DataFrame.fillna with 'method' is deprecated and will raise in a future version. Use obj.ffill() or obj.bfill() instead.\n",
      "  series_f = series[[name]].fillna(method='ffill').dropna()\n",
      "/mnt/c/Users/resha/Documents/Github/balancing_framework/fracdiff.py:187: FutureWarning: DataFrame.fillna with 'method' is deprecated and will raise in a future version. Use obj.ffill() or obj.bfill() instead.\n",
      "  series_f = series[[name]].fillna(method='ffill').dropna()\n",
      "/mnt/c/Users/resha/Documents/Github/balancing_framework/fracdiff.py:187: FutureWarning: DataFrame.fillna with 'method' is deprecated and will raise in a future version. Use obj.ffill() or obj.bfill() instead.\n",
      "  series_f = series[[name]].fillna(method='ffill').dropna()\n",
      "/mnt/c/Users/resha/Documents/Github/balancing_framework/fracdiff.py:187: FutureWarning: DataFrame.fillna with 'method' is deprecated and will raise in a future version. Use obj.ffill() or obj.bfill() instead.\n",
      "  series_f = series[[name]].fillna(method='ffill').dropna()\n",
      "/mnt/c/Users/resha/Documents/Github/balancing_framework/fracdiff.py:187: FutureWarning: DataFrame.fillna with 'method' is deprecated and will raise in a future version. Use obj.ffill() or obj.bfill() instead.\n",
      "  series_f = series[[name]].fillna(method='ffill').dropna()\n",
      "/mnt/c/Users/resha/Documents/Github/balancing_framework/fracdiff.py:187: FutureWarning: DataFrame.fillna with 'method' is deprecated and will raise in a future version. Use obj.ffill() or obj.bfill() instead.\n",
      "  series_f = series[[name]].fillna(method='ffill').dropna()\n"
     ]
    },
    {
     "name": "stdout",
     "output_type": "stream",
     "text": [
      "bb_middle_28 stationary with d=0.25 stat windows =7 out of 9 p-values = [0.02369949288856761, 0.01624658940206886, 7.194385922388067e-05, 0.1679029019368054, 0.0014230990342000613, 2.5603435663593118e-05, 0.16996490127480912, 0.0003320612869639429, 0.010481115669792986]\n",
      "bb_lower_28\n"
     ]
    },
    {
     "name": "stderr",
     "output_type": "stream",
     "text": [
      "/mnt/c/Users/resha/Documents/Github/balancing_framework/fracdiff.py:187: FutureWarning: DataFrame.fillna with 'method' is deprecated and will raise in a future version. Use obj.ffill() or obj.bfill() instead.\n",
      "  series_f = series[[name]].fillna(method='ffill').dropna()\n",
      "/mnt/c/Users/resha/Documents/Github/balancing_framework/fracdiff.py:187: FutureWarning: DataFrame.fillna with 'method' is deprecated and will raise in a future version. Use obj.ffill() or obj.bfill() instead.\n",
      "  series_f = series[[name]].fillna(method='ffill').dropna()\n",
      "/mnt/c/Users/resha/Documents/Github/balancing_framework/fracdiff.py:187: FutureWarning: DataFrame.fillna with 'method' is deprecated and will raise in a future version. Use obj.ffill() or obj.bfill() instead.\n",
      "  series_f = series[[name]].fillna(method='ffill').dropna()\n",
      "/mnt/c/Users/resha/Documents/Github/balancing_framework/fracdiff.py:187: FutureWarning: DataFrame.fillna with 'method' is deprecated and will raise in a future version. Use obj.ffill() or obj.bfill() instead.\n",
      "  series_f = series[[name]].fillna(method='ffill').dropna()\n",
      "/mnt/c/Users/resha/Documents/Github/balancing_framework/fracdiff.py:187: FutureWarning: DataFrame.fillna with 'method' is deprecated and will raise in a future version. Use obj.ffill() or obj.bfill() instead.\n",
      "  series_f = series[[name]].fillna(method='ffill').dropna()\n"
     ]
    },
    {
     "name": "stdout",
     "output_type": "stream",
     "text": [
      "bb_lower_28 stationary with d=0.2 stat windows =5 out of 9 p-values = [0.15697887472837635, 0.07123832778481529, 0.002986911094344209, 0.33007461625569967, 0.02444036398047416, 0.0007376944356777163, 0.38498898727585795, 0.01005483111089193, 0.008728166570153725]\n",
      "kc_upper_28\n"
     ]
    },
    {
     "name": "stderr",
     "output_type": "stream",
     "text": [
      "/mnt/c/Users/resha/Documents/Github/balancing_framework/fracdiff.py:187: FutureWarning: DataFrame.fillna with 'method' is deprecated and will raise in a future version. Use obj.ffill() or obj.bfill() instead.\n",
      "  series_f = series[[name]].fillna(method='ffill').dropna()\n",
      "/mnt/c/Users/resha/Documents/Github/balancing_framework/fracdiff.py:187: FutureWarning: DataFrame.fillna with 'method' is deprecated and will raise in a future version. Use obj.ffill() or obj.bfill() instead.\n",
      "  series_f = series[[name]].fillna(method='ffill').dropna()\n",
      "/mnt/c/Users/resha/Documents/Github/balancing_framework/fracdiff.py:187: FutureWarning: DataFrame.fillna with 'method' is deprecated and will raise in a future version. Use obj.ffill() or obj.bfill() instead.\n",
      "  series_f = series[[name]].fillna(method='ffill').dropna()\n",
      "/mnt/c/Users/resha/Documents/Github/balancing_framework/fracdiff.py:187: FutureWarning: DataFrame.fillna with 'method' is deprecated and will raise in a future version. Use obj.ffill() or obj.bfill() instead.\n",
      "  series_f = series[[name]].fillna(method='ffill').dropna()\n",
      "/mnt/c/Users/resha/Documents/Github/balancing_framework/fracdiff.py:187: FutureWarning: DataFrame.fillna with 'method' is deprecated and will raise in a future version. Use obj.ffill() or obj.bfill() instead.\n",
      "  series_f = series[[name]].fillna(method='ffill').dropna()\n"
     ]
    },
    {
     "name": "stdout",
     "output_type": "stream",
     "text": [
      "kc_upper_28 stationary with d=0.2 stat windows =6 out of 9 p-values = [0.11261284346585987, 0.0, 0.0014762414811532172, 0.2863472746332765, 0.011787320127668048, 0.00045657772503365616, 0.35012230314926784, 0.005135132817788315, 0.03687656891299904]\n",
      "kc_middle_28\n"
     ]
    },
    {
     "name": "stderr",
     "output_type": "stream",
     "text": [
      "/mnt/c/Users/resha/Documents/Github/balancing_framework/fracdiff.py:187: FutureWarning: DataFrame.fillna with 'method' is deprecated and will raise in a future version. Use obj.ffill() or obj.bfill() instead.\n",
      "  series_f = series[[name]].fillna(method='ffill').dropna()\n",
      "/mnt/c/Users/resha/Documents/Github/balancing_framework/fracdiff.py:187: FutureWarning: DataFrame.fillna with 'method' is deprecated and will raise in a future version. Use obj.ffill() or obj.bfill() instead.\n",
      "  series_f = series[[name]].fillna(method='ffill').dropna()\n",
      "/mnt/c/Users/resha/Documents/Github/balancing_framework/fracdiff.py:187: FutureWarning: DataFrame.fillna with 'method' is deprecated and will raise in a future version. Use obj.ffill() or obj.bfill() instead.\n",
      "  series_f = series[[name]].fillna(method='ffill').dropna()\n",
      "/mnt/c/Users/resha/Documents/Github/balancing_framework/fracdiff.py:187: FutureWarning: DataFrame.fillna with 'method' is deprecated and will raise in a future version. Use obj.ffill() or obj.bfill() instead.\n",
      "  series_f = series[[name]].fillna(method='ffill').dropna()\n",
      "/mnt/c/Users/resha/Documents/Github/balancing_framework/fracdiff.py:187: FutureWarning: DataFrame.fillna with 'method' is deprecated and will raise in a future version. Use obj.ffill() or obj.bfill() instead.\n",
      "  series_f = series[[name]].fillna(method='ffill').dropna()\n",
      "/mnt/c/Users/resha/Documents/Github/balancing_framework/fracdiff.py:187: FutureWarning: DataFrame.fillna with 'method' is deprecated and will raise in a future version. Use obj.ffill() or obj.bfill() instead.\n",
      "  series_f = series[[name]].fillna(method='ffill').dropna()\n"
     ]
    },
    {
     "name": "stdout",
     "output_type": "stream",
     "text": [
      "kc_middle_28 stationary with d=0.25 stat windows =7 out of 9 p-values = [0.03685612656737181, 0.032655198400197066, 0.00013166222363648317, 0.2028731054658212, 0.004405250676202863, 6.816254520207534e-05, 0.2653725874002072, 0.0004378353242284202, 0.009071035930934111]\n",
      "kc_lower_28\n"
     ]
    },
    {
     "name": "stderr",
     "output_type": "stream",
     "text": [
      "/mnt/c/Users/resha/Documents/Github/balancing_framework/fracdiff.py:187: FutureWarning: DataFrame.fillna with 'method' is deprecated and will raise in a future version. Use obj.ffill() or obj.bfill() instead.\n",
      "  series_f = series[[name]].fillna(method='ffill').dropna()\n",
      "/mnt/c/Users/resha/Documents/Github/balancing_framework/fracdiff.py:187: FutureWarning: DataFrame.fillna with 'method' is deprecated and will raise in a future version. Use obj.ffill() or obj.bfill() instead.\n",
      "  series_f = series[[name]].fillna(method='ffill').dropna()\n",
      "/mnt/c/Users/resha/Documents/Github/balancing_framework/fracdiff.py:187: FutureWarning: DataFrame.fillna with 'method' is deprecated and will raise in a future version. Use obj.ffill() or obj.bfill() instead.\n",
      "  series_f = series[[name]].fillna(method='ffill').dropna()\n",
      "/mnt/c/Users/resha/Documents/Github/balancing_framework/fracdiff.py:187: FutureWarning: DataFrame.fillna with 'method' is deprecated and will raise in a future version. Use obj.ffill() or obj.bfill() instead.\n",
      "  series_f = series[[name]].fillna(method='ffill').dropna()\n",
      "/mnt/c/Users/resha/Documents/Github/balancing_framework/fracdiff.py:187: FutureWarning: DataFrame.fillna with 'method' is deprecated and will raise in a future version. Use obj.ffill() or obj.bfill() instead.\n",
      "  series_f = series[[name]].fillna(method='ffill').dropna()\n"
     ]
    },
    {
     "name": "stdout",
     "output_type": "stream",
     "text": [
      "kc_lower_28 stationary with d=0.2 stat windows =5 out of 9 p-values = [0.12354959764223994, 0.0, 0.004470206694426442, 0.3512528868128713, 0.032825303850985414, 0.0012685776444881665, 0.4479294791585038, 0.01040640975920267, 0.05687051320693503]\n",
      "donchian_upper_28\n"
     ]
    },
    {
     "name": "stderr",
     "output_type": "stream",
     "text": [
      "/mnt/c/Users/resha/Documents/Github/balancing_framework/fracdiff.py:187: FutureWarning: DataFrame.fillna with 'method' is deprecated and will raise in a future version. Use obj.ffill() or obj.bfill() instead.\n",
      "  series_f = series[[name]].fillna(method='ffill').dropna()\n",
      "/mnt/c/Users/resha/Documents/Github/balancing_framework/fracdiff.py:187: FutureWarning: DataFrame.fillna with 'method' is deprecated and will raise in a future version. Use obj.ffill() or obj.bfill() instead.\n",
      "  series_f = series[[name]].fillna(method='ffill').dropna()\n",
      "/mnt/c/Users/resha/Documents/Github/balancing_framework/fracdiff.py:187: FutureWarning: DataFrame.fillna with 'method' is deprecated and will raise in a future version. Use obj.ffill() or obj.bfill() instead.\n",
      "  series_f = series[[name]].fillna(method='ffill').dropna()\n",
      "/mnt/c/Users/resha/Documents/Github/balancing_framework/fracdiff.py:187: FutureWarning: DataFrame.fillna with 'method' is deprecated and will raise in a future version. Use obj.ffill() or obj.bfill() instead.\n",
      "  series_f = series[[name]].fillna(method='ffill').dropna()\n",
      "/mnt/c/Users/resha/Documents/Github/balancing_framework/fracdiff.py:187: FutureWarning: DataFrame.fillna with 'method' is deprecated and will raise in a future version. Use obj.ffill() or obj.bfill() instead.\n",
      "  series_f = series[[name]].fillna(method='ffill').dropna()\n"
     ]
    },
    {
     "name": "stdout",
     "output_type": "stream",
     "text": [
      "donchian_upper_28 stationary with d=0.2 stat windows =7 out of 9 p-values = [4.940147256331987e-10, 0.002537703461079993, 0.003345904967180086, 0.35778989250192883, 0.008488932582423279, 0.0006222438180746584, 0.38413637214411434, 0.007917387739760662, 0.023403556340505286]\n",
      "donchian_middle_28\n"
     ]
    },
    {
     "name": "stderr",
     "output_type": "stream",
     "text": [
      "/mnt/c/Users/resha/Documents/Github/balancing_framework/fracdiff.py:187: FutureWarning: DataFrame.fillna with 'method' is deprecated and will raise in a future version. Use obj.ffill() or obj.bfill() instead.\n",
      "  series_f = series[[name]].fillna(method='ffill').dropna()\n",
      "/mnt/c/Users/resha/Documents/Github/balancing_framework/fracdiff.py:187: FutureWarning: DataFrame.fillna with 'method' is deprecated and will raise in a future version. Use obj.ffill() or obj.bfill() instead.\n",
      "  series_f = series[[name]].fillna(method='ffill').dropna()\n",
      "/mnt/c/Users/resha/Documents/Github/balancing_framework/fracdiff.py:187: FutureWarning: DataFrame.fillna with 'method' is deprecated and will raise in a future version. Use obj.ffill() or obj.bfill() instead.\n",
      "  series_f = series[[name]].fillna(method='ffill').dropna()\n",
      "/mnt/c/Users/resha/Documents/Github/balancing_framework/fracdiff.py:187: FutureWarning: DataFrame.fillna with 'method' is deprecated and will raise in a future version. Use obj.ffill() or obj.bfill() instead.\n",
      "  series_f = series[[name]].fillna(method='ffill').dropna()\n",
      "/mnt/c/Users/resha/Documents/Github/balancing_framework/fracdiff.py:187: FutureWarning: DataFrame.fillna with 'method' is deprecated and will raise in a future version. Use obj.ffill() or obj.bfill() instead.\n",
      "  series_f = series[[name]].fillna(method='ffill').dropna()\n"
     ]
    },
    {
     "name": "stdout",
     "output_type": "stream",
     "text": [
      "donchian_middle_28 stationary with d=0.2 stat windows =6 out of 9 p-values = [0.0006717584593053733, 0.0, 0.00887208030281141, 0.3900065747035455, 0.03027464573115957, 0.0031065515168305995, 0.4753289362890017, 0.017565670909020968, 0.07637865791483828]\n",
      "donchian_lower_28\n"
     ]
    },
    {
     "name": "stderr",
     "output_type": "stream",
     "text": [
      "/mnt/c/Users/resha/Documents/Github/balancing_framework/fracdiff.py:187: FutureWarning: DataFrame.fillna with 'method' is deprecated and will raise in a future version. Use obj.ffill() or obj.bfill() instead.\n",
      "  series_f = series[[name]].fillna(method='ffill').dropna()\n",
      "/mnt/c/Users/resha/Documents/Github/balancing_framework/fracdiff.py:187: FutureWarning: DataFrame.fillna with 'method' is deprecated and will raise in a future version. Use obj.ffill() or obj.bfill() instead.\n",
      "  series_f = series[[name]].fillna(method='ffill').dropna()\n",
      "/mnt/c/Users/resha/Documents/Github/balancing_framework/fracdiff.py:187: FutureWarning: DataFrame.fillna with 'method' is deprecated and will raise in a future version. Use obj.ffill() or obj.bfill() instead.\n",
      "  series_f = series[[name]].fillna(method='ffill').dropna()\n",
      "/mnt/c/Users/resha/Documents/Github/balancing_framework/fracdiff.py:187: FutureWarning: DataFrame.fillna with 'method' is deprecated and will raise in a future version. Use obj.ffill() or obj.bfill() instead.\n",
      "  series_f = series[[name]].fillna(method='ffill').dropna()\n",
      "/mnt/c/Users/resha/Documents/Github/balancing_framework/fracdiff.py:187: FutureWarning: DataFrame.fillna with 'method' is deprecated and will raise in a future version. Use obj.ffill() or obj.bfill() instead.\n",
      "  series_f = series[[name]].fillna(method='ffill').dropna()\n"
     ]
    },
    {
     "name": "stdout",
     "output_type": "stream",
     "text": [
      "donchian_lower_28 stationary with d=0.2 stat windows =6 out of 9 p-values = [0.005649650436872712, 0.0, 0.005314098161575353, 0.4137820076007436, 0.053593689023710166, 0.0028628972045413883, 0.47482194476908673, 0.009389798400818552, 0.029966722379987366]\n",
      "obv_28\n"
     ]
    },
    {
     "name": "stderr",
     "output_type": "stream",
     "text": [
      "/mnt/c/Users/resha/Documents/Github/balancing_framework/fracdiff.py:187: FutureWarning: DataFrame.fillna with 'method' is deprecated and will raise in a future version. Use obj.ffill() or obj.bfill() instead.\n",
      "  series_f = series[[name]].fillna(method='ffill').dropna()\n",
      "/mnt/c/Users/resha/Documents/Github/balancing_framework/fracdiff.py:187: FutureWarning: DataFrame.fillna with 'method' is deprecated and will raise in a future version. Use obj.ffill() or obj.bfill() instead.\n",
      "  series_f = series[[name]].fillna(method='ffill').dropna()\n",
      "/mnt/c/Users/resha/Documents/Github/balancing_framework/fracdiff.py:187: FutureWarning: DataFrame.fillna with 'method' is deprecated and will raise in a future version. Use obj.ffill() or obj.bfill() instead.\n",
      "  series_f = series[[name]].fillna(method='ffill').dropna()\n",
      "/mnt/c/Users/resha/Documents/Github/balancing_framework/fracdiff.py:187: FutureWarning: DataFrame.fillna with 'method' is deprecated and will raise in a future version. Use obj.ffill() or obj.bfill() instead.\n",
      "  series_f = series[[name]].fillna(method='ffill').dropna()\n",
      "/mnt/c/Users/resha/Documents/Github/balancing_framework/fracdiff.py:187: FutureWarning: DataFrame.fillna with 'method' is deprecated and will raise in a future version. Use obj.ffill() or obj.bfill() instead.\n",
      "  series_f = series[[name]].fillna(method='ffill').dropna()\n",
      "/mnt/c/Users/resha/Documents/Github/balancing_framework/fracdiff.py:187: FutureWarning: DataFrame.fillna with 'method' is deprecated and will raise in a future version. Use obj.ffill() or obj.bfill() instead.\n",
      "  series_f = series[[name]].fillna(method='ffill').dropna()\n"
     ]
    },
    {
     "name": "stdout",
     "output_type": "stream",
     "text": [
      "obv_28 stationary with d=0.25 stat windows =6 out of 9 p-values = [1.4077761434282978e-06, 2.2985190925863587e-05, 0.013075131768733303, 0.13496747020628946, 0.4150600027272802, 0.015201837928525483, 0.010816315044374792, 0.5678598515136069, 0.0072901452403031945]\n",
      "cmf_28\n"
     ]
    },
    {
     "name": "stderr",
     "output_type": "stream",
     "text": [
      "/mnt/c/Users/resha/Documents/Github/balancing_framework/fracdiff.py:187: FutureWarning: DataFrame.fillna with 'method' is deprecated and will raise in a future version. Use obj.ffill() or obj.bfill() instead.\n",
      "  series_f = series[[name]].fillna(method='ffill').dropna()\n"
     ]
    },
    {
     "name": "stdout",
     "output_type": "stream",
     "text": [
      "cmf_28 stationary with d=0.0 stat windows =9 out of 9 p-values = [0.0, 0.0, 0.0, 0.0, 0.0, 0.0, 0.0, 0.0, 4.82411010241518e-27]\n",
      "mfi_28\n"
     ]
    },
    {
     "name": "stderr",
     "output_type": "stream",
     "text": [
      "/mnt/c/Users/resha/Documents/Github/balancing_framework/fracdiff.py:187: FutureWarning: DataFrame.fillna with 'method' is deprecated and will raise in a future version. Use obj.ffill() or obj.bfill() instead.\n",
      "  series_f = series[[name]].fillna(method='ffill').dropna()\n"
     ]
    },
    {
     "name": "stdout",
     "output_type": "stream",
     "text": [
      "mfi_28 stationary with d=0.0 stat windows =9 out of 9 p-values = [0.0, 0.0, 0.0, 0.0, 0.0, 0.0, 0.0, 0.0, 1.8162806700535774e-28]\n",
      "vwap_28\n"
     ]
    },
    {
     "name": "stderr",
     "output_type": "stream",
     "text": [
      "/mnt/c/Users/resha/Documents/Github/balancing_framework/fracdiff.py:187: FutureWarning: DataFrame.fillna with 'method' is deprecated and will raise in a future version. Use obj.ffill() or obj.bfill() instead.\n",
      "  series_f = series[[name]].fillna(method='ffill').dropna()\n",
      "/mnt/c/Users/resha/Documents/Github/balancing_framework/fracdiff.py:187: FutureWarning: DataFrame.fillna with 'method' is deprecated and will raise in a future version. Use obj.ffill() or obj.bfill() instead.\n",
      "  series_f = series[[name]].fillna(method='ffill').dropna()\n",
      "/mnt/c/Users/resha/Documents/Github/balancing_framework/fracdiff.py:187: FutureWarning: DataFrame.fillna with 'method' is deprecated and will raise in a future version. Use obj.ffill() or obj.bfill() instead.\n",
      "  series_f = series[[name]].fillna(method='ffill').dropna()\n",
      "/mnt/c/Users/resha/Documents/Github/balancing_framework/fracdiff.py:187: FutureWarning: DataFrame.fillna with 'method' is deprecated and will raise in a future version. Use obj.ffill() or obj.bfill() instead.\n",
      "  series_f = series[[name]].fillna(method='ffill').dropna()\n",
      "/mnt/c/Users/resha/Documents/Github/balancing_framework/fracdiff.py:187: FutureWarning: DataFrame.fillna with 'method' is deprecated and will raise in a future version. Use obj.ffill() or obj.bfill() instead.\n",
      "  series_f = series[[name]].fillna(method='ffill').dropna()\n"
     ]
    },
    {
     "name": "stdout",
     "output_type": "stream",
     "text": [
      "vwap_28 stationary with d=0.2 stat windows =5 out of 9 p-values = [0.18648126434625828, 0.024689814550016155, 0.010380642551928618, 0.4434234395823394, 0.04240471609874125, 0.006025841190295057, 0.5382109336312968, 0.03370024375012358, 0.05534609186433335]\n",
      "log_ret_28\n"
     ]
    },
    {
     "name": "stderr",
     "output_type": "stream",
     "text": [
      "/mnt/c/Users/resha/Documents/Github/balancing_framework/fracdiff.py:187: FutureWarning: DataFrame.fillna with 'method' is deprecated and will raise in a future version. Use obj.ffill() or obj.bfill() instead.\n",
      "  series_f = series[[name]].fillna(method='ffill').dropna()\n"
     ]
    },
    {
     "name": "stdout",
     "output_type": "stream",
     "text": [
      "log_ret_28 stationary with d=0.0 stat windows =9 out of 9 p-values = [0.0, 0.0, 0.0, 0.0, 0.0, 0.0, 0.0, 0.0, 0.0]\n",
      "std_28\n"
     ]
    },
    {
     "name": "stderr",
     "output_type": "stream",
     "text": [
      "/mnt/c/Users/resha/Documents/Github/balancing_framework/fracdiff.py:187: FutureWarning: DataFrame.fillna with 'method' is deprecated and will raise in a future version. Use obj.ffill() or obj.bfill() instead.\n",
      "  series_f = series[[name]].fillna(method='ffill').dropna()\n"
     ]
    },
    {
     "name": "stdout",
     "output_type": "stream",
     "text": [
      "std_28 stationary with d=0.0 stat windows =9 out of 9 p-values = [0.0, 0.0, 0.0, 0.0, 0.0, 0.0, 2.0133612586579921e-28, 0.0, 5.265985425561945e-21]\n",
      "zscore_28\n"
     ]
    },
    {
     "name": "stderr",
     "output_type": "stream",
     "text": [
      "/mnt/c/Users/resha/Documents/Github/balancing_framework/fracdiff.py:187: FutureWarning: DataFrame.fillna with 'method' is deprecated and will raise in a future version. Use obj.ffill() or obj.bfill() instead.\n",
      "  series_f = series[[name]].fillna(method='ffill').dropna()\n"
     ]
    },
    {
     "name": "stdout",
     "output_type": "stream",
     "text": [
      "zscore_28 stationary with d=0.0 stat windows =9 out of 9 p-values = [0.0, 0.0, 0.0, 0.0, 0.0, 0.0, 0.0, 0.0, 0.0]\n",
      "delta_close_28\n"
     ]
    },
    {
     "name": "stderr",
     "output_type": "stream",
     "text": [
      "/mnt/c/Users/resha/Documents/Github/balancing_framework/fracdiff.py:187: FutureWarning: DataFrame.fillna with 'method' is deprecated and will raise in a future version. Use obj.ffill() or obj.bfill() instead.\n",
      "  series_f = series[[name]].fillna(method='ffill').dropna()\n"
     ]
    },
    {
     "name": "stdout",
     "output_type": "stream",
     "text": [
      "delta_close_28 stationary with d=0.0 stat windows =9 out of 9 p-values = [0.0, 0.0, 0.0, 0.0, 0.0, 0.0, 0.0, 0.0, 0.0]\n",
      "delta_high_28\n"
     ]
    },
    {
     "name": "stderr",
     "output_type": "stream",
     "text": [
      "/mnt/c/Users/resha/Documents/Github/balancing_framework/fracdiff.py:187: FutureWarning: DataFrame.fillna with 'method' is deprecated and will raise in a future version. Use obj.ffill() or obj.bfill() instead.\n",
      "  series_f = series[[name]].fillna(method='ffill').dropna()\n"
     ]
    },
    {
     "name": "stdout",
     "output_type": "stream",
     "text": [
      "delta_high_28 stationary with d=0.0 stat windows =9 out of 9 p-values = [0.0, 0.0, 0.0, 0.0, 0.0, 0.0, 0.0, 0.0, 0.0]\n",
      "delta_low_28\n"
     ]
    },
    {
     "name": "stderr",
     "output_type": "stream",
     "text": [
      "/mnt/c/Users/resha/Documents/Github/balancing_framework/fracdiff.py:187: FutureWarning: DataFrame.fillna with 'method' is deprecated and will raise in a future version. Use obj.ffill() or obj.bfill() instead.\n",
      "  series_f = series[[name]].fillna(method='ffill').dropna()\n"
     ]
    },
    {
     "name": "stdout",
     "output_type": "stream",
     "text": [
      "delta_low_28 stationary with d=0.0 stat windows =9 out of 9 p-values = [0.0, 0.0, 0.0, 0.0, 0.0, 0.0, 0.0, 0.0, 0.0]\n",
      "macd_diff_28\n"
     ]
    },
    {
     "name": "stderr",
     "output_type": "stream",
     "text": [
      "/mnt/c/Users/resha/Documents/Github/balancing_framework/fracdiff.py:187: FutureWarning: DataFrame.fillna with 'method' is deprecated and will raise in a future version. Use obj.ffill() or obj.bfill() instead.\n",
      "  series_f = series[[name]].fillna(method='ffill').dropna()\n"
     ]
    },
    {
     "name": "stdout",
     "output_type": "stream",
     "text": [
      "macd_diff_28 stationary with d=0.0 stat windows =9 out of 9 p-values = [0.0, 0.0, 0.0, 0.0, 0.0, 0.0, 0.0, 0.0, 2.4536451535489518e-27]\n",
      "close_over_sma_28\n"
     ]
    },
    {
     "name": "stderr",
     "output_type": "stream",
     "text": [
      "/mnt/c/Users/resha/Documents/Github/balancing_framework/fracdiff.py:187: FutureWarning: DataFrame.fillna with 'method' is deprecated and will raise in a future version. Use obj.ffill() or obj.bfill() instead.\n",
      "  series_f = series[[name]].fillna(method='ffill').dropna()\n"
     ]
    },
    {
     "name": "stdout",
     "output_type": "stream",
     "text": [
      "close_over_sma_28 stationary with d=0.0 stat windows =9 out of 9 p-values = [0.0, 0.0, 0.0, 0.0, 0.0, 0.0, 0.0, 0.0, 4.843231562593943e-24]\n",
      "volatility_ratio_28\n"
     ]
    },
    {
     "name": "stderr",
     "output_type": "stream",
     "text": [
      "/mnt/c/Users/resha/Documents/Github/balancing_framework/fracdiff.py:187: FutureWarning: DataFrame.fillna with 'method' is deprecated and will raise in a future version. Use obj.ffill() or obj.bfill() instead.\n",
      "  series_f = series[[name]].fillna(method='ffill').dropna()\n"
     ]
    },
    {
     "name": "stdout",
     "output_type": "stream",
     "text": [
      "volatility_ratio_28 stationary with d=0.0 stat windows =9 out of 9 p-values = [0.0, 0.0, 1.6523735302167541e-28, 0.0, 3.1375642049193487e-30, 5.1618083404499444e-30, 9.484753087138144e-20, 0.0, 7.072315653863377e-21]\n",
      "racc_close_28\n"
     ]
    },
    {
     "name": "stderr",
     "output_type": "stream",
     "text": [
      "/mnt/c/Users/resha/Documents/Github/balancing_framework/fracdiff.py:187: FutureWarning: DataFrame.fillna with 'method' is deprecated and will raise in a future version. Use obj.ffill() or obj.bfill() instead.\n",
      "  series_f = series[[name]].fillna(method='ffill').dropna()\n"
     ]
    },
    {
     "name": "stdout",
     "output_type": "stream",
     "text": [
      "racc_close_28 stationary with d=0.0 stat windows =9 out of 9 p-values = [0.0, 2.1802752774445353e-30, 0.0, 0.0, 0.0, 0.0, 3.7676389124886184e-22, 0.0, 7.050036569845133e-18]\n",
      "racc_close_56\n"
     ]
    },
    {
     "name": "stderr",
     "output_type": "stream",
     "text": [
      "/mnt/c/Users/resha/Documents/Github/balancing_framework/fracdiff.py:187: FutureWarning: DataFrame.fillna with 'method' is deprecated and will raise in a future version. Use obj.ffill() or obj.bfill() instead.\n",
      "  series_f = series[[name]].fillna(method='ffill').dropna()\n"
     ]
    },
    {
     "name": "stdout",
     "output_type": "stream",
     "text": [
      "racc_close_56 stationary with d=0.0 stat windows =9 out of 9 p-values = [0.0, 1.9091614302409423e-27, 4.116088811654107e-30, 0.0, 5.036239056844808e-29, 4.989486148390623e-28, 7.132056702752373e-18, 2.5559850719916337e-30, 8.681889338468214e-19]\n",
      "racc_close_84\n"
     ]
    },
    {
     "name": "stderr",
     "output_type": "stream",
     "text": [
      "/mnt/c/Users/resha/Documents/Github/balancing_framework/fracdiff.py:187: FutureWarning: DataFrame.fillna with 'method' is deprecated and will raise in a future version. Use obj.ffill() or obj.bfill() instead.\n",
      "  series_f = series[[name]].fillna(method='ffill').dropna()\n"
     ]
    },
    {
     "name": "stdout",
     "output_type": "stream",
     "text": [
      "racc_close_84 stationary with d=0.0 stat windows =9 out of 9 p-values = [0.0, 3.298546096851369e-30, 0.0, 0.0, 0.0, 9.030563712046908e-30, 4.2637367455893687e-23, 0.0, 1.7066163156038623e-12]\n",
      "aqr_momo_close_28\n"
     ]
    },
    {
     "name": "stderr",
     "output_type": "stream",
     "text": [
      "/mnt/c/Users/resha/Documents/Github/balancing_framework/fracdiff.py:187: FutureWarning: DataFrame.fillna with 'method' is deprecated and will raise in a future version. Use obj.ffill() or obj.bfill() instead.\n",
      "  series_f = series[[name]].fillna(method='ffill').dropna()\n"
     ]
    },
    {
     "name": "stdout",
     "output_type": "stream",
     "text": [
      "aqr_momo_close_28 stationary with d=0.0 stat windows =9 out of 9 p-values = [0.0, 0.0, 0.0, 0.0, 0.0, 0.0, 0.0, 0.0, 7.731179988687111e-29]\n",
      "aqr_momo_close_56\n"
     ]
    },
    {
     "name": "stderr",
     "output_type": "stream",
     "text": [
      "/mnt/c/Users/resha/Documents/Github/balancing_framework/fracdiff.py:187: FutureWarning: DataFrame.fillna with 'method' is deprecated and will raise in a future version. Use obj.ffill() or obj.bfill() instead.\n",
      "  series_f = series[[name]].fillna(method='ffill').dropna()\n"
     ]
    },
    {
     "name": "stdout",
     "output_type": "stream",
     "text": [
      "aqr_momo_close_56 stationary with d=0.0 stat windows =9 out of 9 p-values = [0.0, 0.0, 0.0, 0.0, 0.0, 0.0, 0.0, 0.0, 2.715839663888776e-21]\n",
      "aqr_momo_close_84\n"
     ]
    },
    {
     "name": "stderr",
     "output_type": "stream",
     "text": [
      "/mnt/c/Users/resha/Documents/Github/balancing_framework/fracdiff.py:187: FutureWarning: DataFrame.fillna with 'method' is deprecated and will raise in a future version. Use obj.ffill() or obj.bfill() instead.\n",
      "  series_f = series[[name]].fillna(method='ffill').dropna()\n"
     ]
    },
    {
     "name": "stdout",
     "output_type": "stream",
     "text": [
      "aqr_momo_close_84 stationary with d=0.0 stat windows =9 out of 9 p-values = [0.0, 0.0, 0.0, 0.0, 0.0, 0.0, 0.0, 0.0, 0.0]\n",
      "ibs\n"
     ]
    },
    {
     "name": "stderr",
     "output_type": "stream",
     "text": [
      "/mnt/c/Users/resha/Documents/Github/balancing_framework/fracdiff.py:187: FutureWarning: DataFrame.fillna with 'method' is deprecated and will raise in a future version. Use obj.ffill() or obj.bfill() instead.\n",
      "  series_f = series[[name]].fillna(method='ffill').dropna()\n"
     ]
    },
    {
     "name": "stdout",
     "output_type": "stream",
     "text": [
      "ibs stationary with d=0.0 stat windows =9 out of 9 p-values = [0.0, 0.0, 0.0, 0.0, 0.0, 0.0, 0.0, 0.0, 0.0]\n",
      "rsi_288\n"
     ]
    },
    {
     "name": "stderr",
     "output_type": "stream",
     "text": [
      "/mnt/c/Users/resha/Documents/Github/balancing_framework/fracdiff.py:187: FutureWarning: DataFrame.fillna with 'method' is deprecated and will raise in a future version. Use obj.ffill() or obj.bfill() instead.\n",
      "  series_f = series[[name]].fillna(method='ffill').dropna()\n"
     ]
    },
    {
     "name": "stdout",
     "output_type": "stream",
     "text": [
      "rsi_288 stationary with d=0.0 stat windows =9 out of 9 p-values = [1.8450862784562818e-26, 1.2272565345000195e-25, 2.473352539321152e-25, 6.018627041355754e-25, 1.0567996292581163e-26, 3.962739676306553e-25, 1.2491035393889658e-26, 1.860350526907195e-23, 0.0001489358178386555]\n",
      "stoch_k_14_3_3_288\n"
     ]
    },
    {
     "name": "stderr",
     "output_type": "stream",
     "text": [
      "/mnt/c/Users/resha/Documents/Github/balancing_framework/fracdiff.py:187: FutureWarning: DataFrame.fillna with 'method' is deprecated and will raise in a future version. Use obj.ffill() or obj.bfill() instead.\n",
      "  series_f = series[[name]].fillna(method='ffill').dropna()\n"
     ]
    },
    {
     "name": "stdout",
     "output_type": "stream",
     "text": [
      "stoch_k_14_3_3_288 stationary with d=0.0 stat windows =9 out of 9 p-values = [0.0, 0.0, 0.0, 0.0, 0.0, 0.0, 0.0, 0.0, 2.1204004166341717e-24]\n",
      "stoch_d_14_3_3_288\n"
     ]
    },
    {
     "name": "stderr",
     "output_type": "stream",
     "text": [
      "/mnt/c/Users/resha/Documents/Github/balancing_framework/fracdiff.py:187: FutureWarning: DataFrame.fillna with 'method' is deprecated and will raise in a future version. Use obj.ffill() or obj.bfill() instead.\n",
      "  series_f = series[[name]].fillna(method='ffill').dropna()\n"
     ]
    },
    {
     "name": "stdout",
     "output_type": "stream",
     "text": [
      "stoch_d_14_3_3_288 stationary with d=0.0 stat windows =9 out of 9 p-values = [0.0, 0.0, 0.0, 0.0, 0.0, 0.0, 0.0, 0.0, 3.510974084049316e-24]\n",
      "ao_288\n"
     ]
    },
    {
     "name": "stderr",
     "output_type": "stream",
     "text": [
      "/mnt/c/Users/resha/Documents/Github/balancing_framework/fracdiff.py:187: FutureWarning: DataFrame.fillna with 'method' is deprecated and will raise in a future version. Use obj.ffill() or obj.bfill() instead.\n",
      "  series_f = series[[name]].fillna(method='ffill').dropna()\n"
     ]
    },
    {
     "name": "stdout",
     "output_type": "stream",
     "text": [
      "ao_288 stationary with d=0.0 stat windows =9 out of 9 p-values = [0.0, 0.0, 0.0, 0.0, 0.0, 0.0, 0.0, 0.0, 1.0938602273221883e-20]\n",
      "macd_288\n"
     ]
    },
    {
     "name": "stderr",
     "output_type": "stream",
     "text": [
      "/mnt/c/Users/resha/Documents/Github/balancing_framework/fracdiff.py:187: FutureWarning: DataFrame.fillna with 'method' is deprecated and will raise in a future version. Use obj.ffill() or obj.bfill() instead.\n",
      "  series_f = series[[name]].fillna(method='ffill').dropna()\n"
     ]
    },
    {
     "name": "stdout",
     "output_type": "stream",
     "text": [
      "macd_288 stationary with d=0.0 stat windows =9 out of 9 p-values = [0.0, 0.0, 0.0, 0.0, 0.0, 0.0, 0.0, 0.0, 2.550868547277756e-20]\n",
      "macd_signal_288\n"
     ]
    },
    {
     "name": "stderr",
     "output_type": "stream",
     "text": [
      "/mnt/c/Users/resha/Documents/Github/balancing_framework/fracdiff.py:187: FutureWarning: DataFrame.fillna with 'method' is deprecated and will raise in a future version. Use obj.ffill() or obj.bfill() instead.\n",
      "  series_f = series[[name]].fillna(method='ffill').dropna()\n"
     ]
    },
    {
     "name": "stdout",
     "output_type": "stream",
     "text": [
      "macd_signal_288 stationary with d=0.0 stat windows =9 out of 9 p-values = [0.0, 0.0, 0.0, 0.0, 0.0, 0.0, 0.0, 0.0, 0.0]\n",
      "ppo_288\n"
     ]
    },
    {
     "name": "stderr",
     "output_type": "stream",
     "text": [
      "/mnt/c/Users/resha/Documents/Github/balancing_framework/fracdiff.py:187: FutureWarning: DataFrame.fillna with 'method' is deprecated and will raise in a future version. Use obj.ffill() or obj.bfill() instead.\n",
      "  series_f = series[[name]].fillna(method='ffill').dropna()\n"
     ]
    },
    {
     "name": "stdout",
     "output_type": "stream",
     "text": [
      "ppo_288 stationary with d=0.0 stat windows =9 out of 9 p-values = [0.0, 0.0, 0.0, 0.0, 0.0, 0.0, 0.0, 0.0, 7.45795657122292e-23]\n",
      "sma_288\n"
     ]
    },
    {
     "name": "stderr",
     "output_type": "stream",
     "text": [
      "/mnt/c/Users/resha/Documents/Github/balancing_framework/fracdiff.py:187: FutureWarning: DataFrame.fillna with 'method' is deprecated and will raise in a future version. Use obj.ffill() or obj.bfill() instead.\n",
      "  series_f = series[[name]].fillna(method='ffill').dropna()\n",
      "/mnt/c/Users/resha/Documents/Github/balancing_framework/fracdiff.py:187: FutureWarning: DataFrame.fillna with 'method' is deprecated and will raise in a future version. Use obj.ffill() or obj.bfill() instead.\n",
      "  series_f = series[[name]].fillna(method='ffill').dropna()\n",
      "/mnt/c/Users/resha/Documents/Github/balancing_framework/fracdiff.py:187: FutureWarning: DataFrame.fillna with 'method' is deprecated and will raise in a future version. Use obj.ffill() or obj.bfill() instead.\n",
      "  series_f = series[[name]].fillna(method='ffill').dropna()\n",
      "/mnt/c/Users/resha/Documents/Github/balancing_framework/fracdiff.py:187: FutureWarning: DataFrame.fillna with 'method' is deprecated and will raise in a future version. Use obj.ffill() or obj.bfill() instead.\n",
      "  series_f = series[[name]].fillna(method='ffill').dropna()\n",
      "/mnt/c/Users/resha/Documents/Github/balancing_framework/fracdiff.py:187: FutureWarning: DataFrame.fillna with 'method' is deprecated and will raise in a future version. Use obj.ffill() or obj.bfill() instead.\n",
      "  series_f = series[[name]].fillna(method='ffill').dropna()\n",
      "/mnt/c/Users/resha/Documents/Github/balancing_framework/fracdiff.py:187: FutureWarning: DataFrame.fillna with 'method' is deprecated and will raise in a future version. Use obj.ffill() or obj.bfill() instead.\n",
      "  series_f = series[[name]].fillna(method='ffill').dropna()\n",
      "/mnt/c/Users/resha/Documents/Github/balancing_framework/fracdiff.py:187: FutureWarning: DataFrame.fillna with 'method' is deprecated and will raise in a future version. Use obj.ffill() or obj.bfill() instead.\n",
      "  series_f = series[[name]].fillna(method='ffill').dropna()\n"
     ]
    },
    {
     "name": "stdout",
     "output_type": "stream",
     "text": [
      "sma_288 stationary with d=0.30000000000000004 stat windows =5 out of 9 p-values = [0.07562758702107956, 0.03599779524444206, 0.00019173793276660515, 0.23176072184105484, 0.011702647371812877, 0.00017362901444775583, 0.47137852459296853, 0.0002624128826220636, 0.060191777106362886]\n",
      "ema_288\n"
     ]
    },
    {
     "name": "stderr",
     "output_type": "stream",
     "text": [
      "/mnt/c/Users/resha/Documents/Github/balancing_framework/fracdiff.py:187: FutureWarning: DataFrame.fillna with 'method' is deprecated and will raise in a future version. Use obj.ffill() or obj.bfill() instead.\n",
      "  series_f = series[[name]].fillna(method='ffill').dropna()\n",
      "/mnt/c/Users/resha/Documents/Github/balancing_framework/fracdiff.py:187: FutureWarning: DataFrame.fillna with 'method' is deprecated and will raise in a future version. Use obj.ffill() or obj.bfill() instead.\n",
      "  series_f = series[[name]].fillna(method='ffill').dropna()\n",
      "/mnt/c/Users/resha/Documents/Github/balancing_framework/fracdiff.py:187: FutureWarning: DataFrame.fillna with 'method' is deprecated and will raise in a future version. Use obj.ffill() or obj.bfill() instead.\n",
      "  series_f = series[[name]].fillna(method='ffill').dropna()\n",
      "/mnt/c/Users/resha/Documents/Github/balancing_framework/fracdiff.py:187: FutureWarning: DataFrame.fillna with 'method' is deprecated and will raise in a future version. Use obj.ffill() or obj.bfill() instead.\n",
      "  series_f = series[[name]].fillna(method='ffill').dropna()\n",
      "/mnt/c/Users/resha/Documents/Github/balancing_framework/fracdiff.py:187: FutureWarning: DataFrame.fillna with 'method' is deprecated and will raise in a future version. Use obj.ffill() or obj.bfill() instead.\n",
      "  series_f = series[[name]].fillna(method='ffill').dropna()\n",
      "/mnt/c/Users/resha/Documents/Github/balancing_framework/fracdiff.py:187: FutureWarning: DataFrame.fillna with 'method' is deprecated and will raise in a future version. Use obj.ffill() or obj.bfill() instead.\n",
      "  series_f = series[[name]].fillna(method='ffill').dropna()\n",
      "/mnt/c/Users/resha/Documents/Github/balancing_framework/fracdiff.py:187: FutureWarning: DataFrame.fillna with 'method' is deprecated and will raise in a future version. Use obj.ffill() or obj.bfill() instead.\n",
      "  series_f = series[[name]].fillna(method='ffill').dropna()\n",
      "/mnt/c/Users/resha/Documents/Github/balancing_framework/fracdiff.py:187: FutureWarning: DataFrame.fillna with 'method' is deprecated and will raise in a future version. Use obj.ffill() or obj.bfill() instead.\n",
      "  series_f = series[[name]].fillna(method='ffill').dropna()\n",
      "/mnt/c/Users/resha/Documents/Github/balancing_framework/fracdiff.py:187: FutureWarning: DataFrame.fillna with 'method' is deprecated and will raise in a future version. Use obj.ffill() or obj.bfill() instead.\n",
      "  series_f = series[[name]].fillna(method='ffill').dropna()\n"
     ]
    },
    {
     "name": "stdout",
     "output_type": "stream",
     "text": [
      "ema_288 stationary with d=0.4 stat windows =5 out of 9 p-values = [0.15002543863128925, 0.05668984323875668, 0.0009804054673574305, 0.3792985979885572, 0.02294689313401269, 0.0006035386411164566, 0.36687829077488354, 0.0023206146518727844, 0.015666727308783716]\n",
      "ema_864\n"
     ]
    },
    {
     "name": "stderr",
     "output_type": "stream",
     "text": [
      "/mnt/c/Users/resha/Documents/Github/balancing_framework/fracdiff.py:187: FutureWarning: DataFrame.fillna with 'method' is deprecated and will raise in a future version. Use obj.ffill() or obj.bfill() instead.\n",
      "  series_f = series[[name]].fillna(method='ffill').dropna()\n",
      "/mnt/c/Users/resha/Documents/Github/balancing_framework/fracdiff.py:187: FutureWarning: DataFrame.fillna with 'method' is deprecated and will raise in a future version. Use obj.ffill() or obj.bfill() instead.\n",
      "  series_f = series[[name]].fillna(method='ffill').dropna()\n",
      "/mnt/c/Users/resha/Documents/Github/balancing_framework/fracdiff.py:187: FutureWarning: DataFrame.fillna with 'method' is deprecated and will raise in a future version. Use obj.ffill() or obj.bfill() instead.\n",
      "  series_f = series[[name]].fillna(method='ffill').dropna()\n",
      "/mnt/c/Users/resha/Documents/Github/balancing_framework/fracdiff.py:187: FutureWarning: DataFrame.fillna with 'method' is deprecated and will raise in a future version. Use obj.ffill() or obj.bfill() instead.\n",
      "  series_f = series[[name]].fillna(method='ffill').dropna()\n",
      "/mnt/c/Users/resha/Documents/Github/balancing_framework/fracdiff.py:187: FutureWarning: DataFrame.fillna with 'method' is deprecated and will raise in a future version. Use obj.ffill() or obj.bfill() instead.\n",
      "  series_f = series[[name]].fillna(method='ffill').dropna()\n",
      "/mnt/c/Users/resha/Documents/Github/balancing_framework/fracdiff.py:187: FutureWarning: DataFrame.fillna with 'method' is deprecated and will raise in a future version. Use obj.ffill() or obj.bfill() instead.\n",
      "  series_f = series[[name]].fillna(method='ffill').dropna()\n",
      "/mnt/c/Users/resha/Documents/Github/balancing_framework/fracdiff.py:187: FutureWarning: DataFrame.fillna with 'method' is deprecated and will raise in a future version. Use obj.ffill() or obj.bfill() instead.\n",
      "  series_f = series[[name]].fillna(method='ffill').dropna()\n",
      "/mnt/c/Users/resha/Documents/Github/balancing_framework/fracdiff.py:187: FutureWarning: DataFrame.fillna with 'method' is deprecated and will raise in a future version. Use obj.ffill() or obj.bfill() instead.\n",
      "  series_f = series[[name]].fillna(method='ffill').dropna()\n",
      "/mnt/c/Users/resha/Documents/Github/balancing_framework/fracdiff.py:187: FutureWarning: DataFrame.fillna with 'method' is deprecated and will raise in a future version. Use obj.ffill() or obj.bfill() instead.\n",
      "  series_f = series[[name]].fillna(method='ffill').dropna()\n",
      "/mnt/c/Users/resha/Documents/Github/balancing_framework/fracdiff.py:187: FutureWarning: DataFrame.fillna with 'method' is deprecated and will raise in a future version. Use obj.ffill() or obj.bfill() instead.\n",
      "  series_f = series[[name]].fillna(method='ffill').dropna()\n",
      "/mnt/c/Users/resha/Documents/Github/balancing_framework/fracdiff.py:187: FutureWarning: DataFrame.fillna with 'method' is deprecated and will raise in a future version. Use obj.ffill() or obj.bfill() instead.\n",
      "  series_f = series[[name]].fillna(method='ffill').dropna()\n",
      "/mnt/c/Users/resha/Documents/Github/balancing_framework/fracdiff.py:187: FutureWarning: DataFrame.fillna with 'method' is deprecated and will raise in a future version. Use obj.ffill() or obj.bfill() instead.\n",
      "  series_f = series[[name]].fillna(method='ffill').dropna()\n",
      "/mnt/c/Users/resha/Documents/Github/balancing_framework/fracdiff.py:187: FutureWarning: DataFrame.fillna with 'method' is deprecated and will raise in a future version. Use obj.ffill() or obj.bfill() instead.\n",
      "  series_f = series[[name]].fillna(method='ffill').dropna()\n",
      "/mnt/c/Users/resha/Documents/Github/balancing_framework/fracdiff.py:187: FutureWarning: DataFrame.fillna with 'method' is deprecated and will raise in a future version. Use obj.ffill() or obj.bfill() instead.\n",
      "  series_f = series[[name]].fillna(method='ffill').dropna()\n",
      "/mnt/c/Users/resha/Documents/Github/balancing_framework/fracdiff.py:187: FutureWarning: DataFrame.fillna with 'method' is deprecated and will raise in a future version. Use obj.ffill() or obj.bfill() instead.\n",
      "  series_f = series[[name]].fillna(method='ffill').dropna()\n",
      "/mnt/c/Users/resha/Documents/Github/balancing_framework/fracdiff.py:187: FutureWarning: DataFrame.fillna with 'method' is deprecated and will raise in a future version. Use obj.ffill() or obj.bfill() instead.\n",
      "  series_f = series[[name]].fillna(method='ffill').dropna()\n",
      "/mnt/c/Users/resha/Documents/Github/balancing_framework/fracdiff.py:187: FutureWarning: DataFrame.fillna with 'method' is deprecated and will raise in a future version. Use obj.ffill() or obj.bfill() instead.\n",
      "  series_f = series[[name]].fillna(method='ffill').dropna()\n",
      "/mnt/c/Users/resha/Documents/Github/balancing_framework/fracdiff.py:187: FutureWarning: DataFrame.fillna with 'method' is deprecated and will raise in a future version. Use obj.ffill() or obj.bfill() instead.\n",
      "  series_f = series[[name]].fillna(method='ffill').dropna()\n",
      "/mnt/c/Users/resha/Documents/Github/balancing_framework/fracdiff.py:187: FutureWarning: DataFrame.fillna with 'method' is deprecated and will raise in a future version. Use obj.ffill() or obj.bfill() instead.\n",
      "  series_f = series[[name]].fillna(method='ffill').dropna()\n"
     ]
    },
    {
     "name": "stdout",
     "output_type": "stream",
     "text": [
      "ema_864 stationary with d=0.9 stat windows =5 out of 9 p-values = [0.3755935487142083, 0.07256670672252054, 0.002466443754299974, 0.40119111831579113, 0.013022209038809898, 0.0007519305593330956, 0.4323853119238133, 0.003977218053215962, 0.03231863635997637]\n",
      "adx_288\n"
     ]
    },
    {
     "name": "stderr",
     "output_type": "stream",
     "text": [
      "/mnt/c/Users/resha/Documents/Github/balancing_framework/fracdiff.py:187: FutureWarning: DataFrame.fillna with 'method' is deprecated and will raise in a future version. Use obj.ffill() or obj.bfill() instead.\n",
      "  series_f = series[[name]].fillna(method='ffill').dropna()\n"
     ]
    },
    {
     "name": "stdout",
     "output_type": "stream",
     "text": [
      "adx_288 stationary with d=0.0 stat windows =9 out of 9 p-values = [0.0, 0.0, 0.0, 0.0, 0.0, 0.0, 0.0, 0.0, 3.720021580518554e-28]\n",
      "atr_288\n"
     ]
    },
    {
     "name": "stderr",
     "output_type": "stream",
     "text": [
      "/mnt/c/Users/resha/Documents/Github/balancing_framework/fracdiff.py:187: FutureWarning: DataFrame.fillna with 'method' is deprecated and will raise in a future version. Use obj.ffill() or obj.bfill() instead.\n",
      "  series_f = series[[name]].fillna(method='ffill').dropna()\n"
     ]
    },
    {
     "name": "stdout",
     "output_type": "stream",
     "text": [
      "atr_288 stationary with d=0.0 stat windows =9 out of 9 p-values = [1.168907041476066e-12, 1.040724063918561e-24, 0.000648576734201485, 5.908134624947511e-07, 6.222339616486863e-05, 0.00233857134340165, 0.03388625404797891, 3.8574919514172676e-05, 0.04532815527485337]\n",
      "bb_upper_288\n"
     ]
    },
    {
     "name": "stderr",
     "output_type": "stream",
     "text": [
      "/mnt/c/Users/resha/Documents/Github/balancing_framework/fracdiff.py:187: FutureWarning: DataFrame.fillna with 'method' is deprecated and will raise in a future version. Use obj.ffill() or obj.bfill() instead.\n",
      "  series_f = series[[name]].fillna(method='ffill').dropna()\n",
      "/mnt/c/Users/resha/Documents/Github/balancing_framework/fracdiff.py:187: FutureWarning: DataFrame.fillna with 'method' is deprecated and will raise in a future version. Use obj.ffill() or obj.bfill() instead.\n",
      "  series_f = series[[name]].fillna(method='ffill').dropna()\n",
      "/mnt/c/Users/resha/Documents/Github/balancing_framework/fracdiff.py:187: FutureWarning: DataFrame.fillna with 'method' is deprecated and will raise in a future version. Use obj.ffill() or obj.bfill() instead.\n",
      "  series_f = series[[name]].fillna(method='ffill').dropna()\n",
      "/mnt/c/Users/resha/Documents/Github/balancing_framework/fracdiff.py:187: FutureWarning: DataFrame.fillna with 'method' is deprecated and will raise in a future version. Use obj.ffill() or obj.bfill() instead.\n",
      "  series_f = series[[name]].fillna(method='ffill').dropna()\n",
      "/mnt/c/Users/resha/Documents/Github/balancing_framework/fracdiff.py:187: FutureWarning: DataFrame.fillna with 'method' is deprecated and will raise in a future version. Use obj.ffill() or obj.bfill() instead.\n",
      "  series_f = series[[name]].fillna(method='ffill').dropna()\n"
     ]
    },
    {
     "name": "stdout",
     "output_type": "stream",
     "text": [
      "bb_upper_288 stationary with d=0.2 stat windows =5 out of 9 p-values = [0.12589240828885556, 0.05979765193577537, 0.0013068829746885123, 0.30716957967352065, 0.010414756417096634, 0.0005275130864117925, 0.34596948207308953, 0.008002128597621524, 0.002903147275228641]\n",
      "bb_middle_288\n"
     ]
    },
    {
     "name": "stderr",
     "output_type": "stream",
     "text": [
      "/mnt/c/Users/resha/Documents/Github/balancing_framework/fracdiff.py:187: FutureWarning: DataFrame.fillna with 'method' is deprecated and will raise in a future version. Use obj.ffill() or obj.bfill() instead.\n",
      "  series_f = series[[name]].fillna(method='ffill').dropna()\n",
      "/mnt/c/Users/resha/Documents/Github/balancing_framework/fracdiff.py:187: FutureWarning: DataFrame.fillna with 'method' is deprecated and will raise in a future version. Use obj.ffill() or obj.bfill() instead.\n",
      "  series_f = series[[name]].fillna(method='ffill').dropna()\n",
      "/mnt/c/Users/resha/Documents/Github/balancing_framework/fracdiff.py:187: FutureWarning: DataFrame.fillna with 'method' is deprecated and will raise in a future version. Use obj.ffill() or obj.bfill() instead.\n",
      "  series_f = series[[name]].fillna(method='ffill').dropna()\n",
      "/mnt/c/Users/resha/Documents/Github/balancing_framework/fracdiff.py:187: FutureWarning: DataFrame.fillna with 'method' is deprecated and will raise in a future version. Use obj.ffill() or obj.bfill() instead.\n",
      "  series_f = series[[name]].fillna(method='ffill').dropna()\n",
      "/mnt/c/Users/resha/Documents/Github/balancing_framework/fracdiff.py:187: FutureWarning: DataFrame.fillna with 'method' is deprecated and will raise in a future version. Use obj.ffill() or obj.bfill() instead.\n",
      "  series_f = series[[name]].fillna(method='ffill').dropna()\n",
      "/mnt/c/Users/resha/Documents/Github/balancing_framework/fracdiff.py:187: FutureWarning: DataFrame.fillna with 'method' is deprecated and will raise in a future version. Use obj.ffill() or obj.bfill() instead.\n",
      "  series_f = series[[name]].fillna(method='ffill').dropna()\n"
     ]
    },
    {
     "name": "stdout",
     "output_type": "stream",
     "text": [
      "bb_middle_288 stationary with d=0.25 stat windows =7 out of 9 p-values = [0.03382013553223117, 0.021578679113307773, 9.365892212348872e-05, 0.1772883808601315, 0.001067892975591794, 2.1504700937123745e-05, 0.16375634871386074, 0.0003095529961795629, 0.008500878617020527]\n",
      "bb_lower_288\n"
     ]
    },
    {
     "name": "stderr",
     "output_type": "stream",
     "text": [
      "/mnt/c/Users/resha/Documents/Github/balancing_framework/fracdiff.py:187: FutureWarning: DataFrame.fillna with 'method' is deprecated and will raise in a future version. Use obj.ffill() or obj.bfill() instead.\n",
      "  series_f = series[[name]].fillna(method='ffill').dropna()\n",
      "/mnt/c/Users/resha/Documents/Github/balancing_framework/fracdiff.py:187: FutureWarning: DataFrame.fillna with 'method' is deprecated and will raise in a future version. Use obj.ffill() or obj.bfill() instead.\n",
      "  series_f = series[[name]].fillna(method='ffill').dropna()\n",
      "/mnt/c/Users/resha/Documents/Github/balancing_framework/fracdiff.py:187: FutureWarning: DataFrame.fillna with 'method' is deprecated and will raise in a future version. Use obj.ffill() or obj.bfill() instead.\n",
      "  series_f = series[[name]].fillna(method='ffill').dropna()\n",
      "/mnt/c/Users/resha/Documents/Github/balancing_framework/fracdiff.py:187: FutureWarning: DataFrame.fillna with 'method' is deprecated and will raise in a future version. Use obj.ffill() or obj.bfill() instead.\n",
      "  series_f = series[[name]].fillna(method='ffill').dropna()\n",
      "/mnt/c/Users/resha/Documents/Github/balancing_framework/fracdiff.py:187: FutureWarning: DataFrame.fillna with 'method' is deprecated and will raise in a future version. Use obj.ffill() or obj.bfill() instead.\n",
      "  series_f = series[[name]].fillna(method='ffill').dropna()\n"
     ]
    },
    {
     "name": "stdout",
     "output_type": "stream",
     "text": [
      "bb_lower_288 stationary with d=0.2 stat windows =5 out of 9 p-values = [0.17053951371991155, 0.07287017086541006, 0.0028570353448120803, 0.3290391269291524, 0.02184643753595188, 0.0009664496365937757, 0.38451378428787036, 0.009952504582951521, 0.008552867879716286]\n",
      "kc_upper_288\n"
     ]
    },
    {
     "name": "stderr",
     "output_type": "stream",
     "text": [
      "/mnt/c/Users/resha/Documents/Github/balancing_framework/fracdiff.py:187: FutureWarning: DataFrame.fillna with 'method' is deprecated and will raise in a future version. Use obj.ffill() or obj.bfill() instead.\n",
      "  series_f = series[[name]].fillna(method='ffill').dropna()\n",
      "/mnt/c/Users/resha/Documents/Github/balancing_framework/fracdiff.py:187: FutureWarning: DataFrame.fillna with 'method' is deprecated and will raise in a future version. Use obj.ffill() or obj.bfill() instead.\n",
      "  series_f = series[[name]].fillna(method='ffill').dropna()\n",
      "/mnt/c/Users/resha/Documents/Github/balancing_framework/fracdiff.py:187: FutureWarning: DataFrame.fillna with 'method' is deprecated and will raise in a future version. Use obj.ffill() or obj.bfill() instead.\n",
      "  series_f = series[[name]].fillna(method='ffill').dropna()\n",
      "/mnt/c/Users/resha/Documents/Github/balancing_framework/fracdiff.py:187: FutureWarning: DataFrame.fillna with 'method' is deprecated and will raise in a future version. Use obj.ffill() or obj.bfill() instead.\n",
      "  series_f = series[[name]].fillna(method='ffill').dropna()\n",
      "/mnt/c/Users/resha/Documents/Github/balancing_framework/fracdiff.py:187: FutureWarning: DataFrame.fillna with 'method' is deprecated and will raise in a future version. Use obj.ffill() or obj.bfill() instead.\n",
      "  series_f = series[[name]].fillna(method='ffill').dropna()\n"
     ]
    },
    {
     "name": "stdout",
     "output_type": "stream",
     "text": [
      "kc_upper_288 stationary with d=0.2 stat windows =6 out of 9 p-values = [0.11626716071891907, 0.0, 0.0017254687375433833, 0.2892343488543707, 0.012565891959448086, 0.00042057507079845907, 0.35017813808367626, 0.005267746678957967, 0.025414904063483127]\n",
      "kc_middle_288\n"
     ]
    },
    {
     "name": "stderr",
     "output_type": "stream",
     "text": [
      "/mnt/c/Users/resha/Documents/Github/balancing_framework/fracdiff.py:187: FutureWarning: DataFrame.fillna with 'method' is deprecated and will raise in a future version. Use obj.ffill() or obj.bfill() instead.\n",
      "  series_f = series[[name]].fillna(method='ffill').dropna()\n",
      "/mnt/c/Users/resha/Documents/Github/balancing_framework/fracdiff.py:187: FutureWarning: DataFrame.fillna with 'method' is deprecated and will raise in a future version. Use obj.ffill() or obj.bfill() instead.\n",
      "  series_f = series[[name]].fillna(method='ffill').dropna()\n",
      "/mnt/c/Users/resha/Documents/Github/balancing_framework/fracdiff.py:187: FutureWarning: DataFrame.fillna with 'method' is deprecated and will raise in a future version. Use obj.ffill() or obj.bfill() instead.\n",
      "  series_f = series[[name]].fillna(method='ffill').dropna()\n",
      "/mnt/c/Users/resha/Documents/Github/balancing_framework/fracdiff.py:187: FutureWarning: DataFrame.fillna with 'method' is deprecated and will raise in a future version. Use obj.ffill() or obj.bfill() instead.\n",
      "  series_f = series[[name]].fillna(method='ffill').dropna()\n",
      "/mnt/c/Users/resha/Documents/Github/balancing_framework/fracdiff.py:187: FutureWarning: DataFrame.fillna with 'method' is deprecated and will raise in a future version. Use obj.ffill() or obj.bfill() instead.\n",
      "  series_f = series[[name]].fillna(method='ffill').dropna()\n",
      "/mnt/c/Users/resha/Documents/Github/balancing_framework/fracdiff.py:187: FutureWarning: DataFrame.fillna with 'method' is deprecated and will raise in a future version. Use obj.ffill() or obj.bfill() instead.\n",
      "  series_f = series[[name]].fillna(method='ffill').dropna()\n"
     ]
    },
    {
     "name": "stdout",
     "output_type": "stream",
     "text": [
      "kc_middle_288 stationary with d=0.25 stat windows =7 out of 9 p-values = [0.0389394177226321, 0.03350031340575971, 8.554783745025503e-05, 0.2043838600406787, 0.004764668193985918, 7.007931578297582e-05, 0.26627020976912974, 0.00044216210639282306, 0.009842226572422194]\n",
      "kc_lower_288\n"
     ]
    },
    {
     "name": "stderr",
     "output_type": "stream",
     "text": [
      "/mnt/c/Users/resha/Documents/Github/balancing_framework/fracdiff.py:187: FutureWarning: DataFrame.fillna with 'method' is deprecated and will raise in a future version. Use obj.ffill() or obj.bfill() instead.\n",
      "  series_f = series[[name]].fillna(method='ffill').dropna()\n",
      "/mnt/c/Users/resha/Documents/Github/balancing_framework/fracdiff.py:187: FutureWarning: DataFrame.fillna with 'method' is deprecated and will raise in a future version. Use obj.ffill() or obj.bfill() instead.\n",
      "  series_f = series[[name]].fillna(method='ffill').dropna()\n",
      "/mnt/c/Users/resha/Documents/Github/balancing_framework/fracdiff.py:187: FutureWarning: DataFrame.fillna with 'method' is deprecated and will raise in a future version. Use obj.ffill() or obj.bfill() instead.\n",
      "  series_f = series[[name]].fillna(method='ffill').dropna()\n",
      "/mnt/c/Users/resha/Documents/Github/balancing_framework/fracdiff.py:187: FutureWarning: DataFrame.fillna with 'method' is deprecated and will raise in a future version. Use obj.ffill() or obj.bfill() instead.\n",
      "  series_f = series[[name]].fillna(method='ffill').dropna()\n",
      "/mnt/c/Users/resha/Documents/Github/balancing_framework/fracdiff.py:187: FutureWarning: DataFrame.fillna with 'method' is deprecated and will raise in a future version. Use obj.ffill() or obj.bfill() instead.\n",
      "  series_f = series[[name]].fillna(method='ffill').dropna()\n"
     ]
    },
    {
     "name": "stdout",
     "output_type": "stream",
     "text": [
      "kc_lower_288 stationary with d=0.2 stat windows =5 out of 9 p-values = [0.14302538851550517, 0.0, 0.004311204020554681, 0.3548595941186375, 0.033565845296407895, 0.0013298294660592754, 0.4482503386047292, 0.010508558045670639, 0.06051572832309638]\n",
      "donchian_upper_288\n"
     ]
    },
    {
     "name": "stderr",
     "output_type": "stream",
     "text": [
      "/mnt/c/Users/resha/Documents/Github/balancing_framework/fracdiff.py:187: FutureWarning: DataFrame.fillna with 'method' is deprecated and will raise in a future version. Use obj.ffill() or obj.bfill() instead.\n",
      "  series_f = series[[name]].fillna(method='ffill').dropna()\n",
      "/mnt/c/Users/resha/Documents/Github/balancing_framework/fracdiff.py:187: FutureWarning: DataFrame.fillna with 'method' is deprecated and will raise in a future version. Use obj.ffill() or obj.bfill() instead.\n",
      "  series_f = series[[name]].fillna(method='ffill').dropna()\n",
      "/mnt/c/Users/resha/Documents/Github/balancing_framework/fracdiff.py:187: FutureWarning: DataFrame.fillna with 'method' is deprecated and will raise in a future version. Use obj.ffill() or obj.bfill() instead.\n",
      "  series_f = series[[name]].fillna(method='ffill').dropna()\n",
      "/mnt/c/Users/resha/Documents/Github/balancing_framework/fracdiff.py:187: FutureWarning: DataFrame.fillna with 'method' is deprecated and will raise in a future version. Use obj.ffill() or obj.bfill() instead.\n",
      "  series_f = series[[name]].fillna(method='ffill').dropna()\n",
      "/mnt/c/Users/resha/Documents/Github/balancing_framework/fracdiff.py:187: FutureWarning: DataFrame.fillna with 'method' is deprecated and will raise in a future version. Use obj.ffill() or obj.bfill() instead.\n",
      "  series_f = series[[name]].fillna(method='ffill').dropna()\n"
     ]
    },
    {
     "name": "stdout",
     "output_type": "stream",
     "text": [
      "donchian_upper_288 stationary with d=0.2 stat windows =7 out of 9 p-values = [5.240569585743899e-10, 0.002661917324574207, 0.0031986655617969972, 0.3594663132822289, 0.007360868584218656, 0.0005960694618121188, 0.3840520875296262, 0.007704072660561833, 0.023181971104065665]\n",
      "donchian_middle_288\n"
     ]
    },
    {
     "name": "stderr",
     "output_type": "stream",
     "text": [
      "/mnt/c/Users/resha/Documents/Github/balancing_framework/fracdiff.py:187: FutureWarning: DataFrame.fillna with 'method' is deprecated and will raise in a future version. Use obj.ffill() or obj.bfill() instead.\n",
      "  series_f = series[[name]].fillna(method='ffill').dropna()\n",
      "/mnt/c/Users/resha/Documents/Github/balancing_framework/fracdiff.py:187: FutureWarning: DataFrame.fillna with 'method' is deprecated and will raise in a future version. Use obj.ffill() or obj.bfill() instead.\n",
      "  series_f = series[[name]].fillna(method='ffill').dropna()\n",
      "/mnt/c/Users/resha/Documents/Github/balancing_framework/fracdiff.py:187: FutureWarning: DataFrame.fillna with 'method' is deprecated and will raise in a future version. Use obj.ffill() or obj.bfill() instead.\n",
      "  series_f = series[[name]].fillna(method='ffill').dropna()\n",
      "/mnt/c/Users/resha/Documents/Github/balancing_framework/fracdiff.py:187: FutureWarning: DataFrame.fillna with 'method' is deprecated and will raise in a future version. Use obj.ffill() or obj.bfill() instead.\n",
      "  series_f = series[[name]].fillna(method='ffill').dropna()\n",
      "/mnt/c/Users/resha/Documents/Github/balancing_framework/fracdiff.py:187: FutureWarning: DataFrame.fillna with 'method' is deprecated and will raise in a future version. Use obj.ffill() or obj.bfill() instead.\n",
      "  series_f = series[[name]].fillna(method='ffill').dropna()\n"
     ]
    },
    {
     "name": "stdout",
     "output_type": "stream",
     "text": [
      "donchian_middle_288 stationary with d=0.2 stat windows =6 out of 9 p-values = [0.0006139166061594588, 0.0, 0.009094692505695305, 0.40047583128880254, 0.029381714091754395, 0.002941302329588056, 0.47453654980911364, 0.017000450047565882, 0.07046625594928498]\n",
      "donchian_lower_288\n"
     ]
    },
    {
     "name": "stderr",
     "output_type": "stream",
     "text": [
      "/mnt/c/Users/resha/Documents/Github/balancing_framework/fracdiff.py:187: FutureWarning: DataFrame.fillna with 'method' is deprecated and will raise in a future version. Use obj.ffill() or obj.bfill() instead.\n",
      "  series_f = series[[name]].fillna(method='ffill').dropna()\n",
      "/mnt/c/Users/resha/Documents/Github/balancing_framework/fracdiff.py:187: FutureWarning: DataFrame.fillna with 'method' is deprecated and will raise in a future version. Use obj.ffill() or obj.bfill() instead.\n",
      "  series_f = series[[name]].fillna(method='ffill').dropna()\n",
      "/mnt/c/Users/resha/Documents/Github/balancing_framework/fracdiff.py:187: FutureWarning: DataFrame.fillna with 'method' is deprecated and will raise in a future version. Use obj.ffill() or obj.bfill() instead.\n",
      "  series_f = series[[name]].fillna(method='ffill').dropna()\n",
      "/mnt/c/Users/resha/Documents/Github/balancing_framework/fracdiff.py:187: FutureWarning: DataFrame.fillna with 'method' is deprecated and will raise in a future version. Use obj.ffill() or obj.bfill() instead.\n",
      "  series_f = series[[name]].fillna(method='ffill').dropna()\n",
      "/mnt/c/Users/resha/Documents/Github/balancing_framework/fracdiff.py:187: FutureWarning: DataFrame.fillna with 'method' is deprecated and will raise in a future version. Use obj.ffill() or obj.bfill() instead.\n",
      "  series_f = series[[name]].fillna(method='ffill').dropna()\n"
     ]
    },
    {
     "name": "stdout",
     "output_type": "stream",
     "text": [
      "donchian_lower_288 stationary with d=0.2 stat windows =6 out of 9 p-values = [0.006386096214726529, 0.0, 0.005461624714822895, 0.4150994004439106, 0.05508163298148018, 0.002934437380736832, 0.473586473552856, 0.006912486326477506, 0.030804970205129067]\n",
      "obv_288\n"
     ]
    },
    {
     "name": "stderr",
     "output_type": "stream",
     "text": [
      "/mnt/c/Users/resha/Documents/Github/balancing_framework/fracdiff.py:187: FutureWarning: DataFrame.fillna with 'method' is deprecated and will raise in a future version. Use obj.ffill() or obj.bfill() instead.\n",
      "  series_f = series[[name]].fillna(method='ffill').dropna()\n",
      "/mnt/c/Users/resha/Documents/Github/balancing_framework/fracdiff.py:187: FutureWarning: DataFrame.fillna with 'method' is deprecated and will raise in a future version. Use obj.ffill() or obj.bfill() instead.\n",
      "  series_f = series[[name]].fillna(method='ffill').dropna()\n",
      "/mnt/c/Users/resha/Documents/Github/balancing_framework/fracdiff.py:187: FutureWarning: DataFrame.fillna with 'method' is deprecated and will raise in a future version. Use obj.ffill() or obj.bfill() instead.\n",
      "  series_f = series[[name]].fillna(method='ffill').dropna()\n",
      "/mnt/c/Users/resha/Documents/Github/balancing_framework/fracdiff.py:187: FutureWarning: DataFrame.fillna with 'method' is deprecated and will raise in a future version. Use obj.ffill() or obj.bfill() instead.\n",
      "  series_f = series[[name]].fillna(method='ffill').dropna()\n",
      "/mnt/c/Users/resha/Documents/Github/balancing_framework/fracdiff.py:187: FutureWarning: DataFrame.fillna with 'method' is deprecated and will raise in a future version. Use obj.ffill() or obj.bfill() instead.\n",
      "  series_f = series[[name]].fillna(method='ffill').dropna()\n",
      "/mnt/c/Users/resha/Documents/Github/balancing_framework/fracdiff.py:187: FutureWarning: DataFrame.fillna with 'method' is deprecated and will raise in a future version. Use obj.ffill() or obj.bfill() instead.\n",
      "  series_f = series[[name]].fillna(method='ffill').dropna()\n"
     ]
    },
    {
     "name": "stdout",
     "output_type": "stream",
     "text": [
      "obv_288 stationary with d=0.25 stat windows =6 out of 9 p-values = [5.8170095090515174e-06, 3.0358113596442226e-05, 0.013153696863006721, 0.13830932329250423, 0.41258027069111747, 0.014681440738641182, 0.01093742816936789, 0.5699566470467725, 0.0073240311323648985]\n",
      "cmf_288\n"
     ]
    },
    {
     "name": "stderr",
     "output_type": "stream",
     "text": [
      "/mnt/c/Users/resha/Documents/Github/balancing_framework/fracdiff.py:187: FutureWarning: DataFrame.fillna with 'method' is deprecated and will raise in a future version. Use obj.ffill() or obj.bfill() instead.\n",
      "  series_f = series[[name]].fillna(method='ffill').dropna()\n"
     ]
    },
    {
     "name": "stdout",
     "output_type": "stream",
     "text": [
      "cmf_288 stationary with d=0.0 stat windows =9 out of 9 p-values = [1.2373274937123997e-27, 1.1887654082193971e-27, 3.629085198000226e-23, 5.681238110344075e-23, 2.588506125925505e-25, 2.6886605987722187e-24, 4.69822668047971e-25, 4.6598744124876386e-23, 8.574538865518635e-05]\n",
      "mfi_288\n"
     ]
    },
    {
     "name": "stderr",
     "output_type": "stream",
     "text": [
      "/mnt/c/Users/resha/Documents/Github/balancing_framework/fracdiff.py:187: FutureWarning: DataFrame.fillna with 'method' is deprecated and will raise in a future version. Use obj.ffill() or obj.bfill() instead.\n",
      "  series_f = series[[name]].fillna(method='ffill').dropna()\n"
     ]
    },
    {
     "name": "stdout",
     "output_type": "stream",
     "text": [
      "mfi_288 stationary with d=0.0 stat windows =9 out of 9 p-values = [6.0458849053558005e-28, 1.1693688136948179e-26, 3.4341709193045385e-26, 2.931760998297151e-26, 4.8881254467454783e-26, 3.3180334034546633e-25, 1.5799842280643256e-26, 1.0540936188784816e-25, 6.764605149771302e-05]\n",
      "vwap_288\n"
     ]
    },
    {
     "name": "stderr",
     "output_type": "stream",
     "text": [
      "/mnt/c/Users/resha/Documents/Github/balancing_framework/fracdiff.py:187: FutureWarning: DataFrame.fillna with 'method' is deprecated and will raise in a future version. Use obj.ffill() or obj.bfill() instead.\n",
      "  series_f = series[[name]].fillna(method='ffill').dropna()\n",
      "/mnt/c/Users/resha/Documents/Github/balancing_framework/fracdiff.py:187: FutureWarning: DataFrame.fillna with 'method' is deprecated and will raise in a future version. Use obj.ffill() or obj.bfill() instead.\n",
      "  series_f = series[[name]].fillna(method='ffill').dropna()\n",
      "/mnt/c/Users/resha/Documents/Github/balancing_framework/fracdiff.py:187: FutureWarning: DataFrame.fillna with 'method' is deprecated and will raise in a future version. Use obj.ffill() or obj.bfill() instead.\n",
      "  series_f = series[[name]].fillna(method='ffill').dropna()\n",
      "/mnt/c/Users/resha/Documents/Github/balancing_framework/fracdiff.py:187: FutureWarning: DataFrame.fillna with 'method' is deprecated and will raise in a future version. Use obj.ffill() or obj.bfill() instead.\n",
      "  series_f = series[[name]].fillna(method='ffill').dropna()\n",
      "/mnt/c/Users/resha/Documents/Github/balancing_framework/fracdiff.py:187: FutureWarning: DataFrame.fillna with 'method' is deprecated and will raise in a future version. Use obj.ffill() or obj.bfill() instead.\n",
      "  series_f = series[[name]].fillna(method='ffill').dropna()\n"
     ]
    },
    {
     "name": "stdout",
     "output_type": "stream",
     "text": [
      "vwap_288 stationary with d=0.2 stat windows =5 out of 9 p-values = [0.18706610773503946, 0.024597106333005398, 0.01031574283624515, 0.4432791406839789, 0.042428300350355524, 0.00601570686364255, 0.5381878726570808, 0.033696158597376055, 0.05483844341665077]\n",
      "log_ret_288\n"
     ]
    },
    {
     "name": "stderr",
     "output_type": "stream",
     "text": [
      "/mnt/c/Users/resha/Documents/Github/balancing_framework/fracdiff.py:187: FutureWarning: DataFrame.fillna with 'method' is deprecated and will raise in a future version. Use obj.ffill() or obj.bfill() instead.\n",
      "  series_f = series[[name]].fillna(method='ffill').dropna()\n"
     ]
    },
    {
     "name": "stdout",
     "output_type": "stream",
     "text": [
      "log_ret_288 stationary with d=0.0 stat windows =9 out of 9 p-values = [0.0, 0.0, 0.0, 0.0, 0.0, 0.0, 0.0, 0.0, 0.0]\n",
      "std_288\n"
     ]
    },
    {
     "name": "stderr",
     "output_type": "stream",
     "text": [
      "/mnt/c/Users/resha/Documents/Github/balancing_framework/fracdiff.py:187: FutureWarning: DataFrame.fillna with 'method' is deprecated and will raise in a future version. Use obj.ffill() or obj.bfill() instead.\n",
      "  series_f = series[[name]].fillna(method='ffill').dropna()\n"
     ]
    },
    {
     "name": "stdout",
     "output_type": "stream",
     "text": [
      "std_288 stationary with d=0.0 stat windows =9 out of 9 p-values = [0.0, 2.8907395459155614e-25, 5.1919992868970425e-28, 8.114621367565703e-30, 2.7989389004137995e-25, 7.112708275260646e-24, 2.6060030094696767e-23, 4.267337688772561e-30, 3.5808154292176055e-11]\n",
      "zscore_288\n"
     ]
    },
    {
     "name": "stderr",
     "output_type": "stream",
     "text": [
      "/mnt/c/Users/resha/Documents/Github/balancing_framework/fracdiff.py:187: FutureWarning: DataFrame.fillna with 'method' is deprecated and will raise in a future version. Use obj.ffill() or obj.bfill() instead.\n",
      "  series_f = series[[name]].fillna(method='ffill').dropna()\n"
     ]
    },
    {
     "name": "stdout",
     "output_type": "stream",
     "text": [
      "zscore_288 stationary with d=0.0 stat windows =9 out of 9 p-values = [0.0, 0.0, 0.0, 0.0, 0.0, 0.0, 0.0, 0.0, 1.952811447076538e-08]\n",
      "delta_close_288\n"
     ]
    },
    {
     "name": "stderr",
     "output_type": "stream",
     "text": [
      "/mnt/c/Users/resha/Documents/Github/balancing_framework/fracdiff.py:187: FutureWarning: DataFrame.fillna with 'method' is deprecated and will raise in a future version. Use obj.ffill() or obj.bfill() instead.\n",
      "  series_f = series[[name]].fillna(method='ffill').dropna()\n"
     ]
    },
    {
     "name": "stdout",
     "output_type": "stream",
     "text": [
      "delta_close_288 stationary with d=0.0 stat windows =9 out of 9 p-values = [0.0, 0.0, 0.0, 0.0, 0.0, 0.0, 0.0, 0.0, 6.19024848302217e-30]\n",
      "delta_high_288\n"
     ]
    },
    {
     "name": "stderr",
     "output_type": "stream",
     "text": [
      "/mnt/c/Users/resha/Documents/Github/balancing_framework/fracdiff.py:187: FutureWarning: DataFrame.fillna with 'method' is deprecated and will raise in a future version. Use obj.ffill() or obj.bfill() instead.\n",
      "  series_f = series[[name]].fillna(method='ffill').dropna()\n"
     ]
    },
    {
     "name": "stdout",
     "output_type": "stream",
     "text": [
      "delta_high_288 stationary with d=0.0 stat windows =9 out of 9 p-values = [0.0, 0.0, 0.0, 0.0, 0.0, 0.0, 0.0, 0.0, 0.0]\n",
      "delta_low_288\n"
     ]
    },
    {
     "name": "stderr",
     "output_type": "stream",
     "text": [
      "/mnt/c/Users/resha/Documents/Github/balancing_framework/fracdiff.py:187: FutureWarning: DataFrame.fillna with 'method' is deprecated and will raise in a future version. Use obj.ffill() or obj.bfill() instead.\n",
      "  series_f = series[[name]].fillna(method='ffill').dropna()\n"
     ]
    },
    {
     "name": "stdout",
     "output_type": "stream",
     "text": [
      "delta_low_288 stationary with d=0.0 stat windows =9 out of 9 p-values = [0.0, 0.0, 0.0, 0.0, 0.0, 0.0, 0.0, 0.0, 0.0]\n",
      "macd_diff_288\n"
     ]
    },
    {
     "name": "stderr",
     "output_type": "stream",
     "text": [
      "/mnt/c/Users/resha/Documents/Github/balancing_framework/fracdiff.py:187: FutureWarning: DataFrame.fillna with 'method' is deprecated and will raise in a future version. Use obj.ffill() or obj.bfill() instead.\n",
      "  series_f = series[[name]].fillna(method='ffill').dropna()\n"
     ]
    },
    {
     "name": "stdout",
     "output_type": "stream",
     "text": [
      "macd_diff_288 stationary with d=0.0 stat windows =9 out of 9 p-values = [0.0, 0.0, 0.0, 0.0, 0.0, 0.0, 0.0, 0.0, 5.266126938402882e-26]\n",
      "close_over_sma_288\n"
     ]
    },
    {
     "name": "stderr",
     "output_type": "stream",
     "text": [
      "/mnt/c/Users/resha/Documents/Github/balancing_framework/fracdiff.py:187: FutureWarning: DataFrame.fillna with 'method' is deprecated and will raise in a future version. Use obj.ffill() or obj.bfill() instead.\n",
      "  series_f = series[[name]].fillna(method='ffill').dropna()\n"
     ]
    },
    {
     "name": "stdout",
     "output_type": "stream",
     "text": [
      "close_over_sma_288 stationary with d=0.0 stat windows =9 out of 9 p-values = [1.252983432580987e-29, 4.8395808688664946e-30, 5.6403689355828615e-30, 1.14895149167949e-29, 3.1433052277384584e-30, 3.504513887774413e-30, 3.1113006173811333e-30, 2.6749607056949217e-29, 1.0449805777982584e-05]\n",
      "volatility_ratio_288\n"
     ]
    },
    {
     "name": "stderr",
     "output_type": "stream",
     "text": [
      "/mnt/c/Users/resha/Documents/Github/balancing_framework/fracdiff.py:187: FutureWarning: DataFrame.fillna with 'method' is deprecated and will raise in a future version. Use obj.ffill() or obj.bfill() instead.\n",
      "  series_f = series[[name]].fillna(method='ffill').dropna()\n"
     ]
    },
    {
     "name": "stdout",
     "output_type": "stream",
     "text": [
      "volatility_ratio_288 stationary with d=0.0 stat windows =7 out of 9 p-values = [6.646176839847797e-12, 1.9537075649008464e-24, 0.00095320724770512, 4.005551542830383e-07, 0.00024059377812930705, 0.0021274818627959966, 0.10279773513346868, 9.142734145128297e-05, 0.06299232941251422]\n",
      "racc_close_288\n"
     ]
    },
    {
     "name": "stderr",
     "output_type": "stream",
     "text": [
      "/mnt/c/Users/resha/Documents/Github/balancing_framework/fracdiff.py:187: FutureWarning: DataFrame.fillna with 'method' is deprecated and will raise in a future version. Use obj.ffill() or obj.bfill() instead.\n",
      "  series_f = series[[name]].fillna(method='ffill').dropna()\n"
     ]
    },
    {
     "name": "stdout",
     "output_type": "stream",
     "text": [
      "racc_close_288 stationary with d=0.0 stat windows =9 out of 9 p-values = [6.25630884768064e-14, 5.749482206009013e-09, 3.2792288919011466e-12, 2.5107504805779756e-20, 2.470314243647839e-13, 6.685378509959984e-08, 1.0792811776329143e-05, 6.974860898138557e-12, 0.009152245564987256]\n",
      "racc_close_576\n"
     ]
    },
    {
     "name": "stderr",
     "output_type": "stream",
     "text": [
      "/mnt/c/Users/resha/Documents/Github/balancing_framework/fracdiff.py:187: FutureWarning: DataFrame.fillna with 'method' is deprecated and will raise in a future version. Use obj.ffill() or obj.bfill() instead.\n",
      "  series_f = series[[name]].fillna(method='ffill').dropna()\n"
     ]
    },
    {
     "name": "stdout",
     "output_type": "stream",
     "text": [
      "racc_close_576 stationary with d=0.0 stat windows =8 out of 9 p-values = [2.126585101839676e-06, 0.0004554769945797221, 1.6930409786166164e-05, 1.916882104231759e-11, 2.2310797675875797e-06, 0.0010787538425014625, 0.03303584258451794, 0.0027535538828412664, 0.4012402031103486]\n",
      "racc_close_864\n"
     ]
    },
    {
     "name": "stderr",
     "output_type": "stream",
     "text": [
      "/mnt/c/Users/resha/Documents/Github/balancing_framework/fracdiff.py:187: FutureWarning: DataFrame.fillna with 'method' is deprecated and will raise in a future version. Use obj.ffill() or obj.bfill() instead.\n",
      "  series_f = series[[name]].fillna(method='ffill').dropna()\n"
     ]
    },
    {
     "name": "stdout",
     "output_type": "stream",
     "text": [
      "racc_close_864 stationary with d=0.0 stat windows =7 out of 9 p-values = [0.0009501804769233114, 0.025914526889876825, 0.0018262009338894502, 1.5238250220950925e-07, 0.0005446135651777096, 0.029294762776874386, 0.13175666718351903, 0.017292085535559994, 0.5493942574027397]\n",
      "aqr_momo_close_288\n"
     ]
    },
    {
     "name": "stderr",
     "output_type": "stream",
     "text": [
      "/mnt/c/Users/resha/Documents/Github/balancing_framework/fracdiff.py:187: FutureWarning: DataFrame.fillna with 'method' is deprecated and will raise in a future version. Use obj.ffill() or obj.bfill() instead.\n",
      "  series_f = series[[name]].fillna(method='ffill').dropna()\n"
     ]
    },
    {
     "name": "stdout",
     "output_type": "stream",
     "text": [
      "aqr_momo_close_288 stationary with d=0.0 stat windows =9 out of 9 p-values = [0.0, 0.0, 0.0, 0.0, 0.0, 0.0, 0.0, 0.0, 3.259784435894171e-22]\n",
      "aqr_momo_close_576\n"
     ]
    },
    {
     "name": "stderr",
     "output_type": "stream",
     "text": [
      "/mnt/c/Users/resha/Documents/Github/balancing_framework/fracdiff.py:187: FutureWarning: DataFrame.fillna with 'method' is deprecated and will raise in a future version. Use obj.ffill() or obj.bfill() instead.\n",
      "  series_f = series[[name]].fillna(method='ffill').dropna()\n"
     ]
    },
    {
     "name": "stdout",
     "output_type": "stream",
     "text": [
      "aqr_momo_close_576 stationary with d=0.0 stat windows =9 out of 9 p-values = [0.0, 0.0, 0.0, 0.0, 0.0, 0.0, 0.0, 0.0, 2.7954460451836813e-10]\n",
      "aqr_momo_close_864\n"
     ]
    },
    {
     "name": "stderr",
     "output_type": "stream",
     "text": [
      "/mnt/c/Users/resha/Documents/Github/balancing_framework/fracdiff.py:187: FutureWarning: DataFrame.fillna with 'method' is deprecated and will raise in a future version. Use obj.ffill() or obj.bfill() instead.\n",
      "  series_f = series[[name]].fillna(method='ffill').dropna()\n"
     ]
    },
    {
     "name": "stdout",
     "output_type": "stream",
     "text": [
      "aqr_momo_close_864 stationary with d=0.0 stat windows =9 out of 9 p-values = [0.0, 0.0, 2.0315513583914275e-30, 2.1711316450675277e-30, 0.0, 0.0, 0.0, 0.0, 5.129606303488912e-07]\n",
      "rsi_2880\n"
     ]
    },
    {
     "name": "stderr",
     "output_type": "stream",
     "text": [
      "/mnt/c/Users/resha/Documents/Github/balancing_framework/fracdiff.py:187: FutureWarning: DataFrame.fillna with 'method' is deprecated and will raise in a future version. Use obj.ffill() or obj.bfill() instead.\n",
      "  series_f = series[[name]].fillna(method='ffill').dropna()\n"
     ]
    },
    {
     "name": "stdout",
     "output_type": "stream",
     "text": [
      "rsi_2880 stationary with d=0.0 stat windows =8 out of 9 p-values = [1.884635838017212e-06, 6.82713577018592e-05, 0.00010010584320417047, 3.505039700323321e-06, 1.1353017443652208e-05, 0.000373901571659206, 1.019009285313503e-05, 0.0012284400144311285, 0.6731219490404327]\n",
      "stoch_k_14_3_3_2880\n"
     ]
    },
    {
     "name": "stderr",
     "output_type": "stream",
     "text": [
      "/mnt/c/Users/resha/Documents/Github/balancing_framework/fracdiff.py:187: FutureWarning: DataFrame.fillna with 'method' is deprecated and will raise in a future version. Use obj.ffill() or obj.bfill() instead.\n",
      "  series_f = series[[name]].fillna(method='ffill').dropna()\n"
     ]
    },
    {
     "name": "stdout",
     "output_type": "stream",
     "text": [
      "stoch_k_14_3_3_2880 stationary with d=0.0 stat windows =9 out of 9 p-values = [0.0, 0.0, 0.0, 0.0, 0.0, 0.0, 0.0, 0.0, 2.120400416633594e-24]\n",
      "stoch_d_14_3_3_2880\n"
     ]
    },
    {
     "name": "stderr",
     "output_type": "stream",
     "text": [
      "/mnt/c/Users/resha/Documents/Github/balancing_framework/fracdiff.py:187: FutureWarning: DataFrame.fillna with 'method' is deprecated and will raise in a future version. Use obj.ffill() or obj.bfill() instead.\n",
      "  series_f = series[[name]].fillna(method='ffill').dropna()\n"
     ]
    },
    {
     "name": "stdout",
     "output_type": "stream",
     "text": [
      "stoch_d_14_3_3_2880 stationary with d=0.0 stat windows =9 out of 9 p-values = [0.0, 0.0, 0.0, 0.0, 0.0, 0.0, 0.0, 0.0, 3.510974084065284e-24]\n",
      "ao_2880\n"
     ]
    },
    {
     "name": "stderr",
     "output_type": "stream",
     "text": [
      "/mnt/c/Users/resha/Documents/Github/balancing_framework/fracdiff.py:187: FutureWarning: DataFrame.fillna with 'method' is deprecated and will raise in a future version. Use obj.ffill() or obj.bfill() instead.\n",
      "  series_f = series[[name]].fillna(method='ffill').dropna()\n"
     ]
    },
    {
     "name": "stdout",
     "output_type": "stream",
     "text": [
      "ao_2880 stationary with d=0.0 stat windows =9 out of 9 p-values = [0.0, 0.0, 0.0, 0.0, 0.0, 0.0, 0.0, 0.0, 1.0938602273230846e-20]\n",
      "macd_2880\n"
     ]
    },
    {
     "name": "stderr",
     "output_type": "stream",
     "text": [
      "/mnt/c/Users/resha/Documents/Github/balancing_framework/fracdiff.py:187: FutureWarning: DataFrame.fillna with 'method' is deprecated and will raise in a future version. Use obj.ffill() or obj.bfill() instead.\n",
      "  series_f = series[[name]].fillna(method='ffill').dropna()\n"
     ]
    },
    {
     "name": "stdout",
     "output_type": "stream",
     "text": [
      "macd_2880 stationary with d=0.0 stat windows =9 out of 9 p-values = [0.0, 0.0, 0.0, 0.0, 0.0, 0.0, 0.0, 0.0, 2.550868547277756e-20]\n",
      "macd_signal_2880\n"
     ]
    },
    {
     "name": "stderr",
     "output_type": "stream",
     "text": [
      "/mnt/c/Users/resha/Documents/Github/balancing_framework/fracdiff.py:187: FutureWarning: DataFrame.fillna with 'method' is deprecated and will raise in a future version. Use obj.ffill() or obj.bfill() instead.\n",
      "  series_f = series[[name]].fillna(method='ffill').dropna()\n"
     ]
    },
    {
     "name": "stdout",
     "output_type": "stream",
     "text": [
      "macd_signal_2880 stationary with d=0.0 stat windows =9 out of 9 p-values = [0.0, 0.0, 0.0, 0.0, 0.0, 0.0, 0.0, 0.0, 0.0]\n",
      "ppo_2880\n"
     ]
    },
    {
     "name": "stderr",
     "output_type": "stream",
     "text": [
      "/mnt/c/Users/resha/Documents/Github/balancing_framework/fracdiff.py:187: FutureWarning: DataFrame.fillna with 'method' is deprecated and will raise in a future version. Use obj.ffill() or obj.bfill() instead.\n",
      "  series_f = series[[name]].fillna(method='ffill').dropna()\n"
     ]
    },
    {
     "name": "stdout",
     "output_type": "stream",
     "text": [
      "ppo_2880 stationary with d=0.0 stat windows =9 out of 9 p-values = [0.0, 0.0, 0.0, 0.0, 0.0, 0.0, 0.0, 0.0, 7.45795657122292e-23]\n",
      "sma_2880\n"
     ]
    },
    {
     "name": "stderr",
     "output_type": "stream",
     "text": [
      "/mnt/c/Users/resha/Documents/Github/balancing_framework/fracdiff.py:187: FutureWarning: DataFrame.fillna with 'method' is deprecated and will raise in a future version. Use obj.ffill() or obj.bfill() instead.\n",
      "  series_f = series[[name]].fillna(method='ffill').dropna()\n",
      "/mnt/c/Users/resha/Documents/Github/balancing_framework/fracdiff.py:187: FutureWarning: DataFrame.fillna with 'method' is deprecated and will raise in a future version. Use obj.ffill() or obj.bfill() instead.\n",
      "  series_f = series[[name]].fillna(method='ffill').dropna()\n",
      "/mnt/c/Users/resha/Documents/Github/balancing_framework/fracdiff.py:187: FutureWarning: DataFrame.fillna with 'method' is deprecated and will raise in a future version. Use obj.ffill() or obj.bfill() instead.\n",
      "  series_f = series[[name]].fillna(method='ffill').dropna()\n",
      "/mnt/c/Users/resha/Documents/Github/balancing_framework/fracdiff.py:187: FutureWarning: DataFrame.fillna with 'method' is deprecated and will raise in a future version. Use obj.ffill() or obj.bfill() instead.\n",
      "  series_f = series[[name]].fillna(method='ffill').dropna()\n",
      "/mnt/c/Users/resha/Documents/Github/balancing_framework/fracdiff.py:187: FutureWarning: DataFrame.fillna with 'method' is deprecated and will raise in a future version. Use obj.ffill() or obj.bfill() instead.\n",
      "  series_f = series[[name]].fillna(method='ffill').dropna()\n",
      "/mnt/c/Users/resha/Documents/Github/balancing_framework/fracdiff.py:187: FutureWarning: DataFrame.fillna with 'method' is deprecated and will raise in a future version. Use obj.ffill() or obj.bfill() instead.\n",
      "  series_f = series[[name]].fillna(method='ffill').dropna()\n",
      "/mnt/c/Users/resha/Documents/Github/balancing_framework/fracdiff.py:187: FutureWarning: DataFrame.fillna with 'method' is deprecated and will raise in a future version. Use obj.ffill() or obj.bfill() instead.\n",
      "  series_f = series[[name]].fillna(method='ffill').dropna()\n",
      "/mnt/c/Users/resha/Documents/Github/balancing_framework/fracdiff.py:187: FutureWarning: DataFrame.fillna with 'method' is deprecated and will raise in a future version. Use obj.ffill() or obj.bfill() instead.\n",
      "  series_f = series[[name]].fillna(method='ffill').dropna()\n",
      "/mnt/c/Users/resha/Documents/Github/balancing_framework/fracdiff.py:187: FutureWarning: DataFrame.fillna with 'method' is deprecated and will raise in a future version. Use obj.ffill() or obj.bfill() instead.\n",
      "  series_f = series[[name]].fillna(method='ffill').dropna()\n",
      "/mnt/c/Users/resha/Documents/Github/balancing_framework/fracdiff.py:187: FutureWarning: DataFrame.fillna with 'method' is deprecated and will raise in a future version. Use obj.ffill() or obj.bfill() instead.\n",
      "  series_f = series[[name]].fillna(method='ffill').dropna()\n",
      "/mnt/c/Users/resha/Documents/Github/balancing_framework/fracdiff.py:187: FutureWarning: DataFrame.fillna with 'method' is deprecated and will raise in a future version. Use obj.ffill() or obj.bfill() instead.\n",
      "  series_f = series[[name]].fillna(method='ffill').dropna()\n",
      "/mnt/c/Users/resha/Documents/Github/balancing_framework/fracdiff.py:187: FutureWarning: DataFrame.fillna with 'method' is deprecated and will raise in a future version. Use obj.ffill() or obj.bfill() instead.\n",
      "  series_f = series[[name]].fillna(method='ffill').dropna()\n",
      "/mnt/c/Users/resha/Documents/Github/balancing_framework/fracdiff.py:187: FutureWarning: DataFrame.fillna with 'method' is deprecated and will raise in a future version. Use obj.ffill() or obj.bfill() instead.\n",
      "  series_f = series[[name]].fillna(method='ffill').dropna()\n",
      "/mnt/c/Users/resha/Documents/Github/balancing_framework/fracdiff.py:187: FutureWarning: DataFrame.fillna with 'method' is deprecated and will raise in a future version. Use obj.ffill() or obj.bfill() instead.\n",
      "  series_f = series[[name]].fillna(method='ffill').dropna()\n",
      "/mnt/c/Users/resha/Documents/Github/balancing_framework/fracdiff.py:187: FutureWarning: DataFrame.fillna with 'method' is deprecated and will raise in a future version. Use obj.ffill() or obj.bfill() instead.\n",
      "  series_f = series[[name]].fillna(method='ffill').dropna()\n",
      "/mnt/c/Users/resha/Documents/Github/balancing_framework/fracdiff.py:187: FutureWarning: DataFrame.fillna with 'method' is deprecated and will raise in a future version. Use obj.ffill() or obj.bfill() instead.\n",
      "  series_f = series[[name]].fillna(method='ffill').dropna()\n",
      "/mnt/c/Users/resha/Documents/Github/balancing_framework/fracdiff.py:187: FutureWarning: DataFrame.fillna with 'method' is deprecated and will raise in a future version. Use obj.ffill() or obj.bfill() instead.\n",
      "  series_f = series[[name]].fillna(method='ffill').dropna()\n",
      "/mnt/c/Users/resha/Documents/Github/balancing_framework/fracdiff.py:187: FutureWarning: DataFrame.fillna with 'method' is deprecated and will raise in a future version. Use obj.ffill() or obj.bfill() instead.\n",
      "  series_f = series[[name]].fillna(method='ffill').dropna()\n",
      "/mnt/c/Users/resha/Documents/Github/balancing_framework/fracdiff.py:187: FutureWarning: DataFrame.fillna with 'method' is deprecated and will raise in a future version. Use obj.ffill() or obj.bfill() instead.\n",
      "  series_f = series[[name]].fillna(method='ffill').dropna()\n",
      "/mnt/c/Users/resha/Documents/Github/balancing_framework/fracdiff.py:187: FutureWarning: DataFrame.fillna with 'method' is deprecated and will raise in a future version. Use obj.ffill() or obj.bfill() instead.\n",
      "  series_f = series[[name]].fillna(method='ffill').dropna()\n"
     ]
    },
    {
     "name": "stdout",
     "output_type": "stream",
     "text": [
      "ema_2880\n"
     ]
    },
    {
     "name": "stderr",
     "output_type": "stream",
     "text": [
      "/mnt/c/Users/resha/Documents/Github/balancing_framework/fracdiff.py:187: FutureWarning: DataFrame.fillna with 'method' is deprecated and will raise in a future version. Use obj.ffill() or obj.bfill() instead.\n",
      "  series_f = series[[name]].fillna(method='ffill').dropna()\n",
      "/mnt/c/Users/resha/Documents/Github/balancing_framework/fracdiff.py:187: FutureWarning: DataFrame.fillna with 'method' is deprecated and will raise in a future version. Use obj.ffill() or obj.bfill() instead.\n",
      "  series_f = series[[name]].fillna(method='ffill').dropna()\n",
      "/mnt/c/Users/resha/Documents/Github/balancing_framework/fracdiff.py:187: FutureWarning: DataFrame.fillna with 'method' is deprecated and will raise in a future version. Use obj.ffill() or obj.bfill() instead.\n",
      "  series_f = series[[name]].fillna(method='ffill').dropna()\n",
      "/mnt/c/Users/resha/Documents/Github/balancing_framework/fracdiff.py:187: FutureWarning: DataFrame.fillna with 'method' is deprecated and will raise in a future version. Use obj.ffill() or obj.bfill() instead.\n",
      "  series_f = series[[name]].fillna(method='ffill').dropna()\n",
      "/mnt/c/Users/resha/Documents/Github/balancing_framework/fracdiff.py:187: FutureWarning: DataFrame.fillna with 'method' is deprecated and will raise in a future version. Use obj.ffill() or obj.bfill() instead.\n",
      "  series_f = series[[name]].fillna(method='ffill').dropna()\n",
      "/mnt/c/Users/resha/Documents/Github/balancing_framework/fracdiff.py:187: FutureWarning: DataFrame.fillna with 'method' is deprecated and will raise in a future version. Use obj.ffill() or obj.bfill() instead.\n",
      "  series_f = series[[name]].fillna(method='ffill').dropna()\n",
      "/mnt/c/Users/resha/Documents/Github/balancing_framework/fracdiff.py:187: FutureWarning: DataFrame.fillna with 'method' is deprecated and will raise in a future version. Use obj.ffill() or obj.bfill() instead.\n",
      "  series_f = series[[name]].fillna(method='ffill').dropna()\n",
      "/mnt/c/Users/resha/Documents/Github/balancing_framework/fracdiff.py:187: FutureWarning: DataFrame.fillna with 'method' is deprecated and will raise in a future version. Use obj.ffill() or obj.bfill() instead.\n",
      "  series_f = series[[name]].fillna(method='ffill').dropna()\n",
      "/mnt/c/Users/resha/Documents/Github/balancing_framework/fracdiff.py:187: FutureWarning: DataFrame.fillna with 'method' is deprecated and will raise in a future version. Use obj.ffill() or obj.bfill() instead.\n",
      "  series_f = series[[name]].fillna(method='ffill').dropna()\n",
      "/mnt/c/Users/resha/Documents/Github/balancing_framework/fracdiff.py:187: FutureWarning: DataFrame.fillna with 'method' is deprecated and will raise in a future version. Use obj.ffill() or obj.bfill() instead.\n",
      "  series_f = series[[name]].fillna(method='ffill').dropna()\n",
      "/mnt/c/Users/resha/Documents/Github/balancing_framework/fracdiff.py:187: FutureWarning: DataFrame.fillna with 'method' is deprecated and will raise in a future version. Use obj.ffill() or obj.bfill() instead.\n",
      "  series_f = series[[name]].fillna(method='ffill').dropna()\n",
      "/mnt/c/Users/resha/Documents/Github/balancing_framework/fracdiff.py:187: FutureWarning: DataFrame.fillna with 'method' is deprecated and will raise in a future version. Use obj.ffill() or obj.bfill() instead.\n",
      "  series_f = series[[name]].fillna(method='ffill').dropna()\n",
      "/mnt/c/Users/resha/Documents/Github/balancing_framework/fracdiff.py:187: FutureWarning: DataFrame.fillna with 'method' is deprecated and will raise in a future version. Use obj.ffill() or obj.bfill() instead.\n",
      "  series_f = series[[name]].fillna(method='ffill').dropna()\n",
      "/mnt/c/Users/resha/Documents/Github/balancing_framework/fracdiff.py:187: FutureWarning: DataFrame.fillna with 'method' is deprecated and will raise in a future version. Use obj.ffill() or obj.bfill() instead.\n",
      "  series_f = series[[name]].fillna(method='ffill').dropna()\n",
      "/mnt/c/Users/resha/Documents/Github/balancing_framework/fracdiff.py:187: FutureWarning: DataFrame.fillna with 'method' is deprecated and will raise in a future version. Use obj.ffill() or obj.bfill() instead.\n",
      "  series_f = series[[name]].fillna(method='ffill').dropna()\n",
      "/mnt/c/Users/resha/Documents/Github/balancing_framework/fracdiff.py:187: FutureWarning: DataFrame.fillna with 'method' is deprecated and will raise in a future version. Use obj.ffill() or obj.bfill() instead.\n",
      "  series_f = series[[name]].fillna(method='ffill').dropna()\n",
      "/mnt/c/Users/resha/Documents/Github/balancing_framework/fracdiff.py:187: FutureWarning: DataFrame.fillna with 'method' is deprecated and will raise in a future version. Use obj.ffill() or obj.bfill() instead.\n",
      "  series_f = series[[name]].fillna(method='ffill').dropna()\n",
      "/mnt/c/Users/resha/Documents/Github/balancing_framework/fracdiff.py:187: FutureWarning: DataFrame.fillna with 'method' is deprecated and will raise in a future version. Use obj.ffill() or obj.bfill() instead.\n",
      "  series_f = series[[name]].fillna(method='ffill').dropna()\n",
      "/mnt/c/Users/resha/Documents/Github/balancing_framework/fracdiff.py:187: FutureWarning: DataFrame.fillna with 'method' is deprecated and will raise in a future version. Use obj.ffill() or obj.bfill() instead.\n",
      "  series_f = series[[name]].fillna(method='ffill').dropna()\n",
      "/mnt/c/Users/resha/Documents/Github/balancing_framework/fracdiff.py:187: FutureWarning: DataFrame.fillna with 'method' is deprecated and will raise in a future version. Use obj.ffill() or obj.bfill() instead.\n",
      "  series_f = series[[name]].fillna(method='ffill').dropna()\n"
     ]
    },
    {
     "name": "stdout",
     "output_type": "stream",
     "text": [
      "ema_8640\n"
     ]
    },
    {
     "name": "stderr",
     "output_type": "stream",
     "text": [
      "/mnt/c/Users/resha/Documents/Github/balancing_framework/fracdiff.py:187: FutureWarning: DataFrame.fillna with 'method' is deprecated and will raise in a future version. Use obj.ffill() or obj.bfill() instead.\n",
      "  series_f = series[[name]].fillna(method='ffill').dropna()\n",
      "/mnt/c/Users/resha/Documents/Github/balancing_framework/fracdiff.py:187: FutureWarning: DataFrame.fillna with 'method' is deprecated and will raise in a future version. Use obj.ffill() or obj.bfill() instead.\n",
      "  series_f = series[[name]].fillna(method='ffill').dropna()\n",
      "/mnt/c/Users/resha/Documents/Github/balancing_framework/fracdiff.py:187: FutureWarning: DataFrame.fillna with 'method' is deprecated and will raise in a future version. Use obj.ffill() or obj.bfill() instead.\n",
      "  series_f = series[[name]].fillna(method='ffill').dropna()\n",
      "/mnt/c/Users/resha/Documents/Github/balancing_framework/fracdiff.py:187: FutureWarning: DataFrame.fillna with 'method' is deprecated and will raise in a future version. Use obj.ffill() or obj.bfill() instead.\n",
      "  series_f = series[[name]].fillna(method='ffill').dropna()\n",
      "/mnt/c/Users/resha/Documents/Github/balancing_framework/fracdiff.py:187: FutureWarning: DataFrame.fillna with 'method' is deprecated and will raise in a future version. Use obj.ffill() or obj.bfill() instead.\n",
      "  series_f = series[[name]].fillna(method='ffill').dropna()\n",
      "/mnt/c/Users/resha/Documents/Github/balancing_framework/fracdiff.py:187: FutureWarning: DataFrame.fillna with 'method' is deprecated and will raise in a future version. Use obj.ffill() or obj.bfill() instead.\n",
      "  series_f = series[[name]].fillna(method='ffill').dropna()\n",
      "/mnt/c/Users/resha/Documents/Github/balancing_framework/fracdiff.py:187: FutureWarning: DataFrame.fillna with 'method' is deprecated and will raise in a future version. Use obj.ffill() or obj.bfill() instead.\n",
      "  series_f = series[[name]].fillna(method='ffill').dropna()\n",
      "/mnt/c/Users/resha/Documents/Github/balancing_framework/fracdiff.py:187: FutureWarning: DataFrame.fillna with 'method' is deprecated and will raise in a future version. Use obj.ffill() or obj.bfill() instead.\n",
      "  series_f = series[[name]].fillna(method='ffill').dropna()\n",
      "/mnt/c/Users/resha/Documents/Github/balancing_framework/fracdiff.py:187: FutureWarning: DataFrame.fillna with 'method' is deprecated and will raise in a future version. Use obj.ffill() or obj.bfill() instead.\n",
      "  series_f = series[[name]].fillna(method='ffill').dropna()\n",
      "/mnt/c/Users/resha/Documents/Github/balancing_framework/fracdiff.py:187: FutureWarning: DataFrame.fillna with 'method' is deprecated and will raise in a future version. Use obj.ffill() or obj.bfill() instead.\n",
      "  series_f = series[[name]].fillna(method='ffill').dropna()\n",
      "/mnt/c/Users/resha/Documents/Github/balancing_framework/fracdiff.py:187: FutureWarning: DataFrame.fillna with 'method' is deprecated and will raise in a future version. Use obj.ffill() or obj.bfill() instead.\n",
      "  series_f = series[[name]].fillna(method='ffill').dropna()\n",
      "/mnt/c/Users/resha/Documents/Github/balancing_framework/fracdiff.py:187: FutureWarning: DataFrame.fillna with 'method' is deprecated and will raise in a future version. Use obj.ffill() or obj.bfill() instead.\n",
      "  series_f = series[[name]].fillna(method='ffill').dropna()\n",
      "/mnt/c/Users/resha/Documents/Github/balancing_framework/fracdiff.py:187: FutureWarning: DataFrame.fillna with 'method' is deprecated and will raise in a future version. Use obj.ffill() or obj.bfill() instead.\n",
      "  series_f = series[[name]].fillna(method='ffill').dropna()\n",
      "/mnt/c/Users/resha/Documents/Github/balancing_framework/fracdiff.py:187: FutureWarning: DataFrame.fillna with 'method' is deprecated and will raise in a future version. Use obj.ffill() or obj.bfill() instead.\n",
      "  series_f = series[[name]].fillna(method='ffill').dropna()\n",
      "/mnt/c/Users/resha/Documents/Github/balancing_framework/fracdiff.py:187: FutureWarning: DataFrame.fillna with 'method' is deprecated and will raise in a future version. Use obj.ffill() or obj.bfill() instead.\n",
      "  series_f = series[[name]].fillna(method='ffill').dropna()\n",
      "/mnt/c/Users/resha/Documents/Github/balancing_framework/fracdiff.py:187: FutureWarning: DataFrame.fillna with 'method' is deprecated and will raise in a future version. Use obj.ffill() or obj.bfill() instead.\n",
      "  series_f = series[[name]].fillna(method='ffill').dropna()\n",
      "/mnt/c/Users/resha/Documents/Github/balancing_framework/fracdiff.py:187: FutureWarning: DataFrame.fillna with 'method' is deprecated and will raise in a future version. Use obj.ffill() or obj.bfill() instead.\n",
      "  series_f = series[[name]].fillna(method='ffill').dropna()\n",
      "/mnt/c/Users/resha/Documents/Github/balancing_framework/fracdiff.py:187: FutureWarning: DataFrame.fillna with 'method' is deprecated and will raise in a future version. Use obj.ffill() or obj.bfill() instead.\n",
      "  series_f = series[[name]].fillna(method='ffill').dropna()\n",
      "/mnt/c/Users/resha/Documents/Github/balancing_framework/fracdiff.py:187: FutureWarning: DataFrame.fillna with 'method' is deprecated and will raise in a future version. Use obj.ffill() or obj.bfill() instead.\n",
      "  series_f = series[[name]].fillna(method='ffill').dropna()\n",
      "/mnt/c/Users/resha/Documents/Github/balancing_framework/fracdiff.py:187: FutureWarning: DataFrame.fillna with 'method' is deprecated and will raise in a future version. Use obj.ffill() or obj.bfill() instead.\n",
      "  series_f = series[[name]].fillna(method='ffill').dropna()\n"
     ]
    },
    {
     "name": "stdout",
     "output_type": "stream",
     "text": [
      "adx_2880\n"
     ]
    },
    {
     "name": "stderr",
     "output_type": "stream",
     "text": [
      "/mnt/c/Users/resha/Documents/Github/balancing_framework/fracdiff.py:187: FutureWarning: DataFrame.fillna with 'method' is deprecated and will raise in a future version. Use obj.ffill() or obj.bfill() instead.\n",
      "  series_f = series[[name]].fillna(method='ffill').dropna()\n"
     ]
    },
    {
     "name": "stdout",
     "output_type": "stream",
     "text": [
      "adx_2880 stationary with d=0.0 stat windows =9 out of 9 p-values = [0.0, 0.0, 0.0, 0.0, 0.0, 0.0, 0.0, 0.0, 3.720021580518554e-28]\n",
      "atr_2880\n"
     ]
    },
    {
     "name": "stderr",
     "output_type": "stream",
     "text": [
      "/mnt/c/Users/resha/Documents/Github/balancing_framework/fracdiff.py:187: FutureWarning: DataFrame.fillna with 'method' is deprecated and will raise in a future version. Use obj.ffill() or obj.bfill() instead.\n",
      "  series_f = series[[name]].fillna(method='ffill').dropna()\n",
      "/mnt/c/Users/resha/Documents/Github/balancing_framework/fracdiff.py:187: FutureWarning: DataFrame.fillna with 'method' is deprecated and will raise in a future version. Use obj.ffill() or obj.bfill() instead.\n",
      "  series_f = series[[name]].fillna(method='ffill').dropna()\n",
      "/mnt/c/Users/resha/Documents/Github/balancing_framework/fracdiff.py:187: FutureWarning: DataFrame.fillna with 'method' is deprecated and will raise in a future version. Use obj.ffill() or obj.bfill() instead.\n",
      "  series_f = series[[name]].fillna(method='ffill').dropna()\n",
      "/mnt/c/Users/resha/Documents/Github/balancing_framework/fracdiff.py:187: FutureWarning: DataFrame.fillna with 'method' is deprecated and will raise in a future version. Use obj.ffill() or obj.bfill() instead.\n",
      "  series_f = series[[name]].fillna(method='ffill').dropna()\n",
      "/mnt/c/Users/resha/Documents/Github/balancing_framework/fracdiff.py:187: FutureWarning: DataFrame.fillna with 'method' is deprecated and will raise in a future version. Use obj.ffill() or obj.bfill() instead.\n",
      "  series_f = series[[name]].fillna(method='ffill').dropna()\n",
      "/mnt/c/Users/resha/Documents/Github/balancing_framework/fracdiff.py:187: FutureWarning: DataFrame.fillna with 'method' is deprecated and will raise in a future version. Use obj.ffill() or obj.bfill() instead.\n",
      "  series_f = series[[name]].fillna(method='ffill').dropna()\n",
      "/mnt/c/Users/resha/Documents/Github/balancing_framework/fracdiff.py:187: FutureWarning: DataFrame.fillna with 'method' is deprecated and will raise in a future version. Use obj.ffill() or obj.bfill() instead.\n",
      "  series_f = series[[name]].fillna(method='ffill').dropna()\n",
      "/mnt/c/Users/resha/Documents/Github/balancing_framework/fracdiff.py:187: FutureWarning: DataFrame.fillna with 'method' is deprecated and will raise in a future version. Use obj.ffill() or obj.bfill() instead.\n",
      "  series_f = series[[name]].fillna(method='ffill').dropna()\n"
     ]
    },
    {
     "name": "stdout",
     "output_type": "stream",
     "text": [
      "atr_2880 stationary with d=0.35000000000000003 stat windows =5 out of 9 p-values = [0.004887340939015391, 1.9239664013504812e-24, 0.11253259636899549, 0.007941196060333286, 0.0388647796836028, 0.060383768383528956, 0.29983528928451647, 0.006656607920887252, 0.1417600702838559]\n",
      "bb_upper_2880\n"
     ]
    },
    {
     "name": "stderr",
     "output_type": "stream",
     "text": [
      "/mnt/c/Users/resha/Documents/Github/balancing_framework/fracdiff.py:187: FutureWarning: DataFrame.fillna with 'method' is deprecated and will raise in a future version. Use obj.ffill() or obj.bfill() instead.\n",
      "  series_f = series[[name]].fillna(method='ffill').dropna()\n",
      "/mnt/c/Users/resha/Documents/Github/balancing_framework/fracdiff.py:187: FutureWarning: DataFrame.fillna with 'method' is deprecated and will raise in a future version. Use obj.ffill() or obj.bfill() instead.\n",
      "  series_f = series[[name]].fillna(method='ffill').dropna()\n",
      "/mnt/c/Users/resha/Documents/Github/balancing_framework/fracdiff.py:187: FutureWarning: DataFrame.fillna with 'method' is deprecated and will raise in a future version. Use obj.ffill() or obj.bfill() instead.\n",
      "  series_f = series[[name]].fillna(method='ffill').dropna()\n",
      "/mnt/c/Users/resha/Documents/Github/balancing_framework/fracdiff.py:187: FutureWarning: DataFrame.fillna with 'method' is deprecated and will raise in a future version. Use obj.ffill() or obj.bfill() instead.\n",
      "  series_f = series[[name]].fillna(method='ffill').dropna()\n",
      "/mnt/c/Users/resha/Documents/Github/balancing_framework/fracdiff.py:187: FutureWarning: DataFrame.fillna with 'method' is deprecated and will raise in a future version. Use obj.ffill() or obj.bfill() instead.\n",
      "  series_f = series[[name]].fillna(method='ffill').dropna()\n"
     ]
    },
    {
     "name": "stdout",
     "output_type": "stream",
     "text": [
      "bb_upper_2880 stationary with d=0.2 stat windows =5 out of 9 p-values = [0.12589240829615772, 0.059797651936117385, 0.0013068829751604085, 0.3071695797824906, 0.010414756434106442, 0.0005275130875886936, 0.3459694820964523, 0.008002128601793954, 0.002903147277764612]\n",
      "bb_middle_2880\n"
     ]
    },
    {
     "name": "stderr",
     "output_type": "stream",
     "text": [
      "/mnt/c/Users/resha/Documents/Github/balancing_framework/fracdiff.py:187: FutureWarning: DataFrame.fillna with 'method' is deprecated and will raise in a future version. Use obj.ffill() or obj.bfill() instead.\n",
      "  series_f = series[[name]].fillna(method='ffill').dropna()\n",
      "/mnt/c/Users/resha/Documents/Github/balancing_framework/fracdiff.py:187: FutureWarning: DataFrame.fillna with 'method' is deprecated and will raise in a future version. Use obj.ffill() or obj.bfill() instead.\n",
      "  series_f = series[[name]].fillna(method='ffill').dropna()\n",
      "/mnt/c/Users/resha/Documents/Github/balancing_framework/fracdiff.py:187: FutureWarning: DataFrame.fillna with 'method' is deprecated and will raise in a future version. Use obj.ffill() or obj.bfill() instead.\n",
      "  series_f = series[[name]].fillna(method='ffill').dropna()\n",
      "/mnt/c/Users/resha/Documents/Github/balancing_framework/fracdiff.py:187: FutureWarning: DataFrame.fillna with 'method' is deprecated and will raise in a future version. Use obj.ffill() or obj.bfill() instead.\n",
      "  series_f = series[[name]].fillna(method='ffill').dropna()\n",
      "/mnt/c/Users/resha/Documents/Github/balancing_framework/fracdiff.py:187: FutureWarning: DataFrame.fillna with 'method' is deprecated and will raise in a future version. Use obj.ffill() or obj.bfill() instead.\n",
      "  series_f = series[[name]].fillna(method='ffill').dropna()\n",
      "/mnt/c/Users/resha/Documents/Github/balancing_framework/fracdiff.py:187: FutureWarning: DataFrame.fillna with 'method' is deprecated and will raise in a future version. Use obj.ffill() or obj.bfill() instead.\n",
      "  series_f = series[[name]].fillna(method='ffill').dropna()\n"
     ]
    },
    {
     "name": "stdout",
     "output_type": "stream",
     "text": [
      "bb_middle_2880 stationary with d=0.25 stat windows =7 out of 9 p-values = [0.03382013553224912, 0.021578679113307773, 9.365892212348872e-05, 0.1772883808601315, 0.001067892975591794, 2.1504700937123745e-05, 0.16375634871386074, 0.0003095529961795629, 0.008500878617020527]\n",
      "bb_lower_2880\n"
     ]
    },
    {
     "name": "stderr",
     "output_type": "stream",
     "text": [
      "/mnt/c/Users/resha/Documents/Github/balancing_framework/fracdiff.py:187: FutureWarning: DataFrame.fillna with 'method' is deprecated and will raise in a future version. Use obj.ffill() or obj.bfill() instead.\n",
      "  series_f = series[[name]].fillna(method='ffill').dropna()\n",
      "/mnt/c/Users/resha/Documents/Github/balancing_framework/fracdiff.py:187: FutureWarning: DataFrame.fillna with 'method' is deprecated and will raise in a future version. Use obj.ffill() or obj.bfill() instead.\n",
      "  series_f = series[[name]].fillna(method='ffill').dropna()\n",
      "/mnt/c/Users/resha/Documents/Github/balancing_framework/fracdiff.py:187: FutureWarning: DataFrame.fillna with 'method' is deprecated and will raise in a future version. Use obj.ffill() or obj.bfill() instead.\n",
      "  series_f = series[[name]].fillna(method='ffill').dropna()\n",
      "/mnt/c/Users/resha/Documents/Github/balancing_framework/fracdiff.py:187: FutureWarning: DataFrame.fillna with 'method' is deprecated and will raise in a future version. Use obj.ffill() or obj.bfill() instead.\n",
      "  series_f = series[[name]].fillna(method='ffill').dropna()\n",
      "/mnt/c/Users/resha/Documents/Github/balancing_framework/fracdiff.py:187: FutureWarning: DataFrame.fillna with 'method' is deprecated and will raise in a future version. Use obj.ffill() or obj.bfill() instead.\n",
      "  series_f = series[[name]].fillna(method='ffill').dropna()\n"
     ]
    },
    {
     "name": "stdout",
     "output_type": "stream",
     "text": [
      "bb_lower_2880 stationary with d=0.2 stat windows =5 out of 9 p-values = [0.17053951372330584, 0.07287017086292483, 0.00285703534502759, 0.32903912691356807, 0.021846437524911614, 0.0009664496368462829, 0.38451378428820293, 0.00995250458422282, 0.008552867887221469]\n",
      "kc_upper_2880\n"
     ]
    },
    {
     "name": "stderr",
     "output_type": "stream",
     "text": [
      "/mnt/c/Users/resha/Documents/Github/balancing_framework/fracdiff.py:187: FutureWarning: DataFrame.fillna with 'method' is deprecated and will raise in a future version. Use obj.ffill() or obj.bfill() instead.\n",
      "  series_f = series[[name]].fillna(method='ffill').dropna()\n",
      "/mnt/c/Users/resha/Documents/Github/balancing_framework/fracdiff.py:187: FutureWarning: DataFrame.fillna with 'method' is deprecated and will raise in a future version. Use obj.ffill() or obj.bfill() instead.\n",
      "  series_f = series[[name]].fillna(method='ffill').dropna()\n",
      "/mnt/c/Users/resha/Documents/Github/balancing_framework/fracdiff.py:187: FutureWarning: DataFrame.fillna with 'method' is deprecated and will raise in a future version. Use obj.ffill() or obj.bfill() instead.\n",
      "  series_f = series[[name]].fillna(method='ffill').dropna()\n",
      "/mnt/c/Users/resha/Documents/Github/balancing_framework/fracdiff.py:187: FutureWarning: DataFrame.fillna with 'method' is deprecated and will raise in a future version. Use obj.ffill() or obj.bfill() instead.\n",
      "  series_f = series[[name]].fillna(method='ffill').dropna()\n",
      "/mnt/c/Users/resha/Documents/Github/balancing_framework/fracdiff.py:187: FutureWarning: DataFrame.fillna with 'method' is deprecated and will raise in a future version. Use obj.ffill() or obj.bfill() instead.\n",
      "  series_f = series[[name]].fillna(method='ffill').dropna()\n"
     ]
    },
    {
     "name": "stdout",
     "output_type": "stream",
     "text": [
      "kc_upper_2880 stationary with d=0.2 stat windows =6 out of 9 p-values = [0.11626716071891907, 0.0, 0.0017254687375433833, 0.2892343488543707, 0.012565891959448086, 0.00042057507079845907, 0.35017813808367626, 0.005267746678957967, 0.025414904063483127]\n",
      "kc_middle_2880\n"
     ]
    },
    {
     "name": "stderr",
     "output_type": "stream",
     "text": [
      "/mnt/c/Users/resha/Documents/Github/balancing_framework/fracdiff.py:187: FutureWarning: DataFrame.fillna with 'method' is deprecated and will raise in a future version. Use obj.ffill() or obj.bfill() instead.\n",
      "  series_f = series[[name]].fillna(method='ffill').dropna()\n",
      "/mnt/c/Users/resha/Documents/Github/balancing_framework/fracdiff.py:187: FutureWarning: DataFrame.fillna with 'method' is deprecated and will raise in a future version. Use obj.ffill() or obj.bfill() instead.\n",
      "  series_f = series[[name]].fillna(method='ffill').dropna()\n",
      "/mnt/c/Users/resha/Documents/Github/balancing_framework/fracdiff.py:187: FutureWarning: DataFrame.fillna with 'method' is deprecated and will raise in a future version. Use obj.ffill() or obj.bfill() instead.\n",
      "  series_f = series[[name]].fillna(method='ffill').dropna()\n",
      "/mnt/c/Users/resha/Documents/Github/balancing_framework/fracdiff.py:187: FutureWarning: DataFrame.fillna with 'method' is deprecated and will raise in a future version. Use obj.ffill() or obj.bfill() instead.\n",
      "  series_f = series[[name]].fillna(method='ffill').dropna()\n",
      "/mnt/c/Users/resha/Documents/Github/balancing_framework/fracdiff.py:187: FutureWarning: DataFrame.fillna with 'method' is deprecated and will raise in a future version. Use obj.ffill() or obj.bfill() instead.\n",
      "  series_f = series[[name]].fillna(method='ffill').dropna()\n",
      "/mnt/c/Users/resha/Documents/Github/balancing_framework/fracdiff.py:187: FutureWarning: DataFrame.fillna with 'method' is deprecated and will raise in a future version. Use obj.ffill() or obj.bfill() instead.\n",
      "  series_f = series[[name]].fillna(method='ffill').dropna()\n"
     ]
    },
    {
     "name": "stdout",
     "output_type": "stream",
     "text": [
      "kc_middle_2880 stationary with d=0.25 stat windows =7 out of 9 p-values = [0.0389394177226321, 0.03350031340575971, 8.554783745025503e-05, 0.2043838600406787, 0.004764668193985918, 7.007931578297582e-05, 0.26627020976912974, 0.00044216210639282306, 0.009842226572422194]\n",
      "kc_lower_2880\n"
     ]
    },
    {
     "name": "stderr",
     "output_type": "stream",
     "text": [
      "/mnt/c/Users/resha/Documents/Github/balancing_framework/fracdiff.py:187: FutureWarning: DataFrame.fillna with 'method' is deprecated and will raise in a future version. Use obj.ffill() or obj.bfill() instead.\n",
      "  series_f = series[[name]].fillna(method='ffill').dropna()\n",
      "/mnt/c/Users/resha/Documents/Github/balancing_framework/fracdiff.py:187: FutureWarning: DataFrame.fillna with 'method' is deprecated and will raise in a future version. Use obj.ffill() or obj.bfill() instead.\n",
      "  series_f = series[[name]].fillna(method='ffill').dropna()\n",
      "/mnt/c/Users/resha/Documents/Github/balancing_framework/fracdiff.py:187: FutureWarning: DataFrame.fillna with 'method' is deprecated and will raise in a future version. Use obj.ffill() or obj.bfill() instead.\n",
      "  series_f = series[[name]].fillna(method='ffill').dropna()\n",
      "/mnt/c/Users/resha/Documents/Github/balancing_framework/fracdiff.py:187: FutureWarning: DataFrame.fillna with 'method' is deprecated and will raise in a future version. Use obj.ffill() or obj.bfill() instead.\n",
      "  series_f = series[[name]].fillna(method='ffill').dropna()\n",
      "/mnt/c/Users/resha/Documents/Github/balancing_framework/fracdiff.py:187: FutureWarning: DataFrame.fillna with 'method' is deprecated and will raise in a future version. Use obj.ffill() or obj.bfill() instead.\n",
      "  series_f = series[[name]].fillna(method='ffill').dropna()\n"
     ]
    },
    {
     "name": "stdout",
     "output_type": "stream",
     "text": [
      "kc_lower_2880 stationary with d=0.2 stat windows =5 out of 9 p-values = [0.14302538851550517, 0.0, 0.004311204020554681, 0.3548595941186375, 0.033565845296407895, 0.0013298294660592754, 0.4482503386047292, 0.010508558045670639, 0.06051572832309638]\n",
      "donchian_upper_2880\n"
     ]
    },
    {
     "name": "stderr",
     "output_type": "stream",
     "text": [
      "/mnt/c/Users/resha/Documents/Github/balancing_framework/fracdiff.py:187: FutureWarning: DataFrame.fillna with 'method' is deprecated and will raise in a future version. Use obj.ffill() or obj.bfill() instead.\n",
      "  series_f = series[[name]].fillna(method='ffill').dropna()\n",
      "/mnt/c/Users/resha/Documents/Github/balancing_framework/fracdiff.py:187: FutureWarning: DataFrame.fillna with 'method' is deprecated and will raise in a future version. Use obj.ffill() or obj.bfill() instead.\n",
      "  series_f = series[[name]].fillna(method='ffill').dropna()\n",
      "/mnt/c/Users/resha/Documents/Github/balancing_framework/fracdiff.py:187: FutureWarning: DataFrame.fillna with 'method' is deprecated and will raise in a future version. Use obj.ffill() or obj.bfill() instead.\n",
      "  series_f = series[[name]].fillna(method='ffill').dropna()\n",
      "/mnt/c/Users/resha/Documents/Github/balancing_framework/fracdiff.py:187: FutureWarning: DataFrame.fillna with 'method' is deprecated and will raise in a future version. Use obj.ffill() or obj.bfill() instead.\n",
      "  series_f = series[[name]].fillna(method='ffill').dropna()\n",
      "/mnt/c/Users/resha/Documents/Github/balancing_framework/fracdiff.py:187: FutureWarning: DataFrame.fillna with 'method' is deprecated and will raise in a future version. Use obj.ffill() or obj.bfill() instead.\n",
      "  series_f = series[[name]].fillna(method='ffill').dropna()\n"
     ]
    },
    {
     "name": "stdout",
     "output_type": "stream",
     "text": [
      "donchian_upper_2880 stationary with d=0.2 stat windows =7 out of 9 p-values = [5.240569585743899e-10, 0.002661917324574207, 0.0031986655617969972, 0.3594663132822289, 0.007360868584218656, 0.0005960694618121188, 0.3840520875296262, 0.007704072660561833, 0.023181971104065665]\n",
      "donchian_middle_2880\n"
     ]
    },
    {
     "name": "stderr",
     "output_type": "stream",
     "text": [
      "/mnt/c/Users/resha/Documents/Github/balancing_framework/fracdiff.py:187: FutureWarning: DataFrame.fillna with 'method' is deprecated and will raise in a future version. Use obj.ffill() or obj.bfill() instead.\n",
      "  series_f = series[[name]].fillna(method='ffill').dropna()\n",
      "/mnt/c/Users/resha/Documents/Github/balancing_framework/fracdiff.py:187: FutureWarning: DataFrame.fillna with 'method' is deprecated and will raise in a future version. Use obj.ffill() or obj.bfill() instead.\n",
      "  series_f = series[[name]].fillna(method='ffill').dropna()\n",
      "/mnt/c/Users/resha/Documents/Github/balancing_framework/fracdiff.py:187: FutureWarning: DataFrame.fillna with 'method' is deprecated and will raise in a future version. Use obj.ffill() or obj.bfill() instead.\n",
      "  series_f = series[[name]].fillna(method='ffill').dropna()\n",
      "/mnt/c/Users/resha/Documents/Github/balancing_framework/fracdiff.py:187: FutureWarning: DataFrame.fillna with 'method' is deprecated and will raise in a future version. Use obj.ffill() or obj.bfill() instead.\n",
      "  series_f = series[[name]].fillna(method='ffill').dropna()\n",
      "/mnt/c/Users/resha/Documents/Github/balancing_framework/fracdiff.py:187: FutureWarning: DataFrame.fillna with 'method' is deprecated and will raise in a future version. Use obj.ffill() or obj.bfill() instead.\n",
      "  series_f = series[[name]].fillna(method='ffill').dropna()\n"
     ]
    },
    {
     "name": "stdout",
     "output_type": "stream",
     "text": [
      "donchian_middle_2880 stationary with d=0.2 stat windows =6 out of 9 p-values = [0.0006139166061594588, 0.0, 0.009094692505695305, 0.40047583128880254, 0.029381714091754395, 0.002941302329588056, 0.47453654980911364, 0.017000450047565882, 0.07046625594928498]\n",
      "donchian_lower_2880\n"
     ]
    },
    {
     "name": "stderr",
     "output_type": "stream",
     "text": [
      "/mnt/c/Users/resha/Documents/Github/balancing_framework/fracdiff.py:187: FutureWarning: DataFrame.fillna with 'method' is deprecated and will raise in a future version. Use obj.ffill() or obj.bfill() instead.\n",
      "  series_f = series[[name]].fillna(method='ffill').dropna()\n",
      "/mnt/c/Users/resha/Documents/Github/balancing_framework/fracdiff.py:187: FutureWarning: DataFrame.fillna with 'method' is deprecated and will raise in a future version. Use obj.ffill() or obj.bfill() instead.\n",
      "  series_f = series[[name]].fillna(method='ffill').dropna()\n",
      "/mnt/c/Users/resha/Documents/Github/balancing_framework/fracdiff.py:187: FutureWarning: DataFrame.fillna with 'method' is deprecated and will raise in a future version. Use obj.ffill() or obj.bfill() instead.\n",
      "  series_f = series[[name]].fillna(method='ffill').dropna()\n",
      "/mnt/c/Users/resha/Documents/Github/balancing_framework/fracdiff.py:187: FutureWarning: DataFrame.fillna with 'method' is deprecated and will raise in a future version. Use obj.ffill() or obj.bfill() instead.\n",
      "  series_f = series[[name]].fillna(method='ffill').dropna()\n",
      "/mnt/c/Users/resha/Documents/Github/balancing_framework/fracdiff.py:187: FutureWarning: DataFrame.fillna with 'method' is deprecated and will raise in a future version. Use obj.ffill() or obj.bfill() instead.\n",
      "  series_f = series[[name]].fillna(method='ffill').dropna()\n"
     ]
    },
    {
     "name": "stdout",
     "output_type": "stream",
     "text": [
      "donchian_lower_2880 stationary with d=0.2 stat windows =6 out of 9 p-values = [0.006386096214726529, 0.0, 0.005461624714822895, 0.4150994004439106, 0.05508163298148018, 0.002934437380736832, 0.473586473552856, 0.006912486326477506, 0.030804970205129067]\n",
      "obv_2880\n"
     ]
    },
    {
     "name": "stderr",
     "output_type": "stream",
     "text": [
      "/mnt/c/Users/resha/Documents/Github/balancing_framework/fracdiff.py:187: FutureWarning: DataFrame.fillna with 'method' is deprecated and will raise in a future version. Use obj.ffill() or obj.bfill() instead.\n",
      "  series_f = series[[name]].fillna(method='ffill').dropna()\n",
      "/mnt/c/Users/resha/Documents/Github/balancing_framework/fracdiff.py:187: FutureWarning: DataFrame.fillna with 'method' is deprecated and will raise in a future version. Use obj.ffill() or obj.bfill() instead.\n",
      "  series_f = series[[name]].fillna(method='ffill').dropna()\n",
      "/mnt/c/Users/resha/Documents/Github/balancing_framework/fracdiff.py:187: FutureWarning: DataFrame.fillna with 'method' is deprecated and will raise in a future version. Use obj.ffill() or obj.bfill() instead.\n",
      "  series_f = series[[name]].fillna(method='ffill').dropna()\n",
      "/mnt/c/Users/resha/Documents/Github/balancing_framework/fracdiff.py:187: FutureWarning: DataFrame.fillna with 'method' is deprecated and will raise in a future version. Use obj.ffill() or obj.bfill() instead.\n",
      "  series_f = series[[name]].fillna(method='ffill').dropna()\n",
      "/mnt/c/Users/resha/Documents/Github/balancing_framework/fracdiff.py:187: FutureWarning: DataFrame.fillna with 'method' is deprecated and will raise in a future version. Use obj.ffill() or obj.bfill() instead.\n",
      "  series_f = series[[name]].fillna(method='ffill').dropna()\n",
      "/mnt/c/Users/resha/Documents/Github/balancing_framework/fracdiff.py:187: FutureWarning: DataFrame.fillna with 'method' is deprecated and will raise in a future version. Use obj.ffill() or obj.bfill() instead.\n",
      "  series_f = series[[name]].fillna(method='ffill').dropna()\n"
     ]
    },
    {
     "name": "stdout",
     "output_type": "stream",
     "text": [
      "obv_2880 stationary with d=0.25 stat windows =6 out of 9 p-values = [5.817009509038797e-06, 3.0358113596465452e-05, 0.013153696863015615, 0.13830932329249013, 0.41258027069113457, 0.014681440738640085, 0.010937428169366766, 0.5699566470467581, 0.007324031132364645]\n",
      "cmf_2880\n"
     ]
    },
    {
     "name": "stderr",
     "output_type": "stream",
     "text": [
      "/mnt/c/Users/resha/Documents/Github/balancing_framework/fracdiff.py:187: FutureWarning: DataFrame.fillna with 'method' is deprecated and will raise in a future version. Use obj.ffill() or obj.bfill() instead.\n",
      "  series_f = series[[name]].fillna(method='ffill').dropna()\n"
     ]
    },
    {
     "name": "stdout",
     "output_type": "stream",
     "text": [
      "cmf_2880 stationary with d=0.0 stat windows =8 out of 9 p-values = [6.680212927430323e-06, 0.0009249957248935138, 0.0009332369919099179, 0.0014848414344545609, 0.0010614753046641902, 0.0022155445500850576, 0.006867063193619402, 0.0018868273265794633, 0.6040600370337085]\n",
      "mfi_2880\n"
     ]
    },
    {
     "name": "stderr",
     "output_type": "stream",
     "text": [
      "/mnt/c/Users/resha/Documents/Github/balancing_framework/fracdiff.py:187: FutureWarning: DataFrame.fillna with 'method' is deprecated and will raise in a future version. Use obj.ffill() or obj.bfill() instead.\n",
      "  series_f = series[[name]].fillna(method='ffill').dropna()\n"
     ]
    },
    {
     "name": "stdout",
     "output_type": "stream",
     "text": [
      "mfi_2880 stationary with d=0.0 stat windows =8 out of 9 p-values = [7.021189321588063e-06, 0.0001177982120436427, 0.0009574930759874029, 0.001885838799869582, 0.002833124879145404, 0.005083239833884811, 0.003400129620560693, 0.0007948833926465587, 0.6527408304570201]\n",
      "vwap_2880\n"
     ]
    },
    {
     "name": "stderr",
     "output_type": "stream",
     "text": [
      "/mnt/c/Users/resha/Documents/Github/balancing_framework/fracdiff.py:187: FutureWarning: DataFrame.fillna with 'method' is deprecated and will raise in a future version. Use obj.ffill() or obj.bfill() instead.\n",
      "  series_f = series[[name]].fillna(method='ffill').dropna()\n",
      "/mnt/c/Users/resha/Documents/Github/balancing_framework/fracdiff.py:187: FutureWarning: DataFrame.fillna with 'method' is deprecated and will raise in a future version. Use obj.ffill() or obj.bfill() instead.\n",
      "  series_f = series[[name]].fillna(method='ffill').dropna()\n",
      "/mnt/c/Users/resha/Documents/Github/balancing_framework/fracdiff.py:187: FutureWarning: DataFrame.fillna with 'method' is deprecated and will raise in a future version. Use obj.ffill() or obj.bfill() instead.\n",
      "  series_f = series[[name]].fillna(method='ffill').dropna()\n",
      "/mnt/c/Users/resha/Documents/Github/balancing_framework/fracdiff.py:187: FutureWarning: DataFrame.fillna with 'method' is deprecated and will raise in a future version. Use obj.ffill() or obj.bfill() instead.\n",
      "  series_f = series[[name]].fillna(method='ffill').dropna()\n",
      "/mnt/c/Users/resha/Documents/Github/balancing_framework/fracdiff.py:187: FutureWarning: DataFrame.fillna with 'method' is deprecated and will raise in a future version. Use obj.ffill() or obj.bfill() instead.\n",
      "  series_f = series[[name]].fillna(method='ffill').dropna()\n"
     ]
    },
    {
     "name": "stdout",
     "output_type": "stream",
     "text": [
      "vwap_2880 stationary with d=0.2 stat windows =5 out of 9 p-values = [0.18706610773503946, 0.024597106333005398, 0.01031574283624515, 0.4432791406839789, 0.042428300350355524, 0.00601570686364255, 0.5381878726570808, 0.033696158597376055, 0.05483844341665077]\n",
      "log_ret_2880\n"
     ]
    },
    {
     "name": "stderr",
     "output_type": "stream",
     "text": [
      "/mnt/c/Users/resha/Documents/Github/balancing_framework/fracdiff.py:187: FutureWarning: DataFrame.fillna with 'method' is deprecated and will raise in a future version. Use obj.ffill() or obj.bfill() instead.\n",
      "  series_f = series[[name]].fillna(method='ffill').dropna()\n"
     ]
    },
    {
     "name": "stdout",
     "output_type": "stream",
     "text": [
      "log_ret_2880 stationary with d=0.0 stat windows =9 out of 9 p-values = [0.0, 0.0, 0.0, 0.0, 0.0, 0.0, 0.0, 0.0, 0.0]\n",
      "std_2880\n"
     ]
    },
    {
     "name": "stderr",
     "output_type": "stream",
     "text": [
      "/mnt/c/Users/resha/Documents/Github/balancing_framework/fracdiff.py:187: FutureWarning: DataFrame.fillna with 'method' is deprecated and will raise in a future version. Use obj.ffill() or obj.bfill() instead.\n",
      "  series_f = series[[name]].fillna(method='ffill').dropna()\n"
     ]
    },
    {
     "name": "stdout",
     "output_type": "stream",
     "text": [
      "std_2880 stationary with d=0.0 stat windows =8 out of 9 p-values = [9.237890267254717e-09, 2.8447853804516756e-05, 3.989139508558487e-07, 6.479683275203571e-08, 9.53841708039928e-07, 3.246707376856728e-05, 0.0005998572302011081, 4.300618645901928e-08, 0.13419398919399828]\n",
      "zscore_2880\n"
     ]
    },
    {
     "name": "stderr",
     "output_type": "stream",
     "text": [
      "/mnt/c/Users/resha/Documents/Github/balancing_framework/fracdiff.py:187: FutureWarning: DataFrame.fillna with 'method' is deprecated and will raise in a future version. Use obj.ffill() or obj.bfill() instead.\n",
      "  series_f = series[[name]].fillna(method='ffill').dropna()\n"
     ]
    },
    {
     "name": "stdout",
     "output_type": "stream",
     "text": [
      "zscore_2880 stationary with d=0.0 stat windows =8 out of 9 p-values = [2.6706421505648187e-10, 4.828801423501881e-09, 1.1468864646902734e-08, 8.260866203709339e-11, 2.8643505930908273e-12, 6.7875264331933846e-09, 4.590303079127806e-11, 7.591575320559984e-08, 0.17720702466561072]\n",
      "delta_close_2880\n"
     ]
    },
    {
     "name": "stderr",
     "output_type": "stream",
     "text": [
      "/mnt/c/Users/resha/Documents/Github/balancing_framework/fracdiff.py:187: FutureWarning: DataFrame.fillna with 'method' is deprecated and will raise in a future version. Use obj.ffill() or obj.bfill() instead.\n",
      "  series_f = series[[name]].fillna(method='ffill').dropna()\n"
     ]
    },
    {
     "name": "stdout",
     "output_type": "stream",
     "text": [
      "delta_close_2880 stationary with d=0.0 stat windows =9 out of 9 p-values = [0.0, 0.0, 0.0, 0.0, 0.0, 0.0, 0.0, 0.0, 6.19024848302217e-30]\n",
      "delta_high_2880\n"
     ]
    },
    {
     "name": "stderr",
     "output_type": "stream",
     "text": [
      "/mnt/c/Users/resha/Documents/Github/balancing_framework/fracdiff.py:187: FutureWarning: DataFrame.fillna with 'method' is deprecated and will raise in a future version. Use obj.ffill() or obj.bfill() instead.\n",
      "  series_f = series[[name]].fillna(method='ffill').dropna()\n"
     ]
    },
    {
     "name": "stdout",
     "output_type": "stream",
     "text": [
      "delta_high_2880 stationary with d=0.0 stat windows =9 out of 9 p-values = [0.0, 0.0, 0.0, 0.0, 0.0, 0.0, 0.0, 0.0, 0.0]\n",
      "delta_low_2880\n"
     ]
    },
    {
     "name": "stderr",
     "output_type": "stream",
     "text": [
      "/mnt/c/Users/resha/Documents/Github/balancing_framework/fracdiff.py:187: FutureWarning: DataFrame.fillna with 'method' is deprecated and will raise in a future version. Use obj.ffill() or obj.bfill() instead.\n",
      "  series_f = series[[name]].fillna(method='ffill').dropna()\n"
     ]
    },
    {
     "name": "stdout",
     "output_type": "stream",
     "text": [
      "delta_low_2880 stationary with d=0.0 stat windows =9 out of 9 p-values = [0.0, 0.0, 0.0, 0.0, 0.0, 0.0, 0.0, 0.0, 0.0]\n",
      "macd_diff_2880\n"
     ]
    },
    {
     "name": "stderr",
     "output_type": "stream",
     "text": [
      "/mnt/c/Users/resha/Documents/Github/balancing_framework/fracdiff.py:187: FutureWarning: DataFrame.fillna with 'method' is deprecated and will raise in a future version. Use obj.ffill() or obj.bfill() instead.\n",
      "  series_f = series[[name]].fillna(method='ffill').dropna()\n"
     ]
    },
    {
     "name": "stdout",
     "output_type": "stream",
     "text": [
      "macd_diff_2880 stationary with d=0.0 stat windows =9 out of 9 p-values = [0.0, 0.0, 0.0, 0.0, 0.0, 0.0, 0.0, 0.0, 5.266126938402882e-26]\n",
      "close_over_sma_2880\n"
     ]
    },
    {
     "name": "stderr",
     "output_type": "stream",
     "text": [
      "/mnt/c/Users/resha/Documents/Github/balancing_framework/fracdiff.py:187: FutureWarning: DataFrame.fillna with 'method' is deprecated and will raise in a future version. Use obj.ffill() or obj.bfill() instead.\n",
      "  series_f = series[[name]].fillna(method='ffill').dropna()\n"
     ]
    },
    {
     "name": "stdout",
     "output_type": "stream",
     "text": [
      "close_over_sma_2880 stationary with d=0.0 stat windows =8 out of 9 p-values = [6.370322794575449e-08, 7.767972091499532e-07, 8.303816530456263e-07, 1.6247641998876163e-06, 2.196469712240015e-07, 3.5664402383554895e-06, 1.9904870767725474e-05, 5.692022115023125e-06, 0.3547460982502584]\n",
      "volatility_ratio_2880\n"
     ]
    },
    {
     "name": "stderr",
     "output_type": "stream",
     "text": [
      "/mnt/c/Users/resha/Documents/Github/balancing_framework/fracdiff.py:187: FutureWarning: DataFrame.fillna with 'method' is deprecated and will raise in a future version. Use obj.ffill() or obj.bfill() instead.\n",
      "  series_f = series[[name]].fillna(method='ffill').dropna()\n",
      "/mnt/c/Users/resha/Documents/Github/balancing_framework/fracdiff.py:187: FutureWarning: DataFrame.fillna with 'method' is deprecated and will raise in a future version. Use obj.ffill() or obj.bfill() instead.\n",
      "  series_f = series[[name]].fillna(method='ffill').dropna()\n",
      "/mnt/c/Users/resha/Documents/Github/balancing_framework/fracdiff.py:187: FutureWarning: DataFrame.fillna with 'method' is deprecated and will raise in a future version. Use obj.ffill() or obj.bfill() instead.\n",
      "  series_f = series[[name]].fillna(method='ffill').dropna()\n",
      "/mnt/c/Users/resha/Documents/Github/balancing_framework/fracdiff.py:187: FutureWarning: DataFrame.fillna with 'method' is deprecated and will raise in a future version. Use obj.ffill() or obj.bfill() instead.\n",
      "  series_f = series[[name]].fillna(method='ffill').dropna()\n",
      "/mnt/c/Users/resha/Documents/Github/balancing_framework/fracdiff.py:187: FutureWarning: DataFrame.fillna with 'method' is deprecated and will raise in a future version. Use obj.ffill() or obj.bfill() instead.\n",
      "  series_f = series[[name]].fillna(method='ffill').dropna()\n",
      "/mnt/c/Users/resha/Documents/Github/balancing_framework/fracdiff.py:187: FutureWarning: DataFrame.fillna with 'method' is deprecated and will raise in a future version. Use obj.ffill() or obj.bfill() instead.\n",
      "  series_f = series[[name]].fillna(method='ffill').dropna()\n",
      "/mnt/c/Users/resha/Documents/Github/balancing_framework/fracdiff.py:187: FutureWarning: DataFrame.fillna with 'method' is deprecated and will raise in a future version. Use obj.ffill() or obj.bfill() instead.\n",
      "  series_f = series[[name]].fillna(method='ffill').dropna()\n",
      "/mnt/c/Users/resha/Documents/Github/balancing_framework/fracdiff.py:187: FutureWarning: DataFrame.fillna with 'method' is deprecated and will raise in a future version. Use obj.ffill() or obj.bfill() instead.\n",
      "  series_f = series[[name]].fillna(method='ffill').dropna()\n"
     ]
    },
    {
     "name": "stdout",
     "output_type": "stream",
     "text": [
      "volatility_ratio_2880 stationary with d=0.35000000000000003 stat windows =7 out of 9 p-values = [1.378304053820176e-05, 1.8255234820693066e-24, 0.028201525383485092, 9.186661118468246e-05, 0.030883946803570338, 0.01782791451399346, 0.051087831003663334, 0.002414183754514497, 0.1963841096085127]\n",
      "racc_close_2880\n"
     ]
    },
    {
     "name": "stderr",
     "output_type": "stream",
     "text": [
      "/mnt/c/Users/resha/Documents/Github/balancing_framework/fracdiff.py:187: FutureWarning: DataFrame.fillna with 'method' is deprecated and will raise in a future version. Use obj.ffill() or obj.bfill() instead.\n",
      "  series_f = series[[name]].fillna(method='ffill').dropna()\n",
      "/mnt/c/Users/resha/Documents/Github/balancing_framework/fracdiff.py:187: FutureWarning: DataFrame.fillna with 'method' is deprecated and will raise in a future version. Use obj.ffill() or obj.bfill() instead.\n",
      "  series_f = series[[name]].fillna(method='ffill').dropna()\n",
      "/mnt/c/Users/resha/Documents/Github/balancing_framework/fracdiff.py:187: FutureWarning: DataFrame.fillna with 'method' is deprecated and will raise in a future version. Use obj.ffill() or obj.bfill() instead.\n",
      "  series_f = series[[name]].fillna(method='ffill').dropna()\n",
      "/mnt/c/Users/resha/Documents/Github/balancing_framework/fracdiff.py:187: FutureWarning: DataFrame.fillna with 'method' is deprecated and will raise in a future version. Use obj.ffill() or obj.bfill() instead.\n",
      "  series_f = series[[name]].fillna(method='ffill').dropna()\n",
      "/mnt/c/Users/resha/Documents/Github/balancing_framework/fracdiff.py:187: FutureWarning: DataFrame.fillna with 'method' is deprecated and will raise in a future version. Use obj.ffill() or obj.bfill() instead.\n",
      "  series_f = series[[name]].fillna(method='ffill').dropna()\n",
      "/mnt/c/Users/resha/Documents/Github/balancing_framework/fracdiff.py:187: FutureWarning: DataFrame.fillna with 'method' is deprecated and will raise in a future version. Use obj.ffill() or obj.bfill() instead.\n",
      "  series_f = series[[name]].fillna(method='ffill').dropna()\n"
     ]
    },
    {
     "name": "stdout",
     "output_type": "stream",
     "text": [
      "racc_close_2880 stationary with d=0.25 stat windows =5 out of 9 p-values = [0.0037878471616152906, 0.021121662490882168, 0.00017535187494704046, 1.8654331700239787e-10, 0.002085266735561052, 0.05894190406762196, 0.2681564340354909, 0.061963131777468386, 0.5401747945186985]\n",
      "racc_close_5760\n"
     ]
    },
    {
     "name": "stderr",
     "output_type": "stream",
     "text": [
      "/mnt/c/Users/resha/Documents/Github/balancing_framework/fracdiff.py:187: FutureWarning: DataFrame.fillna with 'method' is deprecated and will raise in a future version. Use obj.ffill() or obj.bfill() instead.\n",
      "  series_f = series[[name]].fillna(method='ffill').dropna()\n",
      "/mnt/c/Users/resha/Documents/Github/balancing_framework/fracdiff.py:187: FutureWarning: DataFrame.fillna with 'method' is deprecated and will raise in a future version. Use obj.ffill() or obj.bfill() instead.\n",
      "  series_f = series[[name]].fillna(method='ffill').dropna()\n",
      "/mnt/c/Users/resha/Documents/Github/balancing_framework/fracdiff.py:187: FutureWarning: DataFrame.fillna with 'method' is deprecated and will raise in a future version. Use obj.ffill() or obj.bfill() instead.\n",
      "  series_f = series[[name]].fillna(method='ffill').dropna()\n",
      "/mnt/c/Users/resha/Documents/Github/balancing_framework/fracdiff.py:187: FutureWarning: DataFrame.fillna with 'method' is deprecated and will raise in a future version. Use obj.ffill() or obj.bfill() instead.\n",
      "  series_f = series[[name]].fillna(method='ffill').dropna()\n",
      "/mnt/c/Users/resha/Documents/Github/balancing_framework/fracdiff.py:187: FutureWarning: DataFrame.fillna with 'method' is deprecated and will raise in a future version. Use obj.ffill() or obj.bfill() instead.\n",
      "  series_f = series[[name]].fillna(method='ffill').dropna()\n",
      "/mnt/c/Users/resha/Documents/Github/balancing_framework/fracdiff.py:187: FutureWarning: DataFrame.fillna with 'method' is deprecated and will raise in a future version. Use obj.ffill() or obj.bfill() instead.\n",
      "  series_f = series[[name]].fillna(method='ffill').dropna()\n",
      "/mnt/c/Users/resha/Documents/Github/balancing_framework/fracdiff.py:187: FutureWarning: DataFrame.fillna with 'method' is deprecated and will raise in a future version. Use obj.ffill() or obj.bfill() instead.\n",
      "  series_f = series[[name]].fillna(method='ffill').dropna()\n",
      "/mnt/c/Users/resha/Documents/Github/balancing_framework/fracdiff.py:187: FutureWarning: DataFrame.fillna with 'method' is deprecated and will raise in a future version. Use obj.ffill() or obj.bfill() instead.\n",
      "  series_f = series[[name]].fillna(method='ffill').dropna()\n",
      "/mnt/c/Users/resha/Documents/Github/balancing_framework/fracdiff.py:187: FutureWarning: DataFrame.fillna with 'method' is deprecated and will raise in a future version. Use obj.ffill() or obj.bfill() instead.\n",
      "  series_f = series[[name]].fillna(method='ffill').dropna()\n"
     ]
    },
    {
     "name": "stdout",
     "output_type": "stream",
     "text": [
      "racc_close_5760 stationary with d=0.4 stat windows =6 out of 9 p-values = [2.7626014881809346e-06, 0.03076762262263179, 6.0778431207078074e-05, 1.1981191205072873e-13, 0.0009546019338596208, 0.05024484088291087, 0.15807847294740945, 0.0693684904577439, 0.04559284852660349]\n",
      "racc_close_8640\n"
     ]
    },
    {
     "name": "stderr",
     "output_type": "stream",
     "text": [
      "/mnt/c/Users/resha/Documents/Github/balancing_framework/fracdiff.py:187: FutureWarning: DataFrame.fillna with 'method' is deprecated and will raise in a future version. Use obj.ffill() or obj.bfill() instead.\n",
      "  series_f = series[[name]].fillna(method='ffill').dropna()\n",
      "/mnt/c/Users/resha/Documents/Github/balancing_framework/fracdiff.py:187: FutureWarning: DataFrame.fillna with 'method' is deprecated and will raise in a future version. Use obj.ffill() or obj.bfill() instead.\n",
      "  series_f = series[[name]].fillna(method='ffill').dropna()\n",
      "/mnt/c/Users/resha/Documents/Github/balancing_framework/fracdiff.py:187: FutureWarning: DataFrame.fillna with 'method' is deprecated and will raise in a future version. Use obj.ffill() or obj.bfill() instead.\n",
      "  series_f = series[[name]].fillna(method='ffill').dropna()\n",
      "/mnt/c/Users/resha/Documents/Github/balancing_framework/fracdiff.py:187: FutureWarning: DataFrame.fillna with 'method' is deprecated and will raise in a future version. Use obj.ffill() or obj.bfill() instead.\n",
      "  series_f = series[[name]].fillna(method='ffill').dropna()\n",
      "/mnt/c/Users/resha/Documents/Github/balancing_framework/fracdiff.py:187: FutureWarning: DataFrame.fillna with 'method' is deprecated and will raise in a future version. Use obj.ffill() or obj.bfill() instead.\n",
      "  series_f = series[[name]].fillna(method='ffill').dropna()\n",
      "/mnt/c/Users/resha/Documents/Github/balancing_framework/fracdiff.py:187: FutureWarning: DataFrame.fillna with 'method' is deprecated and will raise in a future version. Use obj.ffill() or obj.bfill() instead.\n",
      "  series_f = series[[name]].fillna(method='ffill').dropna()\n",
      "/mnt/c/Users/resha/Documents/Github/balancing_framework/fracdiff.py:187: FutureWarning: DataFrame.fillna with 'method' is deprecated and will raise in a future version. Use obj.ffill() or obj.bfill() instead.\n",
      "  series_f = series[[name]].fillna(method='ffill').dropna()\n",
      "/mnt/c/Users/resha/Documents/Github/balancing_framework/fracdiff.py:187: FutureWarning: DataFrame.fillna with 'method' is deprecated and will raise in a future version. Use obj.ffill() or obj.bfill() instead.\n",
      "  series_f = series[[name]].fillna(method='ffill').dropna()\n",
      "/mnt/c/Users/resha/Documents/Github/balancing_framework/fracdiff.py:187: FutureWarning: DataFrame.fillna with 'method' is deprecated and will raise in a future version. Use obj.ffill() or obj.bfill() instead.\n",
      "  series_f = series[[name]].fillna(method='ffill').dropna()\n"
     ]
    },
    {
     "name": "stdout",
     "output_type": "stream",
     "text": [
      "racc_close_8640 stationary with d=0.4 stat windows =5 out of 9 p-values = [2.4900158019458106e-05, 0.13924630156132517, 0.004295011322728145, 2.7163676688247233e-11, 0.030791278237264404, 0.2284293063796194, 0.2790932627362922, 0.3870100808372342, 0.03598785571522498]\n",
      "aqr_momo_close_2880\n"
     ]
    },
    {
     "name": "stderr",
     "output_type": "stream",
     "text": [
      "/mnt/c/Users/resha/Documents/Github/balancing_framework/fracdiff.py:187: FutureWarning: DataFrame.fillna with 'method' is deprecated and will raise in a future version. Use obj.ffill() or obj.bfill() instead.\n",
      "  series_f = series[[name]].fillna(method='ffill').dropna()\n"
     ]
    },
    {
     "name": "stdout",
     "output_type": "stream",
     "text": [
      "aqr_momo_close_2880 stationary with d=0.0 stat windows =9 out of 9 p-values = [8.378642967908947e-23, 7.994709109649567e-23, 1.8791890202267388e-23, 6.926933974034265e-22, 1.8448086569899163e-22, 6.618341303589134e-23, 1.3090637526739281e-21, 5.513088163764149e-18, 1.139587183651186e-06]\n",
      "aqr_momo_close_5760\n"
     ]
    },
    {
     "name": "stderr",
     "output_type": "stream",
     "text": [
      "/mnt/c/Users/resha/Documents/Github/balancing_framework/fracdiff.py:187: FutureWarning: DataFrame.fillna with 'method' is deprecated and will raise in a future version. Use obj.ffill() or obj.bfill() instead.\n",
      "  series_f = series[[name]].fillna(method='ffill').dropna()\n"
     ]
    },
    {
     "name": "stdout",
     "output_type": "stream",
     "text": [
      "aqr_momo_close_5760 stationary with d=0.0 stat windows =9 out of 9 p-values = [1.0985830404795688e-14, 1.8478553444913374e-15, 4.542649462284728e-16, 1.2730044387831279e-11, 1.0280874169929612e-15, 2.4306974836814243e-18, 2.3032120635611696e-15, 1.3304520262650467e-12, 0.01359974223560976]\n",
      "aqr_momo_close_8640\n"
     ]
    },
    {
     "name": "stderr",
     "output_type": "stream",
     "text": [
      "/mnt/c/Users/resha/Documents/Github/balancing_framework/fracdiff.py:187: FutureWarning: DataFrame.fillna with 'method' is deprecated and will raise in a future version. Use obj.ffill() or obj.bfill() instead.\n",
      "  series_f = series[[name]].fillna(method='ffill').dropna()\n"
     ]
    },
    {
     "name": "stdout",
     "output_type": "stream",
     "text": [
      "aqr_momo_close_8640 stationary with d=0.0 stat windows =8 out of 9 p-values = [1.074082267157767e-14, 9.745378639605933e-14, 5.6657315506221e-14, 1.9746262653865023e-10, 3.1428186809267343e-12, 8.808412152366966e-14, 3.347692308398202e-11, 2.2204319014573836e-09, 0.21571703110977858]\n"
     ]
    }
   ],
   "source": [
    "X, fd_change_pct = frac_diff_bestd(X)"
   ]
  },
  {
   "cell_type": "code",
   "execution_count": 5,
   "metadata": {},
   "outputs": [],
   "source": [
    "# filter the labels by the fractionally differentiated data index\n",
    "y = df['tp_0.004'][X.index]\n",
    "fd_df = pd.concat([X, y], axis=1).dropna()\n",
    "\n",
    "with open('spy5m_ta_fracdiff.pkl', 'wb') as f:\n",
    "    pickle.dump(fd_df, f)"
   ]
  },
  {
   "cell_type": "code",
   "execution_count": 2,
   "metadata": {},
   "outputs": [],
   "source": [
    "with open('/mnt/c/Users/resha/Documents/Github/balancing_framework/spy5m_ta_fracdiff.pkl', 'rb') as f:\n",
    "    fd_df = pickle.load(f)"
   ]
  },
  {
   "cell_type": "code",
   "execution_count": null,
   "metadata": {},
   "outputs": [],
   "source": [
    "mismatch_count = 0\n",
    "tmp = df_ta.copy().loc[fd_df.index]\n",
    "for col in fd_df.columns:\n",
    "    if col in tmp.columns:\n",
    "        fd_df_col = fd_df[col].reset_index(drop=True)\n",
    "        df_ta_col = tmp[col].reset_index(drop=True)\n",
    "        if not (fd_df_col == df_ta_col).all():\n",
    "            mismatch_count += 1\n",
    "            print(col)\n",
    "\n",
    "print(mismatch_count)"
   ]
  },
  {
   "cell_type": "code",
   "execution_count": 17,
   "metadata": {},
   "outputs": [
    {
     "data": {
      "text/plain": [
       "False"
      ]
     },
     "execution_count": 17,
     "metadata": {},
     "output_type": "execute_result"
    }
   ],
   "source": [
    "(df_ta.loc[fd_df.index]['close'] == fd_df['close']).all()"
   ]
  },
  {
   "cell_type": "code",
   "execution_count": 15,
   "metadata": {},
   "outputs": [
    {
     "data": {
      "text/plain": [
       "timestamp\n",
       "2004-03-09 12:10:00-05:00    19.353838\n",
       "2004-03-09 12:15:00-05:00    19.255479\n",
       "2004-03-09 12:20:00-05:00    19.249110\n",
       "2004-03-09 12:25:00-05:00    19.407708\n",
       "2004-03-09 12:30:00-05:00    19.362029\n",
       "                               ...    \n",
       "2024-04-30 19:35:00-04:00    83.170620\n",
       "2024-04-30 19:40:00-04:00    83.395056\n",
       "2024-04-30 19:45:00-04:00    83.463013\n",
       "2024-04-30 19:50:00-04:00    83.290476\n",
       "2024-04-30 19:55:00-04:00    83.613067\n",
       "Name: close, Length: 806979, dtype: float64"
      ]
     },
     "execution_count": 15,
     "metadata": {},
     "output_type": "execute_result"
    }
   ],
   "source": [
    "fd_df['close']"
   ]
  },
  {
   "cell_type": "code",
   "execution_count": null,
   "metadata": {},
   "outputs": [],
   "source": []
  }
 ],
 "metadata": {
  "kernelspec": {
   "display_name": "clfr",
   "language": "python",
   "name": "python3"
  },
  "language_info": {
   "codemirror_mode": {
    "name": "ipython",
    "version": 3
   },
   "file_extension": ".py",
   "mimetype": "text/x-python",
   "name": "python",
   "nbconvert_exporter": "python",
   "pygments_lexer": "ipython3",
   "version": "3.11.8"
  }
 },
 "nbformat": 4,
 "nbformat_minor": 2
}
