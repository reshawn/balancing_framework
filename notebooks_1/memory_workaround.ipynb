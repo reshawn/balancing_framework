{
 "cells": [
  {
   "cell_type": "code",
   "execution_count": 1,
   "metadata": {},
   "outputs": [],
   "source": [
    "from sklearn.ensemble import RandomForestClassifier\n",
    "import pickle\n",
    "import pandas as pd\n",
    "import numpy as np\n",
    "\n",
    "with open('/mnt/c/Users/resha/Documents/Github/balancing_framework/spy5m_bintp_labelled.pkl', 'rb') as f:\n",
    "    df_original = pickle.load(f)\n",
    "with open('/mnt/c/Users/resha/Documents/Github/balancing_framework/spy5m_bintp004_episodes_fracdiff.pkl', 'rb') as f:\n",
    "    df_fd = pickle.load(f)\n",
    "with open('/mnt/c/Users/resha/Documents/Github/balancing_framework/spy5m_labelled_episodes_ta.pkl', 'rb') as f:\n",
    "    df_ta = pickle.load(f)\n",
    "    df_ta['label'] = df_original['tp_0.004'][df_ta.index]\n",
    "with open('/mnt/c/Users/resha/Documents/Github/balancing_framework/spy5m_ta_fracdiff.pkl', 'rb') as f:\n",
    "    df_fd_ta = pickle.load(f)\n",
    "    df_fd_ta['label'] = df_original['tp_0.004'][df_ta.index]\n",
    "# PZ algorithm has some look ahead so remove the episode labels, will be uesd only for some kind of analysis afterwards\n",
    "# df = df_original.drop(columns=['episode']) \n",
    "df = df_original[[\"volume\", \"vwap\", \"open\", \"close\", \"high\", \"low\", \"transactions\", \"tp_0.004\"]].rename(columns={\"tp_0.004\": \"label\"}) # 0.01 0.001\n",
    "# df\n",
    "\n",
    "X = pd.DataFrame()\n",
    "y = df['label']\n",
    "data_forms = ['ta_original', 'ta_frac_diff']\n",
    "\n",
    "del df_original\n",
    "del df_fd\n",
    "\n",
    "for data_form in data_forms:\n",
    "    if data_form == 'frac_diff':\n",
    "        X = X.join(df_fd.drop(columns=['label']).add_suffix(f'_{data_form}'), how='outer')\n",
    "    elif data_form == 'original':\n",
    "        X = X.join(df.drop(columns=['label']).add_suffix(f'_{data_form}'), how='outer')\n",
    "    elif data_form == 'first_order_diff':\n",
    "        # if wanted to omit cols from diff\n",
    "        # diff = df.drop(['volume', 'transactions', 'label'], axis=1).diff()\n",
    "        # diff = diff.join(df[['volume', 'transactions']])\n",
    "        diff = df.drop(['label'], axis=1).diff().add_suffix(f'_{data_form}')\n",
    "        X = X.join(diff, how='outer')\n",
    "    elif data_form == 'ta_original':\n",
    "        X = X.join(df_ta.drop(columns=['label']).add_suffix(f'_{data_form}'), how='outer')\n",
    "        del df_ta\n",
    "    elif data_form == 'ta_fod':\n",
    "        diff = df_ta.drop(['label'], axis=1).diff().add_suffix(f'_{data_form}')\n",
    "        X = X.join(diff, how='outer')\n",
    "    elif data_form == 'ta_frac_diff':\n",
    "        X = X.join(df_fd_ta.drop(columns=['label']).add_suffix(f'_{data_form}'), how='outer')\n",
    "        del df_fd_ta\n",
    "        \n",
    "        \n",
    "X.dropna(inplace=True)\n",
    "# drop y with index not in X\n",
    "y = y[y.index.isin(X.index)]\n"
   ]
  },
  {
   "cell_type": "code",
   "execution_count": null,
   "metadata": {},
   "outputs": [],
   "source": [
    "clf = RandomForestClassifier(n_estimators=50, max_depth=32)\n",
    "clf.fit(X, y)"
   ]
  },
  {
   "cell_type": "code",
   "execution_count": null,
   "metadata": {},
   "outputs": [],
   "source": []
  }
 ],
 "metadata": {
  "kernelspec": {
   "display_name": "clfr",
   "language": "python",
   "name": "python3"
  },
  "language_info": {
   "codemirror_mode": {
    "name": "ipython",
    "version": 3
   },
   "file_extension": ".py",
   "mimetype": "text/x-python",
   "name": "python",
   "nbconvert_exporter": "python",
   "pygments_lexer": "ipython3",
   "version": "3.11.8"
  }
 },
 "nbformat": 4,
 "nbformat_minor": 2
}
