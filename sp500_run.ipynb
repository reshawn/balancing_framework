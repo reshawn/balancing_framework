{
 "cells": [
  {
   "cell_type": "markdown",
   "metadata": {},
   "source": [
    "# Dataset"
   ]
  },
  {
   "cell_type": "code",
   "execution_count": 14,
   "metadata": {},
   "outputs": [],
   "source": [
    "import pickle\n",
    "import pandas as pd \n",
    "\n",
    "with open('spy5m_labelled_episodes.pkl', 'rb') as f:\n",
    "    df = pickle.load(f)"
   ]
  },
  {
   "cell_type": "code",
   "execution_count": 23,
   "metadata": {},
   "outputs": [],
   "source": [
    "episodes = []\n",
    "titles = []\n",
    "for ep in df.episode.unique():\n",
    "    tmp = df[df.episode == ep]\n",
    "    y = tmp.label\n",
    "    X = tmp.drop(columns=['episode', 'label'])\n",
    "    episodes.append((X, y))\n",
    "    titles.append(f'Episode_{ep}')\n",
    "dataset_name = 'sp500'\n",
    "model_name = 'random_forest' #  random_forest\n",
    "num_runs = 1\n",
    "test_size = None"
   ]
  },
  {
   "cell_type": "markdown",
   "metadata": {},
   "source": [
    "# Run"
   ]
  },
  {
   "cell_type": "code",
   "execution_count": null,
   "metadata": {},
   "outputs": [],
   "source": [
    "from framework import run_measurements\n",
    "\n",
    "ada_res, cons_res, cons_res_full, prep_info = run_measurements(episodes, titles, dataset_name, model_name, num_runs, test_size)\n",
    "ada_res_r, cons_res_r, cons_res_full_r, prep_info_r = run_measurements(episodes, titles, dataset_name, 'random_forest', num_runs, test_size, rocket=True)\n",
    "ada_res_fd, cons_res_fd, cons_res_full_fd, prep_info_fd = run_measurements(episodes, titles, dataset_name, model_name, num_runs, test_size, frac_diff=True)"
   ]
  },
  {
   "cell_type": "code",
   "execution_count": null,
   "metadata": {},
   "outputs": [],
   "source": [
    "with pd.ExcelWriter('test.xlsx', engine='xlsxwriter') as writer:  \n",
    "    ada_res.to_excel(writer, sheet_name=dataset_name, startrow=1, startcol=0)\n",
    "    cons_res.to_excel(writer, sheet_name=dataset_name, startrow=8, startcol=0)\n",
    "    ada_res_r.to_excel(writer, sheet_name=dataset_name, startrow=15, startcol=0)\n",
    "    cons_res_r.to_excel(writer, sheet_name=dataset_name, startrow=22, startcol=0)\n",
    "    ada_res_fd.to_excel(writer, sheet_name=dataset_name, startrow=29, startcol=0)\n",
    "    cons_res_fd.to_excel(writer, sheet_name=dataset_name, startrow=36, startcol=0)\n"
   ]
  }
 ],
 "metadata": {
  "kernelspec": {
   "display_name": "clfr",
   "language": "python",
   "name": "python3"
  },
  "language_info": {
   "codemirror_mode": {
    "name": "ipython",
    "version": 3
   },
   "file_extension": ".py",
   "mimetype": "text/x-python",
   "name": "python",
   "nbconvert_exporter": "python",
   "pygments_lexer": "ipython3",
   "version": "3.11.8"
  }
 },
 "nbformat": 4,
 "nbformat_minor": 2
}
